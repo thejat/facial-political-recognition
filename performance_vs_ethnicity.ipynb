{
 "cells": [
  {
   "cell_type": "code",
   "execution_count": 19,
   "metadata": {},
   "outputs": [],
   "source": [
    "import os\n",
    "import random \n",
    "import pandas as pd\n",
    "import warnings\n",
    "import sys\n",
    "from sklearn.linear_model import LogisticRegression\n",
    "from sklearn.metrics import roc_curve\n",
    "from tqdm import tqdm\n",
    "\n",
    "# local imports\n",
    "sys.path.append(r\"./utils\")\n",
    "from utils import utils\n",
    "\n",
    "random.seed(1234)\n",
    "warnings.filterwarnings('ignore')"
   ]
  },
  {
   "cell_type": "code",
   "execution_count": 5,
   "metadata": {},
   "outputs": [],
   "source": [
    "COLAB = False\n",
    "DEBUG = True\n",
    "DATA_DIR = \"./data/full/\"\n",
    "\n",
    "if DEBUG:\n",
    "    DATA_DIR = \"./data/sample/\"\n",
    "\n",
    "DATA_DROP_COLS = \\\n",
    "           ['Unnamed: 0', # index columns\n",
    "            # 'pol',  # label column\n",
    "            'gender', # self reported and filtered already\n",
    "            # 'age', # self-reported  \n",
    "            'country', # self reported and filtered already\n",
    "            'userid', # index equivalent column \n",
    "            'pol_dat_us', # redundant columns with label\n",
    "            'pol_dat_ca', # redundant columns with label\n",
    "            'pol_dat_uk', # redundant columns with label\n",
    "            'pol_fb_us', # redundant columns with label\n",
    "            'database', # filtered already \n",
    "            'ethnicity.value' # filtered already\n",
    "            ]"
   ]
  },
  {
   "cell_type": "code",
   "execution_count": 3,
   "metadata": {
    "colab": {
     "base_uri": "https://localhost:8080/"
    },
    "executionInfo": {
     "elapsed": 27282,
     "status": "ok",
     "timestamp": 1628212818347,
     "user": {
      "displayName": "Babandeep Singh",
      "photoUrl": "",
      "userId": "14171741079947983888"
     },
     "user_tz": -330
    },
    "id": "IGzNWI5xsm4D",
    "outputId": "da52c7bc-7ec7-4170-ca05-d01fe3edc9de"
   },
   "outputs": [],
   "source": [
    "if COLAB:\n",
    "  from google.colab import drive\n",
    "  drive.mount('/content/drive')\n",
    "    \n",
    "  #TODO: untested for COLAB == True, more might be needed here\n",
    "  DATA_DIR = \"/content/drive/Shareddrives/Facial Recognition/data/\""
   ]
  },
  {
   "cell_type": "code",
   "execution_count": 6,
   "metadata": {},
   "outputs": [
    {
     "name": "stderr",
     "output_type": "stream",
     "text": [
      "100%|██████████| 9/9 [00:00<00:00, 3766.96it/s]"
     ]
    },
    {
     "name": "stdout",
     "output_type": "stream",
     "text": [
      "./data/sample/US_1_FB/segment_united states_1_fb_white.csv\n",
      "./data/sample/US_1_FB/segment_united states_1_fb_asian.csv\n",
      "./data/sample/US_1_FB/segment_united states_1_fb_india.csv\n",
      "./data/sample/US_1_FB/segment_united states_1_fb_black.csv\n",
      "./data/sample/UK_1_dating/segment_united kingdom_1_dating_white.csv\n",
      "./data/sample/UK_1_dating/segment_united kingdom_1_dating_black.csv\n",
      "./data/sample/UK_1_dating/segment_united kingdom_1_dating_india.csv\n",
      "./data/sample/UK_1_dating/segment_united kingdom_1_dating_asian.csv\n",
      "./data/sample/Canada_1_dating/segment_canada_1_dating_india.csv\n",
      "./data/sample/Canada_1_dating/segment_canada_1_dating_asian.csv\n",
      "./data/sample/Canada_1_dating/segment_canada_1_dating_black.csv\n",
      "./data/sample/Canada_1_dating/segment_canada_1_dating_white.csv\n",
      "./data/sample/Canada_0_dating/segment_canada_0_dating_asian.csv\n",
      "./data/sample/Canada_0_dating/segment_canada_0_dating_india.csv\n",
      "./data/sample/Canada_0_dating/segment_canada_0_dating_white.csv\n",
      "./data/sample/Canada_0_dating/segment_canada_0_dating_black.csv\n",
      "./data/sample/US_0_dating/segment_united states_0_dating_white.csv\n",
      "./data/sample/US_0_dating/segment_united states_0_dating_black.csv\n",
      "./data/sample/US_0_dating/segment_united states_0_dating_india.csv\n",
      "./data/sample/US_0_dating/segment_united states_0_dating_asian.csv\n",
      "./data/sample/US_0_FB/segment_united states_0_fb_asian.csv\n",
      "./data/sample/US_0_FB/segment_united states_0_fb_india.csv\n",
      "./data/sample/US_0_FB/segment_united states_0_fb_white.csv\n",
      "./data/sample/US_0_FB/segment_united states_0_fb_black.csv\n",
      "./data/sample/US_1_dating/segment_united states_1_dating_asian.csv\n",
      "./data/sample/US_1_dating/segment_united states_1_dating_black.csv\n",
      "./data/sample/US_1_dating/segment_united states_1_dating_india.csv\n",
      "./data/sample/US_1_dating/segment_united states_1_dating_white.csv\n",
      "./data/sample/UK_0_dating/segment_united kingdom_0_dating_black.csv\n",
      "./data/sample/UK_0_dating/segment_united kingdom_0_dating_india.csv\n",
      "./data/sample/UK_0_dating/segment_united kingdom_0_dating_white.csv\n",
      "./data/sample/UK_0_dating/segment_united kingdom_0_dating_asian.csv\n"
     ]
    },
    {
     "name": "stderr",
     "output_type": "stream",
     "text": [
      "\n"
     ]
    }
   ],
   "source": [
    "# List of data file paths\n",
    "\n",
    "folders = os.listdir(DATA_DIR)\n",
    "dataset_paths = []\n",
    "for folder in tqdm(folders):\n",
    "  csv_files = os.listdir(DATA_DIR + folder)\n",
    "  for csv in csv_files:\n",
    "    if '.csv' in csv:\n",
    "      if DEBUG: print(DATA_DIR + folder + \"/\" + csv)\n",
    "      dataset_paths.append(DATA_DIR + folder + \"/\" + csv)"
   ]
  },
  {
   "cell_type": "code",
   "execution_count": 23,
   "metadata": {
    "id": "LbtQu6okxgoO"
   },
   "outputs": [
    {
     "name": "stderr",
     "output_type": "stream",
     "text": [
      "1it [00:12, 12.33s/it]"
     ]
    },
    {
     "name": "stdout",
     "output_type": "stream",
     "text": [
      " Completed 4.17% \n"
     ]
    },
    {
     "name": "stderr",
     "output_type": "stream",
     "text": [
      "2it [00:24, 12.17s/it]"
     ]
    },
    {
     "name": "stdout",
     "output_type": "stream",
     "text": [
      " Completed 8.33% \n"
     ]
    },
    {
     "name": "stderr",
     "output_type": "stream",
     "text": [
      "3it [00:36, 12.12s/it]"
     ]
    },
    {
     "name": "stdout",
     "output_type": "stream",
     "text": [
      " Completed 12.5% \n"
     ]
    },
    {
     "name": "stderr",
     "output_type": "stream",
     "text": [
      "4it [00:48, 12.02s/it]"
     ]
    },
    {
     "name": "stdout",
     "output_type": "stream",
     "text": [
      " Completed 16.67% \n"
     ]
    },
    {
     "name": "stderr",
     "output_type": "stream",
     "text": [
      "5it [01:00, 12.04s/it]"
     ]
    },
    {
     "name": "stdout",
     "output_type": "stream",
     "text": [
      " Completed 20.83% \n"
     ]
    },
    {
     "name": "stderr",
     "output_type": "stream",
     "text": [
      "6it [01:12, 11.95s/it]"
     ]
    },
    {
     "name": "stdout",
     "output_type": "stream",
     "text": [
      " Completed 25.0% \n"
     ]
    },
    {
     "name": "stderr",
     "output_type": "stream",
     "text": [
      "7it [01:20, 10.89s/it]"
     ]
    },
    {
     "name": "stdout",
     "output_type": "stream",
     "text": [
      " Completed 29.17% \n"
     ]
    },
    {
     "name": "stderr",
     "output_type": "stream",
     "text": [
      "8it [01:32, 11.24s/it]"
     ]
    },
    {
     "name": "stdout",
     "output_type": "stream",
     "text": [
      " Completed 33.33% \n"
     ]
    },
    {
     "name": "stderr",
     "output_type": "stream",
     "text": [
      "8it [01:33, 11.66s/it]\n"
     ]
    },
    {
     "ename": "KeyError",
     "evalue": "\"None of [Index(['age'], dtype='object')] are in the [columns]\"",
     "output_type": "error",
     "traceback": [
      "\u001b[0;31m---------------------------------------------------------------------------\u001b[0m",
      "\u001b[0;31mKeyError\u001b[0m                                  Traceback (most recent call last)",
      "\u001b[0;32m<ipython-input-23-cea9d17067f5>\u001b[0m in \u001b[0;36m<module>\u001b[0;34m\u001b[0m\n\u001b[1;32m     13\u001b[0m \u001b[0;34m\u001b[0m\u001b[0m\n\u001b[1;32m     14\u001b[0m   \u001b[0;31m# image and self reported\u001b[0m\u001b[0;34m\u001b[0m\u001b[0;34m\u001b[0m\u001b[0;34m\u001b[0m\u001b[0m\n\u001b[0;32m---> 15\u001b[0;31m   \u001b[0mSR_df\u001b[0m \u001b[0;34m=\u001b[0m \u001b[0mdata\u001b[0m\u001b[0;34m[\u001b[0m\u001b[0;34m[\u001b[0m\u001b[0;34m'age'\u001b[0m\u001b[0;34m]\u001b[0m\u001b[0;34m]\u001b[0m\u001b[0;34m\u001b[0m\u001b[0;34m\u001b[0m\u001b[0m\n\u001b[0m\u001b[1;32m     16\u001b[0m   \u001b[0mimg_SR_df\u001b[0m \u001b[0;34m=\u001b[0m \u001b[0mpd\u001b[0m\u001b[0;34m.\u001b[0m\u001b[0mconcat\u001b[0m\u001b[0;34m(\u001b[0m\u001b[0;34m[\u001b[0m\u001b[0mimg_df\u001b[0m\u001b[0;34m,\u001b[0m \u001b[0mSR_df\u001b[0m \u001b[0;34m]\u001b[0m\u001b[0;34m,\u001b[0m \u001b[0maxis\u001b[0m \u001b[0;34m=\u001b[0m\u001b[0;36m1\u001b[0m\u001b[0;34m)\u001b[0m\u001b[0;34m\u001b[0m\u001b[0;34m\u001b[0m\u001b[0m\n\u001b[1;32m     17\u001b[0m \u001b[0;34m\u001b[0m\u001b[0m\n",
      "\u001b[0;32m~/local/bin/miniconda3/envs/datasci-dev/lib/python3.8/site-packages/pandas/core/frame.py\u001b[0m in \u001b[0;36m__getitem__\u001b[0;34m(self, key)\u001b[0m\n\u001b[1;32m   2906\u001b[0m             \u001b[0;32mif\u001b[0m \u001b[0mis_iterator\u001b[0m\u001b[0;34m(\u001b[0m\u001b[0mkey\u001b[0m\u001b[0;34m)\u001b[0m\u001b[0;34m:\u001b[0m\u001b[0;34m\u001b[0m\u001b[0;34m\u001b[0m\u001b[0m\n\u001b[1;32m   2907\u001b[0m                 \u001b[0mkey\u001b[0m \u001b[0;34m=\u001b[0m \u001b[0mlist\u001b[0m\u001b[0;34m(\u001b[0m\u001b[0mkey\u001b[0m\u001b[0;34m)\u001b[0m\u001b[0;34m\u001b[0m\u001b[0;34m\u001b[0m\u001b[0m\n\u001b[0;32m-> 2908\u001b[0;31m             \u001b[0mindexer\u001b[0m \u001b[0;34m=\u001b[0m \u001b[0mself\u001b[0m\u001b[0;34m.\u001b[0m\u001b[0mloc\u001b[0m\u001b[0;34m.\u001b[0m\u001b[0m_get_listlike_indexer\u001b[0m\u001b[0;34m(\u001b[0m\u001b[0mkey\u001b[0m\u001b[0;34m,\u001b[0m \u001b[0maxis\u001b[0m\u001b[0;34m=\u001b[0m\u001b[0;36m1\u001b[0m\u001b[0;34m,\u001b[0m \u001b[0mraise_missing\u001b[0m\u001b[0;34m=\u001b[0m\u001b[0;32mTrue\u001b[0m\u001b[0;34m)\u001b[0m\u001b[0;34m[\u001b[0m\u001b[0;36m1\u001b[0m\u001b[0;34m]\u001b[0m\u001b[0;34m\u001b[0m\u001b[0;34m\u001b[0m\u001b[0m\n\u001b[0m\u001b[1;32m   2909\u001b[0m \u001b[0;34m\u001b[0m\u001b[0m\n\u001b[1;32m   2910\u001b[0m         \u001b[0;31m# take() does not accept boolean indexers\u001b[0m\u001b[0;34m\u001b[0m\u001b[0;34m\u001b[0m\u001b[0;34m\u001b[0m\u001b[0m\n",
      "\u001b[0;32m~/local/bin/miniconda3/envs/datasci-dev/lib/python3.8/site-packages/pandas/core/indexing.py\u001b[0m in \u001b[0;36m_get_listlike_indexer\u001b[0;34m(self, key, axis, raise_missing)\u001b[0m\n\u001b[1;32m   1252\u001b[0m             \u001b[0mkeyarr\u001b[0m\u001b[0;34m,\u001b[0m \u001b[0mindexer\u001b[0m\u001b[0;34m,\u001b[0m \u001b[0mnew_indexer\u001b[0m \u001b[0;34m=\u001b[0m \u001b[0max\u001b[0m\u001b[0;34m.\u001b[0m\u001b[0m_reindex_non_unique\u001b[0m\u001b[0;34m(\u001b[0m\u001b[0mkeyarr\u001b[0m\u001b[0;34m)\u001b[0m\u001b[0;34m\u001b[0m\u001b[0;34m\u001b[0m\u001b[0m\n\u001b[1;32m   1253\u001b[0m \u001b[0;34m\u001b[0m\u001b[0m\n\u001b[0;32m-> 1254\u001b[0;31m         \u001b[0mself\u001b[0m\u001b[0;34m.\u001b[0m\u001b[0m_validate_read_indexer\u001b[0m\u001b[0;34m(\u001b[0m\u001b[0mkeyarr\u001b[0m\u001b[0;34m,\u001b[0m \u001b[0mindexer\u001b[0m\u001b[0;34m,\u001b[0m \u001b[0maxis\u001b[0m\u001b[0;34m,\u001b[0m \u001b[0mraise_missing\u001b[0m\u001b[0;34m=\u001b[0m\u001b[0mraise_missing\u001b[0m\u001b[0;34m)\u001b[0m\u001b[0;34m\u001b[0m\u001b[0;34m\u001b[0m\u001b[0m\n\u001b[0m\u001b[1;32m   1255\u001b[0m         \u001b[0;32mreturn\u001b[0m \u001b[0mkeyarr\u001b[0m\u001b[0;34m,\u001b[0m \u001b[0mindexer\u001b[0m\u001b[0;34m\u001b[0m\u001b[0;34m\u001b[0m\u001b[0m\n\u001b[1;32m   1256\u001b[0m \u001b[0;34m\u001b[0m\u001b[0m\n",
      "\u001b[0;32m~/local/bin/miniconda3/envs/datasci-dev/lib/python3.8/site-packages/pandas/core/indexing.py\u001b[0m in \u001b[0;36m_validate_read_indexer\u001b[0;34m(self, key, indexer, axis, raise_missing)\u001b[0m\n\u001b[1;32m   1296\u001b[0m             \u001b[0;32mif\u001b[0m \u001b[0mmissing\u001b[0m \u001b[0;34m==\u001b[0m \u001b[0mlen\u001b[0m\u001b[0;34m(\u001b[0m\u001b[0mindexer\u001b[0m\u001b[0;34m)\u001b[0m\u001b[0;34m:\u001b[0m\u001b[0;34m\u001b[0m\u001b[0;34m\u001b[0m\u001b[0m\n\u001b[1;32m   1297\u001b[0m                 \u001b[0maxis_name\u001b[0m \u001b[0;34m=\u001b[0m \u001b[0mself\u001b[0m\u001b[0;34m.\u001b[0m\u001b[0mobj\u001b[0m\u001b[0;34m.\u001b[0m\u001b[0m_get_axis_name\u001b[0m\u001b[0;34m(\u001b[0m\u001b[0maxis\u001b[0m\u001b[0;34m)\u001b[0m\u001b[0;34m\u001b[0m\u001b[0;34m\u001b[0m\u001b[0m\n\u001b[0;32m-> 1298\u001b[0;31m                 \u001b[0;32mraise\u001b[0m \u001b[0mKeyError\u001b[0m\u001b[0;34m(\u001b[0m\u001b[0;34mf\"None of [{key}] are in the [{axis_name}]\"\u001b[0m\u001b[0;34m)\u001b[0m\u001b[0;34m\u001b[0m\u001b[0;34m\u001b[0m\u001b[0m\n\u001b[0m\u001b[1;32m   1299\u001b[0m \u001b[0;34m\u001b[0m\u001b[0m\n\u001b[1;32m   1300\u001b[0m             \u001b[0;31m# We (temporarily) allow for some missing keys with .loc, except in\u001b[0m\u001b[0;34m\u001b[0m\u001b[0;34m\u001b[0m\u001b[0;34m\u001b[0m\u001b[0m\n",
      "\u001b[0;31mKeyError\u001b[0m: \"None of [Index(['age'], dtype='object')] are in the [columns]\""
     ]
    }
   ],
   "source": [
    "class_distribution = []\n",
    "results = []\n",
    "\n",
    "for c, dataset_path in tqdm(enumerate(dataset_paths)):\n",
    "  data = utils.get_clean_data(dataset_path, DATA_DROP_COLS)\n",
    "\n",
    "  label_df = data['pol']\n",
    "\n",
    "  # image features \n",
    "  image_cols = list(map(str, range(1,2049)))\n",
    "  image_feature_df = data[image_cols]\n",
    "  img_df = pd.concat([label_df,image_feature_df], axis =1)\n",
    "\n",
    "  # image and self reported \n",
    "  SR_df = data[['age']]\n",
    "  img_SR_df = pd.concat([img_df, SR_df ], axis =1)\n",
    "\n",
    "  # image and extracted features \n",
    "  extracted_df = data.drop([ 'age','pol'], axis =1)\n",
    "\n",
    "  cat_cols = extracted_df.select_dtypes(include=['object']).columns\n",
    "  if len(cat_cols) > 0:\n",
    "    num_df = pd.get_dummies(extracted_df[list(cat_cols)])\n",
    "    extracted_df = pd.concat([label_df, extracted_df.drop(cat_cols,axis =1), num_df], axis = 1)\n",
    "  else:\n",
    "    extracted_df = pd.concat([label_df, extracted_df], axis = 1)\n",
    "  \n",
    "  # extracted features and self_reported (whole dataset)\n",
    "  EX_SR_df = pd.concat([ SR_df, extracted_df ], axis =1)\n",
    "\n",
    "  \"\"\"# training the models and getting the values \"\"\"\n",
    "  # instantiate models \n",
    "  lr = LogisticRegression(penalty='l1',solver=\"saga\")\n",
    "\n",
    "  # getting accuracies \n",
    "  feature_auc, feature_acc, feature_samples = utils.fit_and_get_metrics(data =img_df,model=lr)\n",
    "  # print(feature_auc, feature_acc, feature_samples, sep = \" | \")\n",
    "  res = [\"Only Image Features\",feature_auc, feature_acc, csv[8:-4]]\n",
    "  results.append(res)\n",
    "\n",
    "  # getting accuracies \n",
    "  feature_auc, feature_acc, feature_samples = utils.fit_and_get_metrics(data =img_SR_df ,model=lr)\n",
    "  # print(feature_auc, feature_acc, feature_samples, sep = \" | \")\n",
    "  res = [\"Image and Self-reported Features\",feature_auc, feature_acc, csv[8:-4]]\n",
    "  results.append(res)\n",
    "\n",
    "  # getting accuracies \n",
    "  feature_auc, feature_acc, feature_samples = utils.fit_and_get_metrics(data =extracted_df ,model=lr)\n",
    "  # print(feature_auc, feature_acc, feature_samples, sep = \" | \")\n",
    "  res = [\"Image and Extracted Features\",feature_auc, feature_acc,csv[8:-4]]\n",
    "  results.append(res)\n",
    "\n",
    "  # getting accuracies \n",
    "  feature_auc, feature_acc, feature_samples = utils.fit_and_get_metrics(data =EX_SR_df ,model=lr)\n",
    "  # print(feature_auc, feature_acc, feature_samples, sep = \" | \")\n",
    "  res = [\"Image, SR and Extracted Features\",feature_auc, feature_acc,csv[8:-4]]\n",
    "  results.append(res)\n",
    "\n",
    "  # saving the results \n",
    "  # utils.save_segment_results(results)\n",
    "\n",
    "  c+=1\n",
    "  print(f\" Completed {round((c/24)*100 ,2)}% \")"
   ]
  },
  {
   "cell_type": "code",
   "execution_count": null,
   "metadata": {},
   "outputs": [],
   "source": []
  }
 ],
 "metadata": {
  "colab": {
   "collapsed_sections": [],
   "name": "Ethnicity_segments_LR.ipynb",
   "provenance": []
  },
  "kernelspec": {
   "display_name": "Python 3",
   "language": "python",
   "name": "python3"
  },
  "language_info": {
   "codemirror_mode": {
    "name": "ipython",
    "version": 3
   },
   "file_extension": ".py",
   "mimetype": "text/x-python",
   "name": "python",
   "nbconvert_exporter": "python",
   "pygments_lexer": "ipython3",
   "version": "3.8.11"
  }
 },
 "nbformat": 4,
 "nbformat_minor": 4
}
