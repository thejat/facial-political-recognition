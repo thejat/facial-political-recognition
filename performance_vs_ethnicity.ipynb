{
 "cells": [
  {
   "cell_type": "code",
   "execution_count": 5,
   "source": [
    "# Imports\n",
    "\n",
    "import os\n",
    "import pandas as pd\n",
    "import sys\n",
    "from sklearn.model_selection import train_test_split\n",
    "from tqdm import tqdm\n",
    "from loguru import logger\n",
    "from pathlib import Path\n",
    "\n",
    "# Local imports\n",
    "sys.path.append(r\"./utils\")\n",
    "from utils import utils"
   ],
   "outputs": [],
   "metadata": {}
  },
  {
   "cell_type": "code",
   "execution_count": 6,
   "source": [
    "# Constants\n",
    "\n",
    "SAMPLE_DATA = True\n",
    "DEBUG_MODEL = True\n",
    "\n",
    "GROUP_NAME = \"ethnicity_groups\"  # TODO : Changed this for ethnicity segments. \n",
    "MODEL_DICT = \\\n",
    "            {\"NN\": {'epochs': 25} , \n",
    "             \"LR\": {'max_iter': 100}\n",
    "            }\n",
    "SELF_REPORTED_COLS = \\\n",
    "           ['age',\n",
    "            # 'country_canada', \n",
    "            # 'country_united kingdom',\n",
    "            # 'country_united states',\n",
    "            # 'database_dating',\n",
    "            # 'database_fb',\n",
    "            # 'gender',\n",
    "           ]\n",
    "DATA_DROP_COLS = \\\n",
    "           ['Unnamed: 0', # index columns\n",
    "            # 'pol',  # label column\n",
    "            'gender', # self reported and filtered already\n",
    "            # 'age', # self-reported  \n",
    "            'country', # self reported and filtered already\n",
    "            'userid', # index equivalent column \n",
    "            'pol_dat_us', # redundant columns with label\n",
    "            'pol_dat_ca', # redundant columns with label\n",
    "            'pol_dat_uk', # redundant columns with label\n",
    "            'pol_fb_us', # redundant columns with label\n",
    "            'database', # filtered already \n",
    "            'ethnicity.value' # filtered already\n",
    "            ]\n",
    "RESULTS_COLS = \\\n",
    "            [\"Group Name\", \n",
    "             \"Model\", \n",
    "             \"Feature Set\", \n",
    "             \"Test AUC\", \n",
    "             \"Test Accuracy\",\n",
    "            ]\n",
    "DATA_DIR = \"./data/full/\"\n",
    "RESULTS_DIR = f\"./results/full/{GROUP_NAME}/\" #TODO: ensure that the folder exists\n",
    "RESULTS_STATS_FILENAME = GROUP_NAME + '.csv'\n",
    "RESULTS_MODEL_FILENAME_PREFIX = GROUP_NAME\n",
    "\n",
    "if SAMPLE_DATA:\n",
    "  DATA_DIR = \"./data/sample/\"\n",
    "  RESULTS_DIR = f\"./results/sample/{GROUP_NAME}/\"\n",
    "  ASSERT_DATA_SHAPE_0 = 31742\n",
    "  ASSERT_DATA_SHAPE_1 = 2092\n",
    "  DATA_DROP_COLS = DATA_DROP_COLS \\\n",
    "                  + ['Unnamed: 0.1'] #TODO: Regenerate sample with index=False and remove this\n",
    "\n",
    "if DEBUG_MODEL:\n",
    "  MODEL_DICT = \\\n",
    "            {\"NN\": {'epochs': 1} , \n",
    "             \"LR\": {'max_iter': 1}\n",
    "            }\n",
    "\n",
    "logger.debug(f\"Started the script for {GROUP_NAME}.\")"
   ],
   "outputs": [
    {
     "output_type": "stream",
     "name": "stderr",
     "text": [
      "2021-08-18 19:00:18.361 | DEBUG    | __main__:<module>:60 - Started the script for ethnicity_groups.\n"
     ]
    }
   ],
   "metadata": {}
  },
  {
   "cell_type": "code",
   "execution_count": 7,
   "source": [
    "# Read datasets\n",
    "\n",
    "folders = os.listdir(DATA_DIR)\n",
    "dataset_paths = []\n",
    "for folder in tqdm(folders):\n",
    "  logger.debug(f\"In folder {folder}.\")\n",
    "  csv_files = os.listdir(DATA_DIR + folder)\n",
    "  for csv in csv_files:\n",
    "    if '.csv' in csv:\n",
    "      logger.debug(DATA_DIR + folder + \"/\" + csv)\n",
    "      dataset_paths.append(DATA_DIR + folder + \"/\" + csv)\n"
   ],
   "outputs": [
    {
     "output_type": "stream",
     "name": "stderr",
     "text": [
      "  0%|          | 0/9 [00:00<?, ?it/s]2021-08-18 19:00:18.395 | DEBUG    | __main__:<module>:6 - In folder UK_0_dating.\n",
      "2021-08-18 19:00:18.396 | DEBUG    | __main__:<module>:10 - ./data/sample/UK_0_dating/segment_united kingdom_0_dating_black.csv\n",
      "2021-08-18 19:00:18.397 | DEBUG    | __main__:<module>:10 - ./data/sample/UK_0_dating/segment_united kingdom_0_dating_asian.csv\n",
      "2021-08-18 19:00:18.398 | DEBUG    | __main__:<module>:10 - ./data/sample/UK_0_dating/segment_united kingdom_0_dating_india.csv\n",
      "2021-08-18 19:00:18.398 | DEBUG    | __main__:<module>:10 - ./data/sample/UK_0_dating/segment_united kingdom_0_dating_white.csv\n",
      "2021-08-18 19:00:18.398 | DEBUG    | __main__:<module>:6 - In folder Canada_1_dating.\n",
      "2021-08-18 19:00:18.399 | DEBUG    | __main__:<module>:10 - ./data/sample/Canada_1_dating/segment_canada_1_dating_asian.csv\n",
      "2021-08-18 19:00:18.399 | DEBUG    | __main__:<module>:10 - ./data/sample/Canada_1_dating/segment_canada_1_dating_india.csv\n",
      "2021-08-18 19:00:18.400 | DEBUG    | __main__:<module>:10 - ./data/sample/Canada_1_dating/segment_canada_1_dating_white.csv\n",
      "2021-08-18 19:00:18.400 | DEBUG    | __main__:<module>:10 - ./data/sample/Canada_1_dating/segment_canada_1_dating_black.csv\n",
      "2021-08-18 19:00:18.401 | DEBUG    | __main__:<module>:6 - In folder US_0_dating.\n",
      "2021-08-18 19:00:18.402 | DEBUG    | __main__:<module>:10 - ./data/sample/US_0_dating/segment_united states_0_dating_india.csv\n",
      "2021-08-18 19:00:18.402 | DEBUG    | __main__:<module>:10 - ./data/sample/US_0_dating/segment_united states_0_dating_asian.csv\n",
      "2021-08-18 19:00:18.402 | DEBUG    | __main__:<module>:10 - ./data/sample/US_0_dating/segment_united states_0_dating_white.csv\n",
      "2021-08-18 19:00:18.403 | DEBUG    | __main__:<module>:10 - ./data/sample/US_0_dating/segment_united states_0_dating_black.csv\n",
      "2021-08-18 19:00:18.403 | DEBUG    | __main__:<module>:6 - In folder NO FILES.\n",
      "2021-08-18 19:00:18.404 | DEBUG    | __main__:<module>:6 - In folder Canada_0_dating.\n",
      "2021-08-18 19:00:18.404 | DEBUG    | __main__:<module>:10 - ./data/sample/Canada_0_dating/segment_canada_0_dating_asian.csv\n",
      "2021-08-18 19:00:18.405 | DEBUG    | __main__:<module>:10 - ./data/sample/Canada_0_dating/segment_canada_0_dating_india.csv\n",
      "2021-08-18 19:00:18.405 | DEBUG    | __main__:<module>:10 - ./data/sample/Canada_0_dating/segment_canada_0_dating_white.csv\n",
      "2021-08-18 19:00:18.405 | DEBUG    | __main__:<module>:10 - ./data/sample/Canada_0_dating/segment_canada_0_dating_black.csv\n",
      "2021-08-18 19:00:18.406 | DEBUG    | __main__:<module>:6 - In folder UK_1_dating.\n",
      "2021-08-18 19:00:18.406 | DEBUG    | __main__:<module>:10 - ./data/sample/UK_1_dating/segment_united kingdom_1_dating_black.csv\n",
      "2021-08-18 19:00:18.407 | DEBUG    | __main__:<module>:10 - ./data/sample/UK_1_dating/segment_united kingdom_1_dating_asian.csv\n",
      "2021-08-18 19:00:18.407 | DEBUG    | __main__:<module>:10 - ./data/sample/UK_1_dating/segment_united kingdom_1_dating_india.csv\n",
      "2021-08-18 19:00:18.407 | DEBUG    | __main__:<module>:10 - ./data/sample/UK_1_dating/segment_united kingdom_1_dating_white.csv\n",
      "2021-08-18 19:00:18.408 | DEBUG    | __main__:<module>:6 - In folder US_1_FB.\n",
      "2021-08-18 19:00:18.408 | DEBUG    | __main__:<module>:10 - ./data/sample/US_1_FB/segment_united states_1_fb_white.csv\n",
      "2021-08-18 19:00:18.409 | DEBUG    | __main__:<module>:10 - ./data/sample/US_1_FB/segment_united states_1_fb_india.csv\n",
      "2021-08-18 19:00:18.410 | DEBUG    | __main__:<module>:10 - ./data/sample/US_1_FB/segment_united states_1_fb_asian.csv\n",
      "2021-08-18 19:00:18.410 | DEBUG    | __main__:<module>:10 - ./data/sample/US_1_FB/segment_united states_1_fb_black.csv\n",
      "2021-08-18 19:00:18.410 | DEBUG    | __main__:<module>:6 - In folder US_1_dating.\n",
      "2021-08-18 19:00:18.411 | DEBUG    | __main__:<module>:10 - ./data/sample/US_1_dating/segment_united states_1_dating_india.csv\n",
      "2021-08-18 19:00:18.411 | DEBUG    | __main__:<module>:10 - ./data/sample/US_1_dating/segment_united states_1_dating_asian.csv\n",
      "2021-08-18 19:00:18.411 | DEBUG    | __main__:<module>:10 - ./data/sample/US_1_dating/segment_united states_1_dating_white.csv\n",
      "2021-08-18 19:00:18.412 | DEBUG    | __main__:<module>:10 - ./data/sample/US_1_dating/segment_united states_1_dating_black.csv\n",
      "2021-08-18 19:00:18.412 | DEBUG    | __main__:<module>:6 - In folder US_0_FB.\n",
      "2021-08-18 19:00:18.413 | DEBUG    | __main__:<module>:10 - ./data/sample/US_0_FB/segment_united states_0_fb_india.csv\n",
      "2021-08-18 19:00:18.413 | DEBUG    | __main__:<module>:10 - ./data/sample/US_0_FB/segment_united states_0_fb_asian.csv\n",
      "2021-08-18 19:00:18.413 | DEBUG    | __main__:<module>:10 - ./data/sample/US_0_FB/segment_united states_0_fb_white.csv\n",
      "2021-08-18 19:00:18.414 | DEBUG    | __main__:<module>:10 - ./data/sample/US_0_FB/segment_united states_0_fb_black.csv\n",
      "100%|██████████| 9/9 [00:00<00:00, 482.88it/s]\n"
     ]
    }
   ],
   "metadata": {}
  },
  {
   "cell_type": "code",
   "execution_count": 8,
   "source": [
    "results = []\n",
    "\n",
    "for dataset_path in dataset_paths:\n",
    "  data = pd.read_csv(dataset_path)\n",
    "  \n",
    "  # Clean the data\n",
    "  data = data.drop(DATA_DROP_COLS, axis=1)\n",
    "  data = utils.get_clean_data(data)\n",
    "  logger.debug(f\"Data size after cleaning is {data.shape}\")\n",
    "  data_y = data['pol'].replace({\"liberal\": 1, \"conservative\": 0})\n",
    "  data = data.drop('pol', axis = 1)\n",
    "  all_features = data.columns\n",
    "\n",
    "  # Split the data\n",
    "  X_train, X_test, y_train, y_test = train_test_split(data, data_y, test_size = 0.2, random_state = 2021) \n",
    "  del data, data_y\n",
    "\n",
    "  # which group it is being processed on \n",
    "  SEGMENT_NAME = utils.get_dataframe_name(dataset_path)\n",
    "  logger.debug(f\"Started the script for {SEGMENT_NAME}.\")\n",
    "  \n",
    "  ## Define features for the various settings\n",
    "  image_cols = list(map(str, range(1, 2049)))\n",
    "  image_and_self_reported_cols = image_cols + SELF_REPORTED_COLS\n",
    "  image_and_extracted_cols = [x for x in all_features if x not in SELF_REPORTED_COLS]\n",
    "  image_and_self_reported_and_extracted_cols = all_features\n",
    "\n",
    "  data_dict = {\n",
    "                \"Image Features\" : image_cols,\n",
    "                # \"Image and Self Reported Features\" : image_and_self_reported_cols,\n",
    "                \"Image and Extracted Features\": image_and_extracted_cols,\n",
    "                \"Image, Self-reported and Extracted Features\": image_and_self_reported_and_extracted_cols\n",
    "                }\n",
    "\n",
    "  if SEGMENT_NAME == \"canada_1_dating_india\": # this segment does not have any \"age\" values associated with it.\n",
    "    ## Define features for the various settings\n",
    "    image_cols = list(map(str, range(1, 2049)))\n",
    "    # image_and_self_reported_cols = image_cols + SELF_REPORTED_COLS \n",
    "    image_and_extracted_cols = [x for x in all_features if x not in SELF_REPORTED_COLS]\n",
    "    image_and_self_reported_and_extracted_cols = all_features\n",
    "\n",
    "  \n",
    "    data_dict = {\n",
    "                \"Image Features\" : image_cols,\n",
    "                # \"Image and Self Reported Features\" : image_and_self_reported_cols,\n",
    "                \"Image and Extracted Features\": image_and_extracted_cols,\n",
    "                \"Image, Self-reported and Extracted Features\": image_and_self_reported_and_extracted_cols\n",
    "                }\n",
    "\n",
    "\n",
    "  # Fit models and log results\n",
    "  for data_name, data_set_features in tqdm(data_dict.items()):\n",
    "    for model_name, model_params in MODEL_DICT.items():\n",
    "      try:\n",
    "        save_model_filepath = Path(RESULTS_DIR \\\n",
    "                        + SEGMENT_NAME\\\n",
    "                        + \"_\" + model_name \\\n",
    "                        + \"_\" + data_name.replace(\" \",\"_\").replace(\",\",\"\").replace(\"-\",\"_\") \\\n",
    "                        + '.mdl')\n",
    "\n",
    "        if save_model_filepath.is_file() or save_model_filepath.is_dir():\n",
    "          logger.debug(f\"{SEGMENT_NAME}, {model_name}, {data_name}: model already exists.\")\n",
    "          model = utils.read_model(model_name, save_model_filepath)\n",
    "          logger.debug(f\"{SEGMENT_NAME}, {model_name}, {data_name}: model read from disk.\")\n",
    "          \n",
    "        else:\n",
    "          logger.debug(f\"{SEGMENT_NAME}, {model_name}, {data_name}: model training started.\")\n",
    "          model = utils.fit_model(model_name,\n",
    "                                X_train[data_set_features],\n",
    "                                y_train,\n",
    "                                model_params = model_params)\n",
    "\n",
    "          utils.save_model(model, model_name, save_model_filepath)\n",
    "          logger.debug(f\"{GROUP_NAME}, {model_name}, {data_name}: model training ended and model saved.\")\n",
    "        \n",
    "        auc, acc = utils.get_metrics(model_name,\n",
    "                                     model,\n",
    "                                     X_test[data_set_features],\n",
    "                                     y_test)\n",
    "                                     \n",
    "        results.append([SEGMENT_NAME, model_name, data_name, auc, acc])\n",
    "        logger.debug(f\"{SEGMENT_NAME}, {model_name}, {data_name}: model training ended. AUC: {auc}, accuracy: {acc}\")\n",
    "      \n",
    "      except Exception as error:\n",
    "        logger.exception(error)\n",
    "        logger.error(f\"{SEGMENT_NAME}, {model_name}, {data_name}: Error occured!\")"
   ],
   "outputs": [
    {
     "output_type": "stream",
     "name": "stderr",
     "text": [
      "2021-08-18 19:00:19.499 | DEBUG    | __main__:<module>:9 - Data size after cleaning is (1000, 2076)\n",
      "2021-08-18 19:00:19.505 | DEBUG    | __main__:<module>:20 - Started the script for united kingdom_0_dating_black.\n",
      "  0%|          | 0/3 [00:00<?, ?it/s]2021-08-18 19:00:19.506 | DEBUG    | __main__:<module>:67 - united kingdom_0_dating_black, NN, Image Features: model training started.\n"
     ]
    },
    {
     "output_type": "stream",
     "name": "stdout",
     "text": [
      "Train on 640 samples, validate on 160 samples\n",
      "Epoch 1/1\n",
      "640/640 [==============================] - 1s 947us/step - loss: 0.7042 - accuracy: 0.6125 - val_loss: 0.6359 - val_accuracy: 0.6812\n"
     ]
    },
    {
     "output_type": "stream",
     "name": "stderr",
     "text": [
      "2021-08-18 19:00:20.496 | DEBUG    | __main__:<module>:74 - ethnicity_groups, NN, Image Features: model training ended and model saved.\n",
      "2021-08-18 19:00:20.610 | DEBUG    | __main__:<module>:82 - united kingdom_0_dating_black, NN, Image Features: model training ended. AUC: 51.74, accuracy: 61.5\n",
      "2021-08-18 19:00:20.611 | DEBUG    | __main__:<module>:67 - united kingdom_0_dating_black, LR, Image Features: model training started.\n",
      "/opt/anaconda3/envs/tf/lib/python3.7/site-packages/sklearn/linear_model/_sag.py:329: ConvergenceWarning: The max_iter was reached which means the coef_ did not converge\n",
      "  \"the coef_ did not converge\", ConvergenceWarning)\n",
      "2021-08-18 19:00:20.731 | DEBUG    | __main__:<module>:74 - ethnicity_groups, LR, Image Features: model training ended and model saved.\n",
      "2021-08-18 19:00:20.758 | DEBUG    | __main__:<module>:82 - united kingdom_0_dating_black, LR, Image Features: model training ended. AUC: 65.86, accuracy: 62.5\n",
      " 33%|███▎      | 1/3 [00:01<00:02,  1.25s/it]2021-08-18 19:00:20.759 | DEBUG    | __main__:<module>:67 - united kingdom_0_dating_black, NN, Image and Extracted Features: model training started.\n"
     ]
    },
    {
     "output_type": "stream",
     "name": "stdout",
     "text": [
      "Train on 640 samples, validate on 160 samples\n",
      "Epoch 1/1\n",
      "640/640 [==============================] - 1s 947us/step - loss: 1.3851 - accuracy: 0.4125 - val_loss: 3.7979 - val_accuracy: 0.6812\n"
     ]
    },
    {
     "output_type": "stream",
     "name": "stderr",
     "text": [
      "2021-08-18 19:00:21.707 | DEBUG    | __main__:<module>:74 - ethnicity_groups, NN, Image and Extracted Features: model training ended and model saved.\n",
      "2021-08-18 19:00:21.832 | DEBUG    | __main__:<module>:82 - united kingdom_0_dating_black, NN, Image and Extracted Features: model training ended. AUC: 37.27, accuracy: 61.0\n",
      "2021-08-18 19:00:21.833 | DEBUG    | __main__:<module>:67 - united kingdom_0_dating_black, LR, Image and Extracted Features: model training started.\n",
      "/opt/anaconda3/envs/tf/lib/python3.7/site-packages/sklearn/linear_model/_sag.py:329: ConvergenceWarning: The max_iter was reached which means the coef_ did not converge\n",
      "  \"the coef_ did not converge\", ConvergenceWarning)\n",
      "2021-08-18 19:00:21.964 | DEBUG    | __main__:<module>:74 - ethnicity_groups, LR, Image and Extracted Features: model training ended and model saved.\n",
      "2021-08-18 19:00:21.988 | DEBUG    | __main__:<module>:82 - united kingdom_0_dating_black, LR, Image and Extracted Features: model training ended. AUC: 52.51, accuracy: 59.5\n",
      " 67%|██████▋   | 2/3 [00:02<00:01,  1.24s/it]2021-08-18 19:00:21.989 | DEBUG    | __main__:<module>:67 - united kingdom_0_dating_black, NN, Image, Self-reported and Extracted Features: model training started.\n"
     ]
    },
    {
     "output_type": "stream",
     "name": "stdout",
     "text": [
      "Train on 640 samples, validate on 160 samples\n",
      "Epoch 1/1\n",
      "640/640 [==============================] - 1s 921us/step - loss: 1.2843 - accuracy: 0.6125 - val_loss: 1.2197 - val_accuracy: 0.3438\n"
     ]
    },
    {
     "output_type": "stream",
     "name": "stderr",
     "text": [
      "2021-08-18 19:00:22.983 | DEBUG    | __main__:<module>:74 - ethnicity_groups, NN, Image, Self-reported and Extracted Features: model training ended and model saved.\n",
      "2021-08-18 19:00:23.097 | DEBUG    | __main__:<module>:82 - united kingdom_0_dating_black, NN, Image, Self-reported and Extracted Features: model training ended. AUC: 53.53, accuracy: 42.5\n",
      "2021-08-18 19:00:23.097 | DEBUG    | __main__:<module>:67 - united kingdom_0_dating_black, LR, Image, Self-reported and Extracted Features: model training started.\n",
      "/opt/anaconda3/envs/tf/lib/python3.7/site-packages/sklearn/linear_model/_sag.py:329: ConvergenceWarning: The max_iter was reached which means the coef_ did not converge\n",
      "  \"the coef_ did not converge\", ConvergenceWarning)\n",
      "2021-08-18 19:00:23.221 | DEBUG    | __main__:<module>:74 - ethnicity_groups, LR, Image, Self-reported and Extracted Features: model training ended and model saved.\n",
      "2021-08-18 19:00:23.244 | DEBUG    | __main__:<module>:82 - united kingdom_0_dating_black, LR, Image, Self-reported and Extracted Features: model training ended. AUC: 61.42, accuracy: 61.5\n",
      "100%|██████████| 3/3 [00:03<00:00,  1.25s/it]\n",
      "2021-08-18 19:00:23.643 | DEBUG    | __main__:<module>:9 - Data size after cleaning is (1000, 2076)\n",
      "2021-08-18 19:00:23.649 | DEBUG    | __main__:<module>:20 - Started the script for united kingdom_0_dating_asian.\n",
      "  0%|          | 0/3 [00:00<?, ?it/s]2021-08-18 19:00:23.651 | DEBUG    | __main__:<module>:67 - united kingdom_0_dating_asian, NN, Image Features: model training started.\n"
     ]
    },
    {
     "output_type": "stream",
     "name": "stdout",
     "text": [
      "Train on 640 samples, validate on 160 samples\n",
      "Epoch 1/1\n",
      "640/640 [==============================] - 1s 952us/step - loss: 0.6896 - accuracy: 0.5844 - val_loss: 0.6811 - val_accuracy: 0.6000\n"
     ]
    },
    {
     "output_type": "stream",
     "name": "stderr",
     "text": [
      "2021-08-18 19:00:24.643 | DEBUG    | __main__:<module>:74 - ethnicity_groups, NN, Image Features: model training ended and model saved.\n",
      "2021-08-18 19:00:24.761 | DEBUG    | __main__:<module>:82 - united kingdom_0_dating_asian, NN, Image Features: model training ended. AUC: 46.18, accuracy: 52.0\n",
      "2021-08-18 19:00:24.762 | DEBUG    | __main__:<module>:67 - united kingdom_0_dating_asian, LR, Image Features: model training started.\n",
      "/opt/anaconda3/envs/tf/lib/python3.7/site-packages/sklearn/linear_model/_sag.py:329: ConvergenceWarning: The max_iter was reached which means the coef_ did not converge\n",
      "  \"the coef_ did not converge\", ConvergenceWarning)\n",
      "2021-08-18 19:00:24.882 | DEBUG    | __main__:<module>:74 - ethnicity_groups, LR, Image Features: model training ended and model saved.\n",
      "2021-08-18 19:00:24.904 | DEBUG    | __main__:<module>:82 - united kingdom_0_dating_asian, LR, Image Features: model training ended. AUC: 66.91, accuracy: 63.0\n",
      " 33%|███▎      | 1/3 [00:01<00:02,  1.25s/it]2021-08-18 19:00:24.905 | DEBUG    | __main__:<module>:67 - united kingdom_0_dating_asian, NN, Image and Extracted Features: model training started.\n"
     ]
    },
    {
     "output_type": "stream",
     "name": "stdout",
     "text": [
      "Train on 640 samples, validate on 160 samples\n",
      "Epoch 1/1\n",
      "640/640 [==============================] - 1s 935us/step - loss: 0.7052 - accuracy: 0.5406 - val_loss: 0.7199 - val_accuracy: 0.5813\n"
     ]
    },
    {
     "output_type": "stream",
     "name": "stderr",
     "text": [
      "2021-08-18 19:00:25.839 | DEBUG    | __main__:<module>:74 - ethnicity_groups, NN, Image and Extracted Features: model training ended and model saved.\n",
      "2021-08-18 19:00:25.956 | DEBUG    | __main__:<module>:82 - united kingdom_0_dating_asian, NN, Image and Extracted Features: model training ended. AUC: 58.89, accuracy: 56.5\n",
      "2021-08-18 19:00:25.957 | DEBUG    | __main__:<module>:67 - united kingdom_0_dating_asian, LR, Image and Extracted Features: model training started.\n",
      "/opt/anaconda3/envs/tf/lib/python3.7/site-packages/sklearn/linear_model/_sag.py:329: ConvergenceWarning: The max_iter was reached which means the coef_ did not converge\n",
      "  \"the coef_ did not converge\", ConvergenceWarning)\n",
      "2021-08-18 19:00:26.080 | DEBUG    | __main__:<module>:74 - ethnicity_groups, LR, Image and Extracted Features: model training ended and model saved.\n",
      "2021-08-18 19:00:26.104 | DEBUG    | __main__:<module>:82 - united kingdom_0_dating_asian, LR, Image and Extracted Features: model training ended. AUC: 65.28, accuracy: 63.0\n",
      " 67%|██████▋   | 2/3 [00:02<00:01,  1.22s/it]2021-08-18 19:00:26.105 | DEBUG    | __main__:<module>:67 - united kingdom_0_dating_asian, NN, Image, Self-reported and Extracted Features: model training started.\n"
     ]
    },
    {
     "output_type": "stream",
     "name": "stdout",
     "text": [
      "Train on 640 samples, validate on 160 samples\n",
      "Epoch 1/1\n",
      "640/640 [==============================] - 1s 913us/step - loss: 1.0817 - accuracy: 0.4109 - val_loss: 2.4779 - val_accuracy: 0.6000\n"
     ]
    },
    {
     "output_type": "stream",
     "name": "stderr",
     "text": [
      "2021-08-18 19:00:27.125 | DEBUG    | __main__:<module>:74 - ethnicity_groups, NN, Image, Self-reported and Extracted Features: model training ended and model saved.\n",
      "2021-08-18 19:00:27.243 | DEBUG    | __main__:<module>:82 - united kingdom_0_dating_asian, NN, Image, Self-reported and Extracted Features: model training ended. AUC: 43.9, accuracy: 52.5\n",
      "2021-08-18 19:00:27.244 | DEBUG    | __main__:<module>:67 - united kingdom_0_dating_asian, LR, Image, Self-reported and Extracted Features: model training started.\n",
      "/opt/anaconda3/envs/tf/lib/python3.7/site-packages/sklearn/linear_model/_sag.py:329: ConvergenceWarning: The max_iter was reached which means the coef_ did not converge\n",
      "  \"the coef_ did not converge\", ConvergenceWarning)\n",
      "2021-08-18 19:00:27.367 | DEBUG    | __main__:<module>:74 - ethnicity_groups, LR, Image, Self-reported and Extracted Features: model training ended and model saved.\n",
      "2021-08-18 19:00:27.390 | DEBUG    | __main__:<module>:82 - united kingdom_0_dating_asian, LR, Image, Self-reported and Extracted Features: model training ended. AUC: 64.54, accuracy: 61.5\n",
      "100%|██████████| 3/3 [00:03<00:00,  1.25s/it]\n",
      "2021-08-18 19:00:27.793 | DEBUG    | __main__:<module>:9 - Data size after cleaning is (1000, 2076)\n",
      "2021-08-18 19:00:27.799 | DEBUG    | __main__:<module>:20 - Started the script for united kingdom_0_dating_india.\n",
      "  0%|          | 0/3 [00:00<?, ?it/s]2021-08-18 19:00:27.801 | DEBUG    | __main__:<module>:67 - united kingdom_0_dating_india, NN, Image Features: model training started.\n"
     ]
    },
    {
     "output_type": "stream",
     "name": "stdout",
     "text": [
      "Train on 640 samples, validate on 160 samples\n",
      "Epoch 1/1\n",
      "640/640 [==============================] - 1s 906us/step - loss: 0.7257 - accuracy: 0.4547 - val_loss: 0.6650 - val_accuracy: 0.6250\n"
     ]
    },
    {
     "output_type": "stream",
     "name": "stderr",
     "text": [
      "2021-08-18 19:00:28.709 | DEBUG    | __main__:<module>:74 - ethnicity_groups, NN, Image Features: model training ended and model saved.\n",
      "2021-08-18 19:00:28.825 | DEBUG    | __main__:<module>:82 - united kingdom_0_dating_india, NN, Image Features: model training ended. AUC: 50.74, accuracy: 63.5\n",
      "2021-08-18 19:00:28.825 | DEBUG    | __main__:<module>:67 - united kingdom_0_dating_india, LR, Image Features: model training started.\n",
      "/opt/anaconda3/envs/tf/lib/python3.7/site-packages/sklearn/linear_model/_sag.py:329: ConvergenceWarning: The max_iter was reached which means the coef_ did not converge\n",
      "  \"the coef_ did not converge\", ConvergenceWarning)\n",
      "2021-08-18 19:00:28.949 | DEBUG    | __main__:<module>:74 - ethnicity_groups, LR, Image Features: model training ended and model saved.\n",
      "2021-08-18 19:00:28.971 | DEBUG    | __main__:<module>:82 - united kingdom_0_dating_india, LR, Image Features: model training ended. AUC: 67.31, accuracy: 72.0\n",
      " 33%|███▎      | 1/3 [00:01<00:02,  1.17s/it]2021-08-18 19:00:28.972 | DEBUG    | __main__:<module>:67 - united kingdom_0_dating_india, NN, Image and Extracted Features: model training started.\n"
     ]
    },
    {
     "output_type": "stream",
     "name": "stdout",
     "text": [
      "Train on 640 samples, validate on 160 samples\n",
      "Epoch 1/1\n",
      "640/640 [==============================] - 1s 908us/step - loss: 0.9014 - accuracy: 0.4547 - val_loss: 2.2336 - val_accuracy: 0.7437\n"
     ]
    },
    {
     "output_type": "stream",
     "name": "stderr",
     "text": [
      "2021-08-18 19:00:29.997 | DEBUG    | __main__:<module>:74 - ethnicity_groups, NN, Image and Extracted Features: model training ended and model saved.\n",
      "2021-08-18 19:00:30.108 | DEBUG    | __main__:<module>:82 - united kingdom_0_dating_india, NN, Image and Extracted Features: model training ended. AUC: 52.73, accuracy: 72.0\n",
      "2021-08-18 19:00:30.109 | DEBUG    | __main__:<module>:67 - united kingdom_0_dating_india, LR, Image and Extracted Features: model training started.\n",
      "/opt/anaconda3/envs/tf/lib/python3.7/site-packages/sklearn/linear_model/_sag.py:329: ConvergenceWarning: The max_iter was reached which means the coef_ did not converge\n",
      "  \"the coef_ did not converge\", ConvergenceWarning)\n",
      "2021-08-18 19:00:30.233 | DEBUG    | __main__:<module>:74 - ethnicity_groups, LR, Image and Extracted Features: model training ended and model saved.\n",
      "2021-08-18 19:00:30.257 | DEBUG    | __main__:<module>:82 - united kingdom_0_dating_india, LR, Image and Extracted Features: model training ended. AUC: 61.72, accuracy: 69.0\n",
      " 67%|██████▋   | 2/3 [00:02<00:01,  1.24s/it]2021-08-18 19:00:30.259 | DEBUG    | __main__:<module>:67 - united kingdom_0_dating_india, NN, Image, Self-reported and Extracted Features: model training started.\n"
     ]
    },
    {
     "output_type": "stream",
     "name": "stdout",
     "text": [
      "Train on 640 samples, validate on 160 samples\n",
      "Epoch 1/1\n",
      "640/640 [==============================] - 1s 933us/step - loss: 1.3904 - accuracy: 0.3000 - val_loss: 2.2423 - val_accuracy: 0.7437\n"
     ]
    },
    {
     "output_type": "stream",
     "name": "stderr",
     "text": [
      "2021-08-18 19:00:31.197 | DEBUG    | __main__:<module>:74 - ethnicity_groups, NN, Image, Self-reported and Extracted Features: model training ended and model saved.\n",
      "2021-08-18 19:00:31.309 | DEBUG    | __main__:<module>:82 - united kingdom_0_dating_india, NN, Image, Self-reported and Extracted Features: model training ended. AUC: 44.26, accuracy: 72.0\n",
      "2021-08-18 19:00:31.310 | DEBUG    | __main__:<module>:67 - united kingdom_0_dating_india, LR, Image, Self-reported and Extracted Features: model training started.\n",
      "/opt/anaconda3/envs/tf/lib/python3.7/site-packages/sklearn/linear_model/_sag.py:329: ConvergenceWarning: The max_iter was reached which means the coef_ did not converge\n",
      "  \"the coef_ did not converge\", ConvergenceWarning)\n",
      "2021-08-18 19:00:31.432 | DEBUG    | __main__:<module>:74 - ethnicity_groups, LR, Image, Self-reported and Extracted Features: model training ended and model saved.\n",
      "2021-08-18 19:00:31.455 | DEBUG    | __main__:<module>:82 - united kingdom_0_dating_india, LR, Image, Self-reported and Extracted Features: model training ended. AUC: 62.46, accuracy: 71.0\n",
      "100%|██████████| 3/3 [00:03<00:00,  1.22s/it]\n",
      "2021-08-18 19:00:31.903 | DEBUG    | __main__:<module>:9 - Data size after cleaning is (1000, 2076)\n",
      "2021-08-18 19:00:31.910 | DEBUG    | __main__:<module>:20 - Started the script for united kingdom_0_dating_white.\n",
      "  0%|          | 0/3 [00:00<?, ?it/s]2021-08-18 19:00:31.911 | DEBUG    | __main__:<module>:67 - united kingdom_0_dating_white, NN, Image Features: model training started.\n"
     ]
    },
    {
     "output_type": "stream",
     "name": "stdout",
     "text": [
      "Train on 640 samples, validate on 160 samples\n",
      "Epoch 1/1\n",
      "640/640 [==============================] - 1s 939us/step - loss: 0.7266 - accuracy: 0.4437 - val_loss: 0.6910 - val_accuracy: 0.5063\n"
     ]
    },
    {
     "output_type": "stream",
     "name": "stderr",
     "text": [
      "2021-08-18 19:00:32.940 | DEBUG    | __main__:<module>:74 - ethnicity_groups, NN, Image Features: model training ended and model saved.\n",
      "2021-08-18 19:00:33.058 | DEBUG    | __main__:<module>:82 - united kingdom_0_dating_white, NN, Image Features: model training ended. AUC: 53.86, accuracy: 50.0\n",
      "2021-08-18 19:00:33.058 | DEBUG    | __main__:<module>:67 - united kingdom_0_dating_white, LR, Image Features: model training started.\n",
      "/opt/anaconda3/envs/tf/lib/python3.7/site-packages/sklearn/linear_model/_sag.py:329: ConvergenceWarning: The max_iter was reached which means the coef_ did not converge\n",
      "  \"the coef_ did not converge\", ConvergenceWarning)\n",
      "2021-08-18 19:00:33.181 | DEBUG    | __main__:<module>:74 - ethnicity_groups, LR, Image Features: model training ended and model saved.\n",
      "2021-08-18 19:00:33.204 | DEBUG    | __main__:<module>:82 - united kingdom_0_dating_white, LR, Image Features: model training ended. AUC: 61.46, accuracy: 60.5\n",
      " 33%|███▎      | 1/3 [00:01<00:02,  1.29s/it]2021-08-18 19:00:33.206 | DEBUG    | __main__:<module>:67 - united kingdom_0_dating_white, NN, Image and Extracted Features: model training started.\n"
     ]
    },
    {
     "output_type": "stream",
     "name": "stdout",
     "text": [
      "Train on 640 samples, validate on 160 samples\n",
      "Epoch 1/1\n",
      "640/640 [==============================] - 1s 933us/step - loss: 1.3093 - accuracy: 0.3969 - val_loss: 2.8299 - val_accuracy: 0.5562\n"
     ]
    },
    {
     "output_type": "stream",
     "name": "stderr",
     "text": [
      "2021-08-18 19:00:34.156 | DEBUG    | __main__:<module>:74 - ethnicity_groups, NN, Image and Extracted Features: model training ended and model saved.\n",
      "2021-08-18 19:00:34.271 | DEBUG    | __main__:<module>:82 - united kingdom_0_dating_white, NN, Image and Extracted Features: model training ended. AUC: 51.83, accuracy: 58.0\n",
      "2021-08-18 19:00:34.271 | DEBUG    | __main__:<module>:67 - united kingdom_0_dating_white, LR, Image and Extracted Features: model training started.\n",
      "/opt/anaconda3/envs/tf/lib/python3.7/site-packages/sklearn/linear_model/_sag.py:329: ConvergenceWarning: The max_iter was reached which means the coef_ did not converge\n",
      "  \"the coef_ did not converge\", ConvergenceWarning)\n",
      "2021-08-18 19:00:34.393 | DEBUG    | __main__:<module>:74 - ethnicity_groups, LR, Image and Extracted Features: model training ended and model saved.\n",
      "2021-08-18 19:00:34.417 | DEBUG    | __main__:<module>:82 - united kingdom_0_dating_white, LR, Image and Extracted Features: model training ended. AUC: 57.45, accuracy: 59.5\n",
      " 67%|██████▋   | 2/3 [00:02<00:01,  1.25s/it]2021-08-18 19:00:34.418 | DEBUG    | __main__:<module>:67 - united kingdom_0_dating_white, NN, Image, Self-reported and Extracted Features: model training started.\n"
     ]
    },
    {
     "output_type": "stream",
     "name": "stdout",
     "text": [
      "Train on 640 samples, validate on 160 samples\n",
      "Epoch 1/1\n",
      "640/640 [==============================] - 1s 934us/step - loss: 1.5451 - accuracy: 0.6031 - val_loss: 3.9677 - val_accuracy: 0.4437\n"
     ]
    },
    {
     "output_type": "stream",
     "name": "stderr",
     "text": [
      "2021-08-18 19:00:35.372 | DEBUG    | __main__:<module>:74 - ethnicity_groups, NN, Image, Self-reported and Extracted Features: model training ended and model saved.\n",
      "2021-08-18 19:00:35.492 | DEBUG    | __main__:<module>:82 - united kingdom_0_dating_white, NN, Image, Self-reported and Extracted Features: model training ended. AUC: 48.59, accuracy: 42.0\n",
      "2021-08-18 19:00:35.493 | DEBUG    | __main__:<module>:67 - united kingdom_0_dating_white, LR, Image, Self-reported and Extracted Features: model training started.\n",
      "/opt/anaconda3/envs/tf/lib/python3.7/site-packages/sklearn/linear_model/_sag.py:329: ConvergenceWarning: The max_iter was reached which means the coef_ did not converge\n",
      "  \"the coef_ did not converge\", ConvergenceWarning)\n",
      "2021-08-18 19:00:35.615 | DEBUG    | __main__:<module>:74 - ethnicity_groups, LR, Image, Self-reported and Extracted Features: model training ended and model saved.\n",
      "2021-08-18 19:00:35.639 | DEBUG    | __main__:<module>:82 - united kingdom_0_dating_white, LR, Image, Self-reported and Extracted Features: model training ended. AUC: 56.48, accuracy: 57.5\n",
      "100%|██████████| 3/3 [00:03<00:00,  1.24s/it]\n",
      "2021-08-18 19:00:36.070 | DEBUG    | __main__:<module>:9 - Data size after cleaning is (1000, 2076)\n",
      "2021-08-18 19:00:36.077 | DEBUG    | __main__:<module>:20 - Started the script for canada_1_dating_asian.\n",
      "  0%|          | 0/3 [00:00<?, ?it/s]2021-08-18 19:00:36.080 | DEBUG    | __main__:<module>:67 - canada_1_dating_asian, NN, Image Features: model training started.\n"
     ]
    },
    {
     "output_type": "stream",
     "name": "stdout",
     "text": [
      "Train on 640 samples, validate on 160 samples\n",
      "Epoch 1/1\n",
      "640/640 [==============================] - 1s 926us/step - loss: 0.9211 - accuracy: 0.2281 - val_loss: 0.8348 - val_accuracy: 0.2562\n"
     ]
    },
    {
     "output_type": "stream",
     "name": "stderr",
     "text": [
      "2021-08-18 19:00:37.142 | DEBUG    | __main__:<module>:74 - ethnicity_groups, NN, Image Features: model training ended and model saved.\n",
      "2021-08-18 19:00:37.255 | DEBUG    | __main__:<module>:82 - canada_1_dating_asian, NN, Image Features: model training ended. AUC: 50.84, accuracy: 32.0\n",
      "2021-08-18 19:00:37.256 | DEBUG    | __main__:<module>:67 - canada_1_dating_asian, LR, Image Features: model training started.\n",
      "/opt/anaconda3/envs/tf/lib/python3.7/site-packages/sklearn/linear_model/_sag.py:329: ConvergenceWarning: The max_iter was reached which means the coef_ did not converge\n",
      "  \"the coef_ did not converge\", ConvergenceWarning)\n",
      "2021-08-18 19:00:37.378 | DEBUG    | __main__:<module>:74 - ethnicity_groups, LR, Image Features: model training ended and model saved.\n",
      "2021-08-18 19:00:37.401 | DEBUG    | __main__:<module>:82 - canada_1_dating_asian, LR, Image Features: model training ended. AUC: 55.0, accuracy: 68.0\n",
      " 33%|███▎      | 1/3 [00:01<00:02,  1.32s/it]2021-08-18 19:00:37.402 | DEBUG    | __main__:<module>:67 - canada_1_dating_asian, NN, Image and Extracted Features: model training started.\n"
     ]
    },
    {
     "output_type": "stream",
     "name": "stdout",
     "text": [
      "Train on 640 samples, validate on 160 samples\n",
      "Epoch 1/1\n",
      "640/640 [==============================] - 1s 924us/step - loss: 0.6885 - accuracy: 0.6734 - val_loss: 0.9596 - val_accuracy: 0.7125\n"
     ]
    },
    {
     "output_type": "stream",
     "name": "stderr",
     "text": [
      "2021-08-18 19:00:38.337 | DEBUG    | __main__:<module>:74 - ethnicity_groups, NN, Image and Extracted Features: model training ended and model saved.\n",
      "2021-08-18 19:00:38.452 | DEBUG    | __main__:<module>:82 - canada_1_dating_asian, NN, Image and Extracted Features: model training ended. AUC: 49.8, accuracy: 68.5\n",
      "2021-08-18 19:00:38.452 | DEBUG    | __main__:<module>:67 - canada_1_dating_asian, LR, Image and Extracted Features: model training started.\n",
      "/opt/anaconda3/envs/tf/lib/python3.7/site-packages/sklearn/linear_model/_sag.py:329: ConvergenceWarning: The max_iter was reached which means the coef_ did not converge\n",
      "  \"the coef_ did not converge\", ConvergenceWarning)\n",
      "2021-08-18 19:00:38.577 | DEBUG    | __main__:<module>:74 - ethnicity_groups, LR, Image and Extracted Features: model training ended and model saved.\n",
      "2021-08-18 19:00:38.600 | DEBUG    | __main__:<module>:82 - canada_1_dating_asian, LR, Image and Extracted Features: model training ended. AUC: 46.76, accuracy: 67.5\n",
      " 67%|██████▋   | 2/3 [00:02<00:01,  1.25s/it]2021-08-18 19:00:38.601 | DEBUG    | __main__:<module>:67 - canada_1_dating_asian, NN, Image, Self-reported and Extracted Features: model training started.\n"
     ]
    },
    {
     "output_type": "stream",
     "name": "stdout",
     "text": [
      "Train on 640 samples, validate on 160 samples\n",
      "Epoch 1/1\n",
      "640/640 [==============================] - 1s 950us/step - loss: 0.7400 - accuracy: 0.5281 - val_loss: 3.3834 - val_accuracy: 0.7437\n"
     ]
    },
    {
     "output_type": "stream",
     "name": "stderr",
     "text": [
      "2021-08-18 19:00:39.639 | DEBUG    | __main__:<module>:74 - ethnicity_groups, NN, Image, Self-reported and Extracted Features: model training ended and model saved.\n",
      "2021-08-18 19:00:39.754 | DEBUG    | __main__:<module>:82 - canada_1_dating_asian, NN, Image, Self-reported and Extracted Features: model training ended. AUC: 44.0, accuracy: 68.5\n",
      "2021-08-18 19:00:39.755 | DEBUG    | __main__:<module>:67 - canada_1_dating_asian, LR, Image, Self-reported and Extracted Features: model training started.\n",
      "/opt/anaconda3/envs/tf/lib/python3.7/site-packages/sklearn/linear_model/_sag.py:329: ConvergenceWarning: The max_iter was reached which means the coef_ did not converge\n",
      "  \"the coef_ did not converge\", ConvergenceWarning)\n",
      "2021-08-18 19:00:39.879 | DEBUG    | __main__:<module>:74 - ethnicity_groups, LR, Image, Self-reported and Extracted Features: model training ended and model saved.\n",
      "2021-08-18 19:00:39.903 | DEBUG    | __main__:<module>:82 - canada_1_dating_asian, LR, Image, Self-reported and Extracted Features: model training ended. AUC: 47.68, accuracy: 68.5\n",
      "100%|██████████| 3/3 [00:03<00:00,  1.27s/it]\n",
      "2021-08-18 19:00:40.334 | DEBUG    | __main__:<module>:9 - Data size after cleaning is (1000, 2075)\n",
      "2021-08-18 19:00:40.341 | DEBUG    | __main__:<module>:20 - Started the script for canada_1_dating_india.\n",
      "  0%|          | 0/3 [00:00<?, ?it/s]2021-08-18 19:00:40.343 | DEBUG    | __main__:<module>:67 - canada_1_dating_india, NN, Image Features: model training started.\n"
     ]
    },
    {
     "output_type": "stream",
     "name": "stdout",
     "text": [
      "Train on 640 samples, validate on 160 samples\n",
      "Epoch 1/1\n",
      "640/640 [==============================] - 1s 910us/step - loss: 0.6456 - accuracy: 0.6500 - val_loss: 0.5863 - val_accuracy: 0.7437\n"
     ]
    },
    {
     "output_type": "stream",
     "name": "stderr",
     "text": [
      "2021-08-18 19:00:41.294 | DEBUG    | __main__:<module>:74 - ethnicity_groups, NN, Image Features: model training ended and model saved.\n",
      "2021-08-18 19:00:41.405 | DEBUG    | __main__:<module>:82 - canada_1_dating_india, NN, Image Features: model training ended. AUC: 56.24, accuracy: 70.0\n",
      "2021-08-18 19:00:41.406 | DEBUG    | __main__:<module>:67 - canada_1_dating_india, LR, Image Features: model training started.\n",
      "/opt/anaconda3/envs/tf/lib/python3.7/site-packages/sklearn/linear_model/_sag.py:329: ConvergenceWarning: The max_iter was reached which means the coef_ did not converge\n",
      "  \"the coef_ did not converge\", ConvergenceWarning)\n",
      "2021-08-18 19:00:41.525 | DEBUG    | __main__:<module>:74 - ethnicity_groups, LR, Image Features: model training ended and model saved.\n",
      "2021-08-18 19:00:41.548 | DEBUG    | __main__:<module>:82 - canada_1_dating_india, LR, Image Features: model training ended. AUC: 64.95, accuracy: 69.5\n",
      " 33%|███▎      | 1/3 [00:01<00:02,  1.21s/it]2021-08-18 19:00:41.549 | DEBUG    | __main__:<module>:67 - canada_1_dating_india, NN, Image and Extracted Features: model training started.\n"
     ]
    },
    {
     "output_type": "stream",
     "name": "stdout",
     "text": [
      "Train on 640 samples, validate on 160 samples\n",
      "Epoch 1/1\n",
      "640/640 [==============================] - 1s 919us/step - loss: 0.9258 - accuracy: 0.4344 - val_loss: 3.5587 - val_accuracy: 0.8000\n"
     ]
    },
    {
     "output_type": "stream",
     "name": "stderr",
     "text": [
      "2021-08-18 19:00:42.467 | DEBUG    | __main__:<module>:74 - ethnicity_groups, NN, Image and Extracted Features: model training ended and model saved.\n",
      "2021-08-18 19:00:42.582 | DEBUG    | __main__:<module>:82 - canada_1_dating_india, NN, Image and Extracted Features: model training ended. AUC: 54.21, accuracy: 73.0\n",
      "2021-08-18 19:00:42.582 | DEBUG    | __main__:<module>:67 - canada_1_dating_india, LR, Image and Extracted Features: model training started.\n",
      "/opt/anaconda3/envs/tf/lib/python3.7/site-packages/sklearn/linear_model/_sag.py:329: ConvergenceWarning: The max_iter was reached which means the coef_ did not converge\n",
      "  \"the coef_ did not converge\", ConvergenceWarning)\n",
      "2021-08-18 19:00:42.715 | DEBUG    | __main__:<module>:74 - ethnicity_groups, LR, Image and Extracted Features: model training ended and model saved.\n",
      "2021-08-18 19:00:42.738 | DEBUG    | __main__:<module>:82 - canada_1_dating_india, LR, Image and Extracted Features: model training ended. AUC: 61.04, accuracy: 73.0\n",
      " 67%|██████▋   | 2/3 [00:02<00:01,  1.20s/it]2021-08-18 19:00:42.739 | DEBUG    | __main__:<module>:67 - canada_1_dating_india, NN, Image, Self-reported and Extracted Features: model training started.\n"
     ]
    },
    {
     "output_type": "stream",
     "name": "stdout",
     "text": [
      "Train on 640 samples, validate on 160 samples\n",
      "Epoch 1/1\n",
      "640/640 [==============================] - 1s 981us/step - loss: 0.8732 - accuracy: 0.4141 - val_loss: 1.2049 - val_accuracy: 0.8000\n"
     ]
    },
    {
     "output_type": "stream",
     "name": "stderr",
     "text": [
      "2021-08-18 19:00:43.810 | DEBUG    | __main__:<module>:74 - ethnicity_groups, NN, Image, Self-reported and Extracted Features: model training ended and model saved.\n",
      "2021-08-18 19:00:43.926 | DEBUG    | __main__:<module>:82 - canada_1_dating_india, NN, Image, Self-reported and Extracted Features: model training ended. AUC: 45.75, accuracy: 73.0\n",
      "2021-08-18 19:00:43.926 | DEBUG    | __main__:<module>:67 - canada_1_dating_india, LR, Image, Self-reported and Extracted Features: model training started.\n",
      "/opt/anaconda3/envs/tf/lib/python3.7/site-packages/sklearn/linear_model/_sag.py:329: ConvergenceWarning: The max_iter was reached which means the coef_ did not converge\n",
      "  \"the coef_ did not converge\", ConvergenceWarning)\n",
      "2021-08-18 19:00:44.048 | DEBUG    | __main__:<module>:74 - ethnicity_groups, LR, Image, Self-reported and Extracted Features: model training ended and model saved.\n",
      "2021-08-18 19:00:44.071 | DEBUG    | __main__:<module>:82 - canada_1_dating_india, LR, Image, Self-reported and Extracted Features: model training ended. AUC: 60.78, accuracy: 73.5\n",
      "100%|██████████| 3/3 [00:03<00:00,  1.24s/it]\n",
      "2021-08-18 19:00:44.519 | DEBUG    | __main__:<module>:9 - Data size after cleaning is (1000, 2076)\n",
      "2021-08-18 19:00:44.525 | DEBUG    | __main__:<module>:20 - Started the script for canada_1_dating_white.\n",
      "  0%|          | 0/3 [00:00<?, ?it/s]2021-08-18 19:00:44.526 | DEBUG    | __main__:<module>:67 - canada_1_dating_white, NN, Image Features: model training started.\n"
     ]
    },
    {
     "output_type": "stream",
     "name": "stdout",
     "text": [
      "Train on 640 samples, validate on 160 samples\n",
      "Epoch 1/1\n",
      "640/640 [==============================] - 1s 958us/step - loss: 0.7554 - accuracy: 0.4031 - val_loss: 0.6829 - val_accuracy: 0.5625\n"
     ]
    },
    {
     "output_type": "stream",
     "name": "stderr",
     "text": [
      "2021-08-18 19:00:45.488 | DEBUG    | __main__:<module>:74 - ethnicity_groups, NN, Image Features: model training ended and model saved.\n",
      "2021-08-18 19:00:45.610 | DEBUG    | __main__:<module>:82 - canada_1_dating_white, NN, Image Features: model training ended. AUC: 50.15, accuracy: 45.5\n",
      "2021-08-18 19:00:45.611 | DEBUG    | __main__:<module>:67 - canada_1_dating_white, LR, Image Features: model training started.\n",
      "/opt/anaconda3/envs/tf/lib/python3.7/site-packages/sklearn/linear_model/_sag.py:329: ConvergenceWarning: The max_iter was reached which means the coef_ did not converge\n",
      "  \"the coef_ did not converge\", ConvergenceWarning)\n",
      "2021-08-18 19:00:45.729 | DEBUG    | __main__:<module>:74 - ethnicity_groups, LR, Image Features: model training ended and model saved.\n",
      "2021-08-18 19:00:45.753 | DEBUG    | __main__:<module>:82 - canada_1_dating_white, LR, Image Features: model training ended. AUC: 54.41, accuracy: 67.5\n",
      " 33%|███▎      | 1/3 [00:01<00:02,  1.23s/it]2021-08-18 19:00:45.755 | DEBUG    | __main__:<module>:67 - canada_1_dating_white, NN, Image and Extracted Features: model training started.\n"
     ]
    },
    {
     "output_type": "stream",
     "name": "stdout",
     "text": [
      "Train on 640 samples, validate on 160 samples\n",
      "Epoch 1/1\n",
      "640/640 [==============================] - 1s 1ms/step - loss: 1.7573 - accuracy: 0.3078 - val_loss: 2.8945 - val_accuracy: 0.7937\n"
     ]
    },
    {
     "output_type": "stream",
     "name": "stderr",
     "text": [
      "2021-08-18 19:00:46.752 | DEBUG    | __main__:<module>:74 - ethnicity_groups, NN, Image and Extracted Features: model training ended and model saved.\n",
      "2021-08-18 19:00:46.866 | DEBUG    | __main__:<module>:82 - canada_1_dating_white, NN, Image and Extracted Features: model training ended. AUC: 56.22, accuracy: 69.0\n",
      "2021-08-18 19:00:46.867 | DEBUG    | __main__:<module>:67 - canada_1_dating_white, LR, Image and Extracted Features: model training started.\n",
      "/opt/anaconda3/envs/tf/lib/python3.7/site-packages/sklearn/linear_model/_sag.py:329: ConvergenceWarning: The max_iter was reached which means the coef_ did not converge\n",
      "  \"the coef_ did not converge\", ConvergenceWarning)\n",
      "2021-08-18 19:00:46.993 | DEBUG    | __main__:<module>:74 - ethnicity_groups, LR, Image and Extracted Features: model training ended and model saved.\n",
      "2021-08-18 19:00:47.016 | DEBUG    | __main__:<module>:82 - canada_1_dating_white, LR, Image and Extracted Features: model training ended. AUC: 52.09, accuracy: 67.5\n",
      " 67%|██████▋   | 2/3 [00:02<00:01,  1.25s/it]2021-08-18 19:00:47.017 | DEBUG    | __main__:<module>:67 - canada_1_dating_white, NN, Image, Self-reported and Extracted Features: model training started.\n"
     ]
    },
    {
     "output_type": "stream",
     "name": "stdout",
     "text": [
      "Train on 640 samples, validate on 160 samples\n",
      "Epoch 1/1\n",
      "640/640 [==============================] - 1s 936us/step - loss: 0.9671 - accuracy: 0.7031 - val_loss: 2.3574 - val_accuracy: 0.2500\n"
     ]
    },
    {
     "output_type": "stream",
     "name": "stderr",
     "text": [
      "2021-08-18 19:00:47.970 | DEBUG    | __main__:<module>:74 - ethnicity_groups, NN, Image, Self-reported and Extracted Features: model training ended and model saved.\n",
      "2021-08-18 19:00:48.084 | DEBUG    | __main__:<module>:82 - canada_1_dating_white, NN, Image, Self-reported and Extracted Features: model training ended. AUC: 45.57, accuracy: 32.0\n",
      "2021-08-18 19:00:48.085 | DEBUG    | __main__:<module>:67 - canada_1_dating_white, LR, Image, Self-reported and Extracted Features: model training started.\n",
      "/opt/anaconda3/envs/tf/lib/python3.7/site-packages/sklearn/linear_model/_sag.py:329: ConvergenceWarning: The max_iter was reached which means the coef_ did not converge\n",
      "  \"the coef_ did not converge\", ConvergenceWarning)\n",
      "2021-08-18 19:00:48.214 | DEBUG    | __main__:<module>:74 - ethnicity_groups, LR, Image, Self-reported and Extracted Features: model training ended and model saved.\n",
      "2021-08-18 19:00:48.238 | DEBUG    | __main__:<module>:82 - canada_1_dating_white, LR, Image, Self-reported and Extracted Features: model training ended. AUC: 48.04, accuracy: 67.0\n",
      "100%|██████████| 3/3 [00:03<00:00,  1.24s/it]\n",
      "2021-08-18 19:00:48.677 | DEBUG    | __main__:<module>:9 - Data size after cleaning is (1000, 2076)\n",
      "2021-08-18 19:00:48.685 | DEBUG    | __main__:<module>:20 - Started the script for canada_1_dating_black.\n",
      "  0%|          | 0/3 [00:00<?, ?it/s]2021-08-18 19:00:48.687 | DEBUG    | __main__:<module>:67 - canada_1_dating_black, NN, Image Features: model training started.\n"
     ]
    },
    {
     "output_type": "stream",
     "name": "stdout",
     "text": [
      "Train on 640 samples, validate on 160 samples\n",
      "Epoch 1/1\n",
      "640/640 [==============================] - 1s 949us/step - loss: 0.6537 - accuracy: 0.6297 - val_loss: 0.6302 - val_accuracy: 0.7250\n"
     ]
    },
    {
     "output_type": "stream",
     "name": "stderr",
     "text": [
      "2021-08-18 19:00:49.784 | DEBUG    | __main__:<module>:74 - ethnicity_groups, NN, Image Features: model training ended and model saved.\n",
      "2021-08-18 19:00:49.914 | DEBUG    | __main__:<module>:82 - canada_1_dating_black, NN, Image Features: model training ended. AUC: 49.81, accuracy: 69.5\n",
      "2021-08-18 19:00:49.915 | DEBUG    | __main__:<module>:67 - canada_1_dating_black, LR, Image Features: model training started.\n",
      "/opt/anaconda3/envs/tf/lib/python3.7/site-packages/sklearn/linear_model/_sag.py:329: ConvergenceWarning: The max_iter was reached which means the coef_ did not converge\n",
      "  \"the coef_ did not converge\", ConvergenceWarning)\n",
      "2021-08-18 19:00:50.041 | DEBUG    | __main__:<module>:74 - ethnicity_groups, LR, Image Features: model training ended and model saved.\n",
      "2021-08-18 19:00:50.064 | DEBUG    | __main__:<module>:82 - canada_1_dating_black, LR, Image Features: model training ended. AUC: 59.32, accuracy: 71.5\n",
      " 33%|███▎      | 1/3 [00:01<00:02,  1.38s/it]2021-08-18 19:00:50.065 | DEBUG    | __main__:<module>:67 - canada_1_dating_black, NN, Image and Extracted Features: model training started.\n"
     ]
    },
    {
     "output_type": "stream",
     "name": "stdout",
     "text": [
      "Train on 640 samples, validate on 160 samples\n",
      "Epoch 1/1\n",
      "640/640 [==============================] - 1s 955us/step - loss: 0.9866 - accuracy: 0.3703 - val_loss: 2.5613 - val_accuracy: 0.7188\n"
     ]
    },
    {
     "output_type": "stream",
     "name": "stderr",
     "text": [
      "2021-08-18 19:00:51.042 | DEBUG    | __main__:<module>:74 - ethnicity_groups, NN, Image and Extracted Features: model training ended and model saved.\n",
      "2021-08-18 19:00:51.156 | DEBUG    | __main__:<module>:82 - canada_1_dating_black, NN, Image and Extracted Features: model training ended. AUC: 46.47, accuracy: 75.0\n",
      "2021-08-18 19:00:51.157 | DEBUG    | __main__:<module>:67 - canada_1_dating_black, LR, Image and Extracted Features: model training started.\n",
      "/opt/anaconda3/envs/tf/lib/python3.7/site-packages/sklearn/linear_model/_sag.py:329: ConvergenceWarning: The max_iter was reached which means the coef_ did not converge\n",
      "  \"the coef_ did not converge\", ConvergenceWarning)\n",
      "2021-08-18 19:00:51.282 | DEBUG    | __main__:<module>:74 - ethnicity_groups, LR, Image and Extracted Features: model training ended and model saved.\n",
      "2021-08-18 19:00:51.307 | DEBUG    | __main__:<module>:82 - canada_1_dating_black, LR, Image and Extracted Features: model training ended. AUC: 55.15, accuracy: 75.0\n",
      " 67%|██████▋   | 2/3 [00:02<00:01,  1.30s/it]2021-08-18 19:00:51.309 | DEBUG    | __main__:<module>:67 - canada_1_dating_black, NN, Image, Self-reported and Extracted Features: model training started.\n"
     ]
    },
    {
     "output_type": "stream",
     "name": "stdout",
     "text": [
      "Train on 640 samples, validate on 160 samples\n",
      "Epoch 1/1\n",
      "640/640 [==============================] - 1s 959us/step - loss: 0.6917 - accuracy: 0.5297 - val_loss: 2.3305 - val_accuracy: 0.7188\n"
     ]
    },
    {
     "output_type": "stream",
     "name": "stderr",
     "text": [
      "2021-08-18 19:00:52.299 | DEBUG    | __main__:<module>:74 - ethnicity_groups, NN, Image, Self-reported and Extracted Features: model training ended and model saved.\n",
      "2021-08-18 19:00:52.419 | DEBUG    | __main__:<module>:82 - canada_1_dating_black, NN, Image, Self-reported and Extracted Features: model training ended. AUC: 49.65, accuracy: 75.0\n",
      "2021-08-18 19:00:52.419 | DEBUG    | __main__:<module>:67 - canada_1_dating_black, LR, Image, Self-reported and Extracted Features: model training started.\n",
      "/opt/anaconda3/envs/tf/lib/python3.7/site-packages/sklearn/linear_model/_sag.py:329: ConvergenceWarning: The max_iter was reached which means the coef_ did not converge\n",
      "  \"the coef_ did not converge\", ConvergenceWarning)\n",
      "2021-08-18 19:00:52.542 | DEBUG    | __main__:<module>:74 - ethnicity_groups, LR, Image, Self-reported and Extracted Features: model training ended and model saved.\n",
      "2021-08-18 19:00:52.565 | DEBUG    | __main__:<module>:82 - canada_1_dating_black, LR, Image, Self-reported and Extracted Features: model training ended. AUC: 60.68, accuracy: 52.5\n",
      "100%|██████████| 3/3 [00:03<00:00,  1.29s/it]\n",
      "2021-08-18 19:00:53.014 | DEBUG    | __main__:<module>:9 - Data size after cleaning is (1000, 2076)\n",
      "2021-08-18 19:00:53.020 | DEBUG    | __main__:<module>:20 - Started the script for united states_0_dating_india.\n",
      "  0%|          | 0/3 [00:00<?, ?it/s]2021-08-18 19:00:53.022 | DEBUG    | __main__:<module>:67 - united states_0_dating_india, NN, Image Features: model training started.\n"
     ]
    },
    {
     "output_type": "stream",
     "name": "stdout",
     "text": [
      "Train on 640 samples, validate on 160 samples\n",
      "Epoch 1/1\n",
      "640/640 [==============================] - 1s 936us/step - loss: 0.7231 - accuracy: 0.4625 - val_loss: 0.6942 - val_accuracy: 0.5063\n"
     ]
    },
    {
     "output_type": "stream",
     "name": "stderr",
     "text": [
      "2021-08-18 19:00:54.080 | DEBUG    | __main__:<module>:74 - ethnicity_groups, NN, Image Features: model training ended and model saved.\n"
     ]
    }
   ],
   "metadata": {}
  },
  {
   "cell_type": "code",
   "execution_count": null,
   "source": [
    "# Save results summary to disk\n",
    "\n",
    "save_results_filepath = Path(RESULTS_DIR + RESULTS_STATS_FILENAME)\n",
    "utils.save_results(results_array = results, \n",
    "                     location = save_results_filepath,\n",
    "                     columns = RESULTS_COLS)\n",
    "print(pd.DataFrame(results,columns = RESULTS_COLS))\n",
    "logger.debug(f\"Script for {GROUP_NAME} finished.\")"
   ],
   "outputs": [
    {
     "output_type": "stream",
     "name": "stderr",
     "text": [
      "2021-08-18 18:55:23.956 | DEBUG    | utils.utils:save_results:263 - Results Saved.\n",
      "2021-08-18 18:55:23.963 | DEBUG    | __main__:<module>:8 - Script for ethnicity_groups finished.\n"
     ]
    },
    {
     "output_type": "stream",
     "name": "stdout",
     "text": [
      "           Group Name Model                                  Feature Set  \\\n",
      "0    ethnicity_groups    NN                               Image Features   \n",
      "1    ethnicity_groups    LR                               Image Features   \n",
      "2    ethnicity_groups    NN             Image and Self Reported Features   \n",
      "3    ethnicity_groups    LR             Image and Self Reported Features   \n",
      "4    ethnicity_groups    NN                 Image and Extracted Features   \n",
      "..                ...   ...                                          ...   \n",
      "251  ethnicity_groups    LR             Image and Self Reported Features   \n",
      "252  ethnicity_groups    NN                 Image and Extracted Features   \n",
      "253  ethnicity_groups    LR                 Image and Extracted Features   \n",
      "254  ethnicity_groups    NN  Image, Self-reported and Extracted Features   \n",
      "255  ethnicity_groups    LR  Image, Self-reported and Extracted Features   \n",
      "\n",
      "     Test AUC  Test Accuracy  \n",
      "0       58.07           63.5  \n",
      "1       57.80           58.0  \n",
      "2       60.40           60.5  \n",
      "3       57.99           58.0  \n",
      "4       50.15           55.5  \n",
      "..        ...            ...  \n",
      "251     74.11           82.5  \n",
      "252     54.12           79.5  \n",
      "253     64.61           79.0  \n",
      "254     50.33           85.5  \n",
      "255     74.39           81.5  \n",
      "\n",
      "[256 rows x 5 columns]\n"
     ]
    }
   ],
   "metadata": {}
  }
 ],
 "metadata": {
  "colab": {
   "collapsed_sections": [],
   "name": "Ethnicity_segments_LR.ipynb",
   "provenance": []
  },
  "kernelspec": {
   "name": "python3",
   "display_name": "Python 3.7.10 64-bit ('tf': conda)"
  },
  "language_info": {
   "codemirror_mode": {
    "name": "ipython",
    "version": 3
   },
   "file_extension": ".py",
   "mimetype": "text/x-python",
   "name": "python",
   "nbconvert_exporter": "python",
   "pygments_lexer": "ipython3",
   "version": "3.7.10"
  },
  "interpreter": {
   "hash": "10e89b4373ca82b9aa008416dbc6678ec2573a3d463e333e4d350f38af34d33f"
  }
 },
 "nbformat": 4,
 "nbformat_minor": 4
}