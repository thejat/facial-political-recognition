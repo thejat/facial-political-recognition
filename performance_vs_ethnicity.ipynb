{
 "cells": [
  {
   "cell_type": "code",
   "execution_count": 1,
   "source": [
    "import os\n",
    "import random \n",
    "import pandas as pd\n",
    "import warnings\n",
    "import sys\n",
    "from sklearn.linear_model import LogisticRegression\n",
    "from sklearn.metrics import roc_curve\n",
    "from tqdm import tqdm\n",
    "\n",
    "# local imports\n",
    "sys.path.append(r\"./utils\")\n",
    "from utils import utils\n",
    "\n",
    "random.seed(1234)\n",
    "warnings.filterwarnings('ignore')"
   ],
   "outputs": [
    {
     "output_type": "stream",
     "name": "stderr",
     "text": [
      "Using TensorFlow backend.\n"
     ]
    }
   ],
   "metadata": {}
  },
  {
   "cell_type": "code",
   "execution_count": 2,
   "source": [
    "COLAB = False\n",
    "DEBUG = True\n",
    "DATA_DIR = \"./data/full/\"\n",
    "results_file_loc = \"results/ethnicity comparison/ethinicity_groups_results.csv\"\n",
    "\n",
    "if DEBUG:\n",
    "    DATA_DIR = \"./data/sample/\"\n",
    "\n",
    "DATA_DROP_COLS = \\\n",
    "           ['Unnamed: 0', # index columns\n",
    "           'Unnamed: 0.1', # TODO might need to change this for bigger dataset. \n",
    "            'gender', # self reported and filtered already\n",
    "            'country', # self reported and filtered already\n",
    "            'userid', # index equivalent column \n",
    "            'pol_dat_us', # redundant columns with label\n",
    "            'pol_dat_ca', # redundant columns with label\n",
    "            'pol_dat_uk', # redundant columns with label\n",
    "            'pol_fb_us', # redundant columns with label\n",
    "            'database', # filtered already \n",
    "            'ethnicity.value' # filtered already\n",
    "            ]"
   ],
   "outputs": [],
   "metadata": {}
  },
  {
   "cell_type": "code",
   "execution_count": 3,
   "source": [
    "if COLAB:\n",
    "  from google.colab import drive\n",
    "  drive.mount('/content/drive')\n",
    "    \n",
    "  #TODO: untested for COLAB == True, more might be needed here\n",
    "  DATA_DIR = \"/content/drive/Shareddrives/Facial Recognition/data/\""
   ],
   "outputs": [],
   "metadata": {
    "colab": {
     "base_uri": "https://localhost:8080/"
    },
    "executionInfo": {
     "elapsed": 27282,
     "status": "ok",
     "timestamp": 1628212818347,
     "user": {
      "displayName": "Babandeep Singh",
      "photoUrl": "",
      "userId": "14171741079947983888"
     },
     "user_tz": -330
    },
    "id": "IGzNWI5xsm4D",
    "outputId": "da52c7bc-7ec7-4170-ca05-d01fe3edc9de"
   }
  },
  {
   "cell_type": "code",
   "execution_count": 4,
   "source": [
    "# List of data file paths\n",
    "\n",
    "folders = os.listdir(DATA_DIR)\n",
    "dataset_paths = []\n",
    "for folder in tqdm(folders):\n",
    "  csv_files = os.listdir(DATA_DIR + folder)\n",
    "  for csv in csv_files:\n",
    "    if '.csv' in csv:\n",
    "      if DEBUG: print(DATA_DIR + folder + \"/\" + csv)\n",
    "      dataset_paths.append(DATA_DIR + folder + \"/\" + csv)"
   ],
   "outputs": [
    {
     "output_type": "stream",
     "name": "stderr",
     "text": [
      "100%|██████████| 9/9 [00:00<00:00, 4039.46it/s]"
     ]
    },
    {
     "output_type": "stream",
     "name": "stdout",
     "text": [
      "./data/sample/UK_0_dating/segment_united kingdom_0_dating_black.csv\n",
      "./data/sample/UK_0_dating/segment_united kingdom_0_dating_asian.csv\n",
      "./data/sample/UK_0_dating/segment_united kingdom_0_dating_india.csv\n",
      "./data/sample/UK_0_dating/segment_united kingdom_0_dating_white.csv\n",
      "./data/sample/Canada_1_dating/segment_canada_1_dating_asian.csv\n",
      "./data/sample/Canada_1_dating/segment_canada_1_dating_india.csv\n",
      "./data/sample/Canada_1_dating/segment_canada_1_dating_white.csv\n",
      "./data/sample/Canada_1_dating/segment_canada_1_dating_black.csv\n",
      "./data/sample/US_0_dating/segment_united states_0_dating_india.csv\n",
      "./data/sample/US_0_dating/segment_united states_0_dating_asian.csv\n",
      "./data/sample/US_0_dating/segment_united states_0_dating_white.csv\n",
      "./data/sample/US_0_dating/segment_united states_0_dating_black.csv\n",
      "./data/sample/Canada_0_dating/segment_canada_0_dating_asian.csv\n",
      "./data/sample/Canada_0_dating/segment_canada_0_dating_india.csv\n",
      "./data/sample/Canada_0_dating/segment_canada_0_dating_white.csv\n",
      "./data/sample/Canada_0_dating/segment_canada_0_dating_black.csv\n",
      "./data/sample/UK_1_dating/segment_united kingdom_1_dating_black.csv\n",
      "./data/sample/UK_1_dating/segment_united kingdom_1_dating_asian.csv\n",
      "./data/sample/UK_1_dating/segment_united kingdom_1_dating_india.csv\n",
      "./data/sample/UK_1_dating/segment_united kingdom_1_dating_white.csv\n",
      "./data/sample/US_1_FB/segment_united states_1_fb_white.csv\n",
      "./data/sample/US_1_FB/segment_united states_1_fb_india.csv\n",
      "./data/sample/US_1_FB/segment_united states_1_fb_asian.csv\n",
      "./data/sample/US_1_FB/segment_united states_1_fb_black.csv\n",
      "./data/sample/US_1_dating/segment_united states_1_dating_india.csv\n",
      "./data/sample/US_1_dating/segment_united states_1_dating_asian.csv\n",
      "./data/sample/US_1_dating/segment_united states_1_dating_white.csv\n",
      "./data/sample/US_1_dating/segment_united states_1_dating_black.csv\n",
      "./data/sample/US_0_FB/segment_united states_0_fb_india.csv\n",
      "./data/sample/US_0_FB/segment_united states_0_fb_asian.csv\n",
      "./data/sample/US_0_FB/segment_united states_0_fb_white.csv\n",
      "./data/sample/US_0_FB/segment_united states_0_fb_black.csv\n"
     ]
    },
    {
     "output_type": "stream",
     "name": "stderr",
     "text": [
      "\n"
     ]
    }
   ],
   "metadata": {}
  },
  {
   "cell_type": "code",
   "execution_count": 6,
   "source": [
    "results = []\n",
    "problematic_data = []\n",
    "for c, dataset_path in tqdm(enumerate(dataset_paths)):\n",
    "  data = utils.get_clean_data(dataset_path, DATA_DROP_COLS)\n",
    "\n",
    "  # which group it is being processed on \n",
    "  group_name = utils.get_dataframe_name(dataset_path)\n",
    "  \n",
    "  only_image_cols = list(map(str, range(1,2049))) + ['pol']\n",
    "  image_self_reported = only_image_cols + ['age']\n",
    "\n",
    "  \n",
    "  try:\n",
    "    dataframe_dict = {\n",
    "    \"Only Image Features\" : data[only_image_cols],\n",
    "    \"Image and Self Reported Features\" : data[image_self_reported],\n",
    "    \"Image and extracted Features\":data.drop(\"age\",axis = 1),\n",
    "    \"Image, Self-reported and Extracted Features\": data\n",
    "  }\n",
    "  \n",
    "    for data_name, data_set in dataframe_dict.items():\n",
    "      for model_name in [\"NN\",\"LR\"]:\n",
    "        auc, acc = utils.fit_and_get_metrics(data_set, model_name)\n",
    "        results.append([group_name,model_name,data_name,auc,acc])\n",
    "  except:\n",
    "    problematic_data.append([dataset_path,group_name]) # DEBUG to check if the dataframe is off somewhere. \n",
    "    \n",
    "\n",
    "results_df = pd.DataFrame(results, columns = [\"Group_Name\",\"Model\",\"feature_set\",\"Test AUC\",\"Test ACC\"])\n",
    "\n",
    "results_df.to_csv(results_file_loc, index=False)\n",
    "print(\" Segment Results Saved !!\")"
   ],
   "outputs": [
    {
     "output_type": "stream",
     "name": "stderr",
     "text": [
      "32it [10:32, 19.75s/it]"
     ]
    },
    {
     "output_type": "stream",
     "name": "stdout",
     "text": [
      " Segment Results Saved !!\n"
     ]
    },
    {
     "output_type": "stream",
     "name": "stderr",
     "text": [
      "\n"
     ]
    }
   ],
   "metadata": {
    "id": "LbtQu6okxgoO"
   }
  },
  {
   "cell_type": "code",
   "execution_count": 14,
   "source": [
    "df = pd.read_csv(results_file_loc)\n",
    "\n",
    "df.head()"
   ],
   "outputs": [
    {
     "output_type": "execute_result",
     "data": {
      "text/plain": [
       "                      Group_Name Model                       feature_set  \\\n",
       "0  united kingdom_0_dating_black    NN               Only Image Features   \n",
       "1  united kingdom_0_dating_black    LR               Only Image Features   \n",
       "2  united kingdom_0_dating_black    NN  Image and Self Reported Features   \n",
       "3  united kingdom_0_dating_black    LR  Image and Self Reported Features   \n",
       "4  united kingdom_0_dating_black    NN      Image and extracted Features   \n",
       "\n",
       "   Test AUC  Test ACC  \n",
       "0     64.25      62.0  \n",
       "1     61.62      58.0  \n",
       "2     65.88      68.0  \n",
       "3     63.46      64.0  \n",
       "4     55.92      61.5  "
      ],
      "text/html": [
       "<div>\n",
       "<style scoped>\n",
       "    .dataframe tbody tr th:only-of-type {\n",
       "        vertical-align: middle;\n",
       "    }\n",
       "\n",
       "    .dataframe tbody tr th {\n",
       "        vertical-align: top;\n",
       "    }\n",
       "\n",
       "    .dataframe thead th {\n",
       "        text-align: right;\n",
       "    }\n",
       "</style>\n",
       "<table border=\"1\" class=\"dataframe\">\n",
       "  <thead>\n",
       "    <tr style=\"text-align: right;\">\n",
       "      <th></th>\n",
       "      <th>Group_Name</th>\n",
       "      <th>Model</th>\n",
       "      <th>feature_set</th>\n",
       "      <th>Test AUC</th>\n",
       "      <th>Test ACC</th>\n",
       "    </tr>\n",
       "  </thead>\n",
       "  <tbody>\n",
       "    <tr>\n",
       "      <th>0</th>\n",
       "      <td>united kingdom_0_dating_black</td>\n",
       "      <td>NN</td>\n",
       "      <td>Only Image Features</td>\n",
       "      <td>64.25</td>\n",
       "      <td>62.0</td>\n",
       "    </tr>\n",
       "    <tr>\n",
       "      <th>1</th>\n",
       "      <td>united kingdom_0_dating_black</td>\n",
       "      <td>LR</td>\n",
       "      <td>Only Image Features</td>\n",
       "      <td>61.62</td>\n",
       "      <td>58.0</td>\n",
       "    </tr>\n",
       "    <tr>\n",
       "      <th>2</th>\n",
       "      <td>united kingdom_0_dating_black</td>\n",
       "      <td>NN</td>\n",
       "      <td>Image and Self Reported Features</td>\n",
       "      <td>65.88</td>\n",
       "      <td>68.0</td>\n",
       "    </tr>\n",
       "    <tr>\n",
       "      <th>3</th>\n",
       "      <td>united kingdom_0_dating_black</td>\n",
       "      <td>LR</td>\n",
       "      <td>Image and Self Reported Features</td>\n",
       "      <td>63.46</td>\n",
       "      <td>64.0</td>\n",
       "    </tr>\n",
       "    <tr>\n",
       "      <th>4</th>\n",
       "      <td>united kingdom_0_dating_black</td>\n",
       "      <td>NN</td>\n",
       "      <td>Image and extracted Features</td>\n",
       "      <td>55.92</td>\n",
       "      <td>61.5</td>\n",
       "    </tr>\n",
       "  </tbody>\n",
       "</table>\n",
       "</div>"
      ]
     },
     "metadata": {},
     "execution_count": 14
    }
   ],
   "metadata": {}
  },
  {
   "cell_type": "code",
   "execution_count": null,
   "source": [],
   "outputs": [],
   "metadata": {}
  }
 ],
 "metadata": {
  "colab": {
   "collapsed_sections": [],
   "name": "Ethnicity_segments_LR.ipynb",
   "provenance": []
  },
  "kernelspec": {
   "name": "python3",
   "display_name": "Python 3.7.10 64-bit ('tf': conda)"
  },
  "language_info": {
   "codemirror_mode": {
    "name": "ipython",
    "version": 3
   },
   "file_extension": ".py",
   "mimetype": "text/x-python",
   "name": "python",
   "nbconvert_exporter": "python",
   "pygments_lexer": "ipython3",
   "version": "3.7.10"
  },
  "interpreter": {
   "hash": "10e89b4373ca82b9aa008416dbc6678ec2573a3d463e333e4d350f38af34d33f"
  }
 },
 "nbformat": 4,
 "nbformat_minor": 4
}