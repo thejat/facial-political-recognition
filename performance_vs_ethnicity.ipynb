{
 "cells": [
  {
   "cell_type": "code",
   "execution_count": 1,
   "metadata": {},
   "outputs": [],
   "source": [
    "import os\n",
    "import random \n",
    "import pandas as pd\n",
    "import warnings\n",
    "import sys\n",
    "from sklearn.linear_model import LogisticRegression\n",
    "from sklearn.metrics import roc_curve\n",
    "from tqdm import tqdm\n",
    "\n",
    "# local imports\n",
    "sys.path.append(r\"../utils\")\n",
    "import utils\n",
    "\n",
    "random.seed(1234)\n",
    "warnings.filterwarnings('ignore')"
   ]
  },
  {
   "cell_type": "code",
   "execution_count": 2,
   "metadata": {},
   "outputs": [],
   "source": [
    "COLAB = False\n",
    "DEBUG = True\n",
    "DATA_DIR = \"../data/full/\"\n",
    "\n",
    "if DEBUG:\n",
    "    DATA_DIR = \"../data/sample/\"\n",
    "\n",
    "DATA_DROP_COLS = \\\n",
    "           ['Unnamed: 0', # index columns\n",
    "            # 'pol',  # label column\n",
    "            'gender', # self reported and filtered already\n",
    "            # 'age', # self-reported  \n",
    "            'country', # self reported and filtered already\n",
    "            'userid', # index equivalent column \n",
    "            'pol_dat_us', # redundant columns with label\n",
    "            'pol_dat_ca', # redundant columns with label\n",
    "            'pol_dat_uk', # redundant columns with label\n",
    "            'pol_fb_us', # redundant columns with label\n",
    "            'database', # filtered already \n",
    "            'ethnicity.value' # filtered already\n",
    "            ]"
   ]
  },
  {
   "cell_type": "code",
   "execution_count": 4,
   "metadata": {
    "colab": {
     "base_uri": "https://localhost:8080/"
    },
    "executionInfo": {
     "elapsed": 27282,
     "status": "ok",
     "timestamp": 1628212818347,
     "user": {
      "displayName": "Babandeep Singh",
      "photoUrl": "",
      "userId": "14171741079947983888"
     },
     "user_tz": -330
    },
    "id": "IGzNWI5xsm4D",
    "outputId": "da52c7bc-7ec7-4170-ca05-d01fe3edc9de"
   },
   "outputs": [],
   "source": [
    "if COLAB:\n",
    "  from google.colab import drive\n",
    "  drive.mount('/content/drive')\n",
    "    \n",
    "  #TODO: untested for COLAB == True, more might be needed here\n",
    "  DATA_DIR = \"/content/drive/Shareddrives/Facial Recognition/data/\""
   ]
  },
  {
   "cell_type": "code",
   "execution_count": 5,
   "metadata": {},
   "outputs": [
    {
     "name": "stderr",
     "output_type": "stream",
     "text": [
      "100%|██████████| 9/9 [00:00<00:00, 2986.21it/s]"
     ]
    },
    {
     "name": "stdout",
     "output_type": "stream",
     "text": [
      "../data/sample/US_1_FB/segment_united states_1_fb_white.csv\n",
      "../data/sample/US_1_FB/segment_united states_1_fb_asian.csv\n",
      "../data/sample/US_1_FB/segment_united states_1_fb_india.csv\n",
      "../data/sample/US_1_FB/segment_united states_1_fb_black.csv\n",
      "../data/sample/UK_1_dating/segment_united kingdom_1_dating_white.csv\n",
      "../data/sample/UK_1_dating/segment_united kingdom_1_dating_black.csv\n",
      "../data/sample/UK_1_dating/segment_united kingdom_1_dating_india.csv\n",
      "../data/sample/UK_1_dating/segment_united kingdom_1_dating_asian.csv\n",
      "../data/sample/Canada_1_dating/segment_canada_1_dating_india.csv\n",
      "../data/sample/Canada_1_dating/segment_canada_1_dating_asian.csv\n",
      "../data/sample/Canada_1_dating/segment_canada_1_dating_black.csv\n",
      "../data/sample/Canada_1_dating/segment_canada_1_dating_white.csv\n",
      "../data/sample/Canada_0_dating/segment_canada_0_dating_asian.csv\n",
      "../data/sample/Canada_0_dating/segment_canada_0_dating_india.csv\n",
      "../data/sample/Canada_0_dating/segment_canada_0_dating_white.csv\n",
      "../data/sample/Canada_0_dating/segment_canada_0_dating_black.csv\n",
      "../data/sample/US_0_dating/segment_united states_0_dating_white.csv\n",
      "../data/sample/US_0_dating/segment_united states_0_dating_black.csv\n",
      "../data/sample/US_0_dating/segment_united states_0_dating_india.csv\n",
      "../data/sample/US_0_dating/segment_united states_0_dating_asian.csv\n",
      "../data/sample/US_0_FB/segment_united states_0_fb_asian.csv\n",
      "../data/sample/US_0_FB/segment_united states_0_fb_india.csv\n",
      "../data/sample/US_0_FB/segment_united states_0_fb_white.csv\n",
      "../data/sample/US_0_FB/segment_united states_0_fb_black.csv\n",
      "../data/sample/US_1_dating/segment_united states_1_dating_asian.csv\n",
      "../data/sample/US_1_dating/segment_united states_1_dating_black.csv\n",
      "../data/sample/US_1_dating/segment_united states_1_dating_india.csv\n",
      "../data/sample/US_1_dating/segment_united states_1_dating_white.csv\n",
      "../data/sample/UK_0_dating/segment_united kingdom_0_dating_black.csv\n",
      "../data/sample/UK_0_dating/segment_united kingdom_0_dating_india.csv\n",
      "../data/sample/UK_0_dating/segment_united kingdom_0_dating_white.csv\n",
      "../data/sample/UK_0_dating/segment_united kingdom_0_dating_asian.csv\n"
     ]
    },
    {
     "name": "stderr",
     "output_type": "stream",
     "text": [
      "\n"
     ]
    }
   ],
   "source": [
    "# List of data files\n",
    "\n",
    "folders = os.listdir(DATA_DIR)\n",
    "dataset_paths = []\n",
    "for folder in tqdm(folders):\n",
    "  csv_files = os.listdir(DATA_DIR + folder)\n",
    "  for csv in csv_files:\n",
    "    if '.csv' in csv:\n",
    "      if DEBUG: print(DATA_DIR + folder + \"/\" + csv)\n",
    "      dataset_paths.append(DATA_DIR + folder + \"/\" + csv)"
   ]
  },
  {
   "cell_type": "code",
   "execution_count": 2,
   "metadata": {
    "id": "LbtQu6okxgoO"
   },
   "outputs": [],
   "source": [
    "class_distribution = []\n",
    "results = []\n",
    "\n",
    "for c, dataset_path in tqdm(enumerate(dataset_paths)):\n",
    "  data = utils.clean_data(dataset_path, DATA_DROP_COLS)\n",
    "\n",
    "    label_df = data['pol']\n",
    "\n",
    "    # image features \n",
    "    image_cols = list(map(str, range(1,2049)))\n",
    "    image_feature_df = data[image_cols]\n",
    "    img_df = pd.concat([label_df,image_feature_df], axis =1)\n",
    "\n",
    "    # image and self reported \n",
    "    SR_df = data[['age']]\n",
    "    img_SR_df = pd.concat([img_df, SR_df ], axis =1)\n",
    "\n",
    "    # image and extracted features \n",
    "    extracted_df = data.drop([ 'age','pol'], axis =1)\n",
    "    cat_cols = extracted_df.select_dtypes(include=['object']).columns\n",
    "    num_df = pd.get_dummies(extracted_df[list(cat_cols)])\n",
    "    extracted_df = pd.concat([label_df,extracted_df.drop(cat_cols,axis =1),num_df], axis =1)\n",
    "\n",
    "    # extracted features and self_reported (whole dataset)\n",
    "    EX_SR_df = pd.concat([ SR_df, extracted_df ], axis =1)\n",
    "\n",
    "    \"\"\"# training the models and getting the values \"\"\"\n",
    "    # instantiate models \n",
    "    lr = LogisticRegression(penalty='l1',solver=\"saga\")\n",
    "\n",
    "    # getting accuracies \n",
    "    feature_auc, feature_acc, feature_samples = get_accuracy(data =img_df,model=lr)\n",
    "    # print(feature_auc, feature_acc, feature_samples, sep = \" | \")\n",
    "    res = [\"Only Image Features\",feature_auc, feature_acc, csv[8:-4]]\n",
    "    results.append(res)\n",
    "\n",
    "    # getting accuracies \n",
    "    feature_auc, feature_acc, feature_samples = get_accuracy(data =img_SR_df ,model=lr)\n",
    "    # print(feature_auc, feature_acc, feature_samples, sep = \" | \")\n",
    "    res = [\"Image and Self-reported Features\",feature_auc, feature_acc, csv[8:-4]]\n",
    "    results.append(res)\n",
    "\n",
    "    # getting accuracies \n",
    "    feature_auc, feature_acc, feature_samples = get_accuracy(data =extracted_df ,model=lr)\n",
    "    # print(feature_auc, feature_acc, feature_samples, sep = \" | \")\n",
    "    res = [\"Image and Extracted Features\",feature_auc, feature_acc,csv[8:-4]]\n",
    "    results.append(res)\n",
    "\n",
    "    # getting accuracies \n",
    "    feature_auc, feature_acc, feature_samples = get_accuracy(data =EX_SR_df ,model=lr)\n",
    "    # print(feature_auc, feature_acc, feature_samples, sep = \" | \")\n",
    "    res = [\"Image, SR and Extracted Features\",feature_auc, feature_acc,csv[8:-4]]\n",
    "    results.append(res)\n",
    "\n",
    "    # saving the results \n",
    "    save_segment_results(results)\n",
    "\n",
    "    c+=1\n",
    "    print(f\" Completed {round((c/24)*100 ,2)}% \")"
   ]
  }
 ],
 "metadata": {
  "colab": {
   "collapsed_sections": [],
   "name": "Ethnicity_segments_LR.ipynb",
   "provenance": []
  },
  "kernelspec": {
   "display_name": "Python 3",
   "language": "python",
   "name": "python3"
  },
  "language_info": {
   "codemirror_mode": {
    "name": "ipython",
    "version": 3
   },
   "file_extension": ".py",
   "mimetype": "text/x-python",
   "name": "python",
   "nbconvert_exporter": "python",
   "pygments_lexer": "ipython3",
   "version": "3.8.11"
  }
 },
 "nbformat": 4,
 "nbformat_minor": 4
}
