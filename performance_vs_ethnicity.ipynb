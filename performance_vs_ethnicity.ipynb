{
 "cells": [
  {
   "cell_type": "code",
   "execution_count": 1,
   "source": [
    "# Imports\n",
    "\n",
    "import os\n",
    "import pandas as pd\n",
    "import sys\n",
    "from sklearn.model_selection import train_test_split\n",
    "from tqdm import tqdm\n",
    "from loguru import logger\n",
    "from pathlib import Path\n",
    "\n",
    "# Local imports\n",
    "sys.path.append(r\"./utils\")\n",
    "from utils import utils"
   ],
   "outputs": [
    {
     "output_type": "stream",
     "name": "stderr",
     "text": [
      "Using TensorFlow backend.\n"
     ]
    }
   ],
   "metadata": {}
  },
  {
   "cell_type": "code",
   "execution_count": 2,
   "source": [
    "# Constants\n",
    "\n",
    "SAMPLE_DATA = True\n",
    "DEBUG_MODEL = True\n",
    "\n",
    "GROUP_NAME = \"ethnicity_groups\"  # TODO : Changed this for ethnicity segments. \n",
    "MODEL_DICT = \\\n",
    "            {\"NN\": {'epochs': 25} , \n",
    "             \"LR\": {'max_iter': 100}\n",
    "            }\n",
    "SELF_REPORTED_COLS = \\\n",
    "           ['age',\n",
    "            # 'country_canada', \n",
    "            # 'country_united kingdom',\n",
    "            # 'country_united states',\n",
    "            # 'database_dating',\n",
    "            # 'database_fb',\n",
    "            # 'gender',\n",
    "           ]\n",
    "DATA_DROP_COLS = \\\n",
    "           ['Unnamed: 0', # index columns\n",
    "            # 'pol',  # label column\n",
    "            'gender', # self reported and filtered already\n",
    "            # 'age', # self-reported  \n",
    "            'country', # self reported and filtered already\n",
    "            'userid', # index equivalent column \n",
    "            'pol_dat_us', # redundant columns with label\n",
    "            'pol_dat_ca', # redundant columns with label\n",
    "            'pol_dat_uk', # redundant columns with label\n",
    "            'pol_fb_us', # redundant columns with label\n",
    "            'database', # filtered already \n",
    "            'ethnicity.value' # filtered already\n",
    "            ]\n",
    "RESULTS_COLS = \\\n",
    "            [\"Group Name\", \n",
    "             \"Model\", \n",
    "             \"Feature Set\", \n",
    "             \"Test AUC\", \n",
    "             \"Test Accuracy\",\n",
    "            ]\n",
    "DATA_DIR = \"./data/full/\"\n",
    "RESULTS_DIR = f\"./results/full/{GROUP_NAME}/\" #TODO: ensure that the folder exists\n",
    "RESULTS_STATS_FILENAME = GROUP_NAME + '.csv'\n",
    "RESULTS_MODEL_FILENAME_PREFIX = GROUP_NAME\n",
    "\n",
    "if SAMPLE_DATA:\n",
    "  DATA_DIR = \"./data/sample/\"\n",
    "  RESULTS_DIR = f\"./results/sample/{GROUP_NAME}/\"\n",
    "  ASSERT_DATA_SHAPE_0 = 31742\n",
    "  ASSERT_DATA_SHAPE_1 = 2092\n",
    "  DATA_DROP_COLS = DATA_DROP_COLS \\\n",
    "                  + ['Unnamed: 0.1'] #TODO: Regenerate sample with index=False and remove this\n",
    "\n",
    "if DEBUG_MODEL:\n",
    "  MODEL_DICT = \\\n",
    "            {\"NN\": {'epochs': 1} , \n",
    "             \"LR\": {'max_iter': 1}\n",
    "            }\n",
    "\n",
    "logger.debug(f\"Started the script for {GROUP_NAME}.\")"
   ],
   "outputs": [
    {
     "output_type": "stream",
     "name": "stderr",
     "text": [
      "2021-08-18 18:52:28.308 | DEBUG    | __main__:<module>:60 - Started the script for ethnicity_groups.\n"
     ]
    }
   ],
   "metadata": {}
  },
  {
   "cell_type": "code",
   "execution_count": 3,
   "source": [
    "# Read datasets\n",
    "\n",
    "folders = os.listdir(DATA_DIR)\n",
    "dataset_paths = []\n",
    "for folder in tqdm(folders):\n",
    "  logger.debug(f\"In folder {folder}.\")\n",
    "  csv_files = os.listdir(DATA_DIR + folder)\n",
    "  for csv in csv_files:\n",
    "    if '.csv' in csv:\n",
    "      logger.debug(DATA_DIR + folder + \"/\" + csv)\n",
    "      dataset_paths.append(DATA_DIR + folder + \"/\" + csv)\n"
   ],
   "outputs": [
    {
     "output_type": "stream",
     "name": "stderr",
     "text": [
      "  0%|          | 0/9 [00:00<?, ?it/s]2021-08-18 18:52:28.343 | DEBUG    | __main__:<module>:6 - In folder UK_0_dating.\n",
      "2021-08-18 18:52:28.343 | DEBUG    | __main__:<module>:10 - ./data/sample/UK_0_dating/segment_united kingdom_0_dating_black.csv\n",
      "2021-08-18 18:52:28.344 | DEBUG    | __main__:<module>:10 - ./data/sample/UK_0_dating/segment_united kingdom_0_dating_asian.csv\n",
      "2021-08-18 18:52:28.345 | DEBUG    | __main__:<module>:10 - ./data/sample/UK_0_dating/segment_united kingdom_0_dating_india.csv\n",
      "2021-08-18 18:52:28.345 | DEBUG    | __main__:<module>:10 - ./data/sample/UK_0_dating/segment_united kingdom_0_dating_white.csv\n",
      "2021-08-18 18:52:28.345 | DEBUG    | __main__:<module>:6 - In folder Canada_1_dating.\n",
      "2021-08-18 18:52:28.346 | DEBUG    | __main__:<module>:10 - ./data/sample/Canada_1_dating/segment_canada_1_dating_asian.csv\n",
      "2021-08-18 18:52:28.346 | DEBUG    | __main__:<module>:10 - ./data/sample/Canada_1_dating/segment_canada_1_dating_india.csv\n",
      "2021-08-18 18:52:28.347 | DEBUG    | __main__:<module>:10 - ./data/sample/Canada_1_dating/segment_canada_1_dating_white.csv\n",
      "2021-08-18 18:52:28.347 | DEBUG    | __main__:<module>:10 - ./data/sample/Canada_1_dating/segment_canada_1_dating_black.csv\n",
      "2021-08-18 18:52:28.347 | DEBUG    | __main__:<module>:6 - In folder US_0_dating.\n",
      "2021-08-18 18:52:28.348 | DEBUG    | __main__:<module>:10 - ./data/sample/US_0_dating/segment_united states_0_dating_india.csv\n",
      "2021-08-18 18:52:28.348 | DEBUG    | __main__:<module>:10 - ./data/sample/US_0_dating/segment_united states_0_dating_asian.csv\n",
      "2021-08-18 18:52:28.348 | DEBUG    | __main__:<module>:10 - ./data/sample/US_0_dating/segment_united states_0_dating_white.csv\n",
      "2021-08-18 18:52:28.349 | DEBUG    | __main__:<module>:10 - ./data/sample/US_0_dating/segment_united states_0_dating_black.csv\n",
      "2021-08-18 18:52:28.349 | DEBUG    | __main__:<module>:6 - In folder NO FILES.\n",
      "2021-08-18 18:52:28.350 | DEBUG    | __main__:<module>:6 - In folder Canada_0_dating.\n",
      "2021-08-18 18:52:28.350 | DEBUG    | __main__:<module>:10 - ./data/sample/Canada_0_dating/segment_canada_0_dating_asian.csv\n",
      "2021-08-18 18:52:28.350 | DEBUG    | __main__:<module>:10 - ./data/sample/Canada_0_dating/segment_canada_0_dating_india.csv\n",
      "2021-08-18 18:52:28.351 | DEBUG    | __main__:<module>:10 - ./data/sample/Canada_0_dating/segment_canada_0_dating_white.csv\n",
      "2021-08-18 18:52:28.351 | DEBUG    | __main__:<module>:10 - ./data/sample/Canada_0_dating/segment_canada_0_dating_black.csv\n",
      "2021-08-18 18:52:28.352 | DEBUG    | __main__:<module>:6 - In folder UK_1_dating.\n",
      "2021-08-18 18:52:28.354 | DEBUG    | __main__:<module>:10 - ./data/sample/UK_1_dating/segment_united kingdom_1_dating_black.csv\n",
      "2021-08-18 18:52:28.354 | DEBUG    | __main__:<module>:10 - ./data/sample/UK_1_dating/segment_united kingdom_1_dating_asian.csv\n",
      "2021-08-18 18:52:28.355 | DEBUG    | __main__:<module>:10 - ./data/sample/UK_1_dating/segment_united kingdom_1_dating_india.csv\n",
      "2021-08-18 18:52:28.355 | DEBUG    | __main__:<module>:10 - ./data/sample/UK_1_dating/segment_united kingdom_1_dating_white.csv\n",
      "2021-08-18 18:52:28.355 | DEBUG    | __main__:<module>:6 - In folder US_1_FB.\n",
      "2021-08-18 18:52:28.356 | DEBUG    | __main__:<module>:10 - ./data/sample/US_1_FB/segment_united states_1_fb_white.csv\n",
      "2021-08-18 18:52:28.356 | DEBUG    | __main__:<module>:10 - ./data/sample/US_1_FB/segment_united states_1_fb_india.csv\n",
      "2021-08-18 18:52:28.356 | DEBUG    | __main__:<module>:10 - ./data/sample/US_1_FB/segment_united states_1_fb_asian.csv\n",
      "2021-08-18 18:52:28.357 | DEBUG    | __main__:<module>:10 - ./data/sample/US_1_FB/segment_united states_1_fb_black.csv\n",
      "2021-08-18 18:52:28.357 | DEBUG    | __main__:<module>:6 - In folder US_1_dating.\n",
      "2021-08-18 18:52:28.358 | DEBUG    | __main__:<module>:10 - ./data/sample/US_1_dating/segment_united states_1_dating_india.csv\n",
      "2021-08-18 18:52:28.358 | DEBUG    | __main__:<module>:10 - ./data/sample/US_1_dating/segment_united states_1_dating_asian.csv\n",
      "2021-08-18 18:52:28.358 | DEBUG    | __main__:<module>:10 - ./data/sample/US_1_dating/segment_united states_1_dating_white.csv\n",
      "2021-08-18 18:52:28.359 | DEBUG    | __main__:<module>:10 - ./data/sample/US_1_dating/segment_united states_1_dating_black.csv\n",
      "2021-08-18 18:52:28.359 | DEBUG    | __main__:<module>:6 - In folder US_0_FB.\n",
      "2021-08-18 18:52:28.359 | DEBUG    | __main__:<module>:10 - ./data/sample/US_0_FB/segment_united states_0_fb_india.csv\n",
      "2021-08-18 18:52:28.360 | DEBUG    | __main__:<module>:10 - ./data/sample/US_0_FB/segment_united states_0_fb_asian.csv\n",
      "2021-08-18 18:52:28.360 | DEBUG    | __main__:<module>:10 - ./data/sample/US_0_FB/segment_united states_0_fb_white.csv\n",
      "2021-08-18 18:52:28.360 | DEBUG    | __main__:<module>:10 - ./data/sample/US_0_FB/segment_united states_0_fb_black.csv\n",
      "100%|██████████| 9/9 [00:00<00:00, 504.43it/s]\n"
     ]
    }
   ],
   "metadata": {}
  },
  {
   "cell_type": "code",
   "execution_count": 4,
   "source": [
    "results = []\n",
    "\n",
    "for dataset_path in dataset_paths:\n",
    "  data = pd.read_csv(dataset_path)\n",
    "  \n",
    "  # Clean the data\n",
    "  data = data.drop(DATA_DROP_COLS, axis=1)\n",
    "  data = utils.get_clean_data(data)\n",
    "  logger.debug(f\"Data size after cleaning is {data.shape}\")\n",
    "  data_y = data['pol'].replace({\"liberal\": 1, \"conservative\": 0})\n",
    "  data = data.drop('pol', axis = 1)\n",
    "  all_features = data.columns\n",
    "\n",
    "  # Split the data\n",
    "  X_train, X_test, y_train, y_test = train_test_split(data, data_y, test_size = 0.2, random_state = 2021) \n",
    "  del data, data_y\n",
    "\n",
    "  # which group it is being processed on \n",
    "  SEGMENT_NAME = utils.get_dataframe_name(dataset_path)\n",
    "  logger.debug(f\"Started the script for {SEGMENT_NAME}.\")\n",
    "  \n",
    "  ## Define features for the various settings\n",
    "  image_cols = list(map(str, range(1, 2049)))\n",
    "  image_and_self_reported_cols = image_cols + SELF_REPORTED_COLS\n",
    "  image_and_extracted_cols = [x for x in all_features if x not in SELF_REPORTED_COLS]\n",
    "  image_and_self_reported_and_extracted_cols = all_features\n",
    "\n",
    "  if SEGMENT_NAME == \"canada_1_dating_india\": # this segment does not have any \"age\" values associated with it.\n",
    "    ## Define features for the various settings\n",
    "    image_cols = list(map(str, range(1, 2049)))\n",
    "    image_and_self_reported_cols = image_cols # + SELF_REPORTED_COLS \n",
    "    image_and_extracted_cols = [x for x in all_features if x not in SELF_REPORTED_COLS]\n",
    "    image_and_self_reported_and_extracted_cols = all_features\n",
    "\n",
    "  \n",
    "  data_dict = {\n",
    "              \"Image Features\" : image_cols,\n",
    "              \"Image and Self Reported Features\" : image_and_self_reported_cols,\n",
    "              \"Image and Extracted Features\": image_and_extracted_cols,\n",
    "              \"Image, Self-reported and Extracted Features\": image_and_self_reported_and_extracted_cols\n",
    "              }\n",
    "\n",
    "\n",
    "  # Fit models and log results\n",
    "  for data_name, data_set_features in tqdm(data_dict.items()):\n",
    "    for model_name, model_params in MODEL_DICT.items():\n",
    "      try:\n",
    "        save_model_filepath = Path(RESULTS_DIR \\\n",
    "                        + SEGMENT_NAME\\\n",
    "                        + \"_\" + model_name \\\n",
    "                        + \"_\" + data_name.replace(\" \",\"_\").replace(\",\",\"\").replace(\"-\",\"_\") \\\n",
    "                        + '.mdl')\n",
    "\n",
    "        if save_model_filepath.is_file() or save_model_filepath.is_dir():\n",
    "          logger.debug(f\"{SEGMENT_NAME}, {model_name}, {data_name}: model already exists.\")\n",
    "          model = utils.read_model(model_name, save_model_filepath)\n",
    "          logger.debug(f\"{SEGMENT_NAME}, {model_name}, {data_name}: model read from disk.\")\n",
    "          \n",
    "        else:\n",
    "          logger.debug(f\"{SEGMENT_NAME}, {model_name}, {data_name}: model training started.\")\n",
    "          model = utils.fit_model(model_name,\n",
    "                                X_train[data_set_features],\n",
    "                                y_train,\n",
    "                                model_params = model_params)\n",
    "\n",
    "          utils.save_model(model, model_name, save_model_filepath)\n",
    "          logger.debug(f\"{GROUP_NAME}, {model_name}, {data_name}: model training ended and model saved.\")\n",
    "        \n",
    "        auc, acc = utils.get_metrics(model_name,\n",
    "                                     model,\n",
    "                                     X_test[data_set_features],\n",
    "                                     y_test)\n",
    "                                     \n",
    "        results.append([GROUP_NAME, model_name, data_name, auc, acc])\n",
    "        logger.debug(f\"{GROUP_NAME}, {model_name}, {data_name}: model training ended. AUC: {auc}, accuracy: {acc}\")\n",
    "      \n",
    "      except Exception as error:\n",
    "        logger.exception(error)\n",
    "        logger.error(f\"{SEGMENT_NAME}, {model_name}, {data_name}: Error occured!\")"
   ],
   "outputs": [
    {
     "output_type": "stream",
     "name": "stderr",
     "text": [
      "2021-08-18 18:52:29.467 | DEBUG    | __main__:<module>:9 - Data size after cleaning is (1000, 2076)\n",
      "2021-08-18 18:52:29.474 | DEBUG    | __main__:<module>:20 - Started the script for united kingdom_0_dating_black.\n",
      "  0%|          | 0/4 [00:00<?, ?it/s]2021-08-18 18:52:29.476 | DEBUG    | __main__:<module>:56 - united kingdom_0_dating_black, NN, Image Features: model already exists.\n"
     ]
    },
    {
     "output_type": "stream",
     "name": "stdout",
     "text": [
      "united kingdom_0_dating_black\n"
     ]
    },
    {
     "output_type": "stream",
     "name": "stderr",
     "text": [
      "2021-08-18 18:52:29.847 | DEBUG    | __main__:<module>:58 - united kingdom_0_dating_black, NN, Image Features: model read from disk.\n",
      "2021-08-18 18:52:30.098 | DEBUG    | __main__:<module>:76 - ethnicity_groups, NN, Image Features: model training ended. AUC: 58.07, accuracy: 63.5\n",
      "2021-08-18 18:52:30.099 | DEBUG    | __main__:<module>:56 - united kingdom_0_dating_black, LR, Image Features: model already exists.\n",
      "2021-08-18 18:52:30.101 | DEBUG    | __main__:<module>:58 - united kingdom_0_dating_black, LR, Image Features: model read from disk.\n",
      "2021-08-18 18:52:30.127 | DEBUG    | __main__:<module>:76 - ethnicity_groups, LR, Image Features: model training ended. AUC: 57.8, accuracy: 58.0\n",
      " 25%|██▌       | 1/4 [00:00<00:01,  1.53it/s]2021-08-18 18:52:30.128 | DEBUG    | __main__:<module>:56 - united kingdom_0_dating_black, NN, Image and Self Reported Features: model already exists.\n",
      "2021-08-18 18:52:30.427 | DEBUG    | __main__:<module>:58 - united kingdom_0_dating_black, NN, Image and Self Reported Features: model read from disk.\n",
      "2021-08-18 18:52:30.652 | DEBUG    | __main__:<module>:76 - ethnicity_groups, NN, Image and Self Reported Features: model training ended. AUC: 60.4, accuracy: 60.5\n",
      "2021-08-18 18:52:30.653 | DEBUG    | __main__:<module>:56 - united kingdom_0_dating_black, LR, Image and Self Reported Features: model already exists.\n",
      "2021-08-18 18:52:30.655 | DEBUG    | __main__:<module>:58 - united kingdom_0_dating_black, LR, Image and Self Reported Features: model read from disk.\n",
      "2021-08-18 18:52:30.679 | DEBUG    | __main__:<module>:76 - ethnicity_groups, LR, Image and Self Reported Features: model training ended. AUC: 57.99, accuracy: 58.0\n",
      " 50%|█████     | 2/4 [00:01<00:01,  1.69it/s]2021-08-18 18:52:30.680 | DEBUG    | __main__:<module>:56 - united kingdom_0_dating_black, NN, Image and Extracted Features: model already exists.\n",
      "2021-08-18 18:52:31.044 | DEBUG    | __main__:<module>:58 - united kingdom_0_dating_black, NN, Image and Extracted Features: model read from disk.\n",
      "2021-08-18 18:52:31.264 | DEBUG    | __main__:<module>:76 - ethnicity_groups, NN, Image and Extracted Features: model training ended. AUC: 50.15, accuracy: 55.5\n",
      "2021-08-18 18:52:31.265 | DEBUG    | __main__:<module>:56 - united kingdom_0_dating_black, LR, Image and Extracted Features: model already exists.\n",
      "2021-08-18 18:52:31.267 | DEBUG    | __main__:<module>:58 - united kingdom_0_dating_black, LR, Image and Extracted Features: model read from disk.\n",
      "2021-08-18 18:52:31.290 | DEBUG    | __main__:<module>:76 - ethnicity_groups, LR, Image and Extracted Features: model training ended. AUC: 60.79, accuracy: 61.0\n",
      " 75%|███████▌  | 3/4 [00:01<00:00,  1.66it/s]2021-08-18 18:52:31.291 | DEBUG    | __main__:<module>:56 - united kingdom_0_dating_black, NN, Image, Self-reported and Extracted Features: model already exists.\n",
      "2021-08-18 18:52:31.591 | DEBUG    | __main__:<module>:58 - united kingdom_0_dating_black, NN, Image, Self-reported and Extracted Features: model read from disk.\n",
      "2021-08-18 18:52:31.862 | DEBUG    | __main__:<module>:76 - ethnicity_groups, NN, Image, Self-reported and Extracted Features: model training ended. AUC: 60.38, accuracy: 59.5\n",
      "2021-08-18 18:52:31.863 | DEBUG    | __main__:<module>:56 - united kingdom_0_dating_black, LR, Image, Self-reported and Extracted Features: model already exists.\n",
      "2021-08-18 18:52:31.865 | DEBUG    | __main__:<module>:58 - united kingdom_0_dating_black, LR, Image, Self-reported and Extracted Features: model read from disk.\n",
      "2021-08-18 18:52:31.889 | DEBUG    | __main__:<module>:76 - ethnicity_groups, LR, Image, Self-reported and Extracted Features: model training ended. AUC: 60.79, accuracy: 61.5\n",
      "100%|██████████| 4/4 [00:02<00:00,  1.66it/s]\n",
      "2021-08-18 18:52:32.324 | DEBUG    | __main__:<module>:9 - Data size after cleaning is (1000, 2076)\n",
      "2021-08-18 18:52:32.330 | DEBUG    | __main__:<module>:20 - Started the script for united kingdom_0_dating_asian.\n",
      "  0%|          | 0/4 [00:00<?, ?it/s]2021-08-18 18:52:32.332 | DEBUG    | __main__:<module>:56 - united kingdom_0_dating_asian, NN, Image Features: model already exists.\n"
     ]
    },
    {
     "output_type": "stream",
     "name": "stdout",
     "text": [
      "united kingdom_0_dating_asian\n"
     ]
    },
    {
     "output_type": "stream",
     "name": "stderr",
     "text": [
      "2021-08-18 18:52:32.654 | DEBUG    | __main__:<module>:58 - united kingdom_0_dating_asian, NN, Image Features: model read from disk.\n",
      "2021-08-18 18:52:32.887 | DEBUG    | __main__:<module>:76 - ethnicity_groups, NN, Image Features: model training ended. AUC: 54.63, accuracy: 49.0\n",
      "2021-08-18 18:52:32.887 | DEBUG    | __main__:<module>:56 - united kingdom_0_dating_asian, LR, Image Features: model already exists.\n",
      "2021-08-18 18:52:32.889 | DEBUG    | __main__:<module>:58 - united kingdom_0_dating_asian, LR, Image Features: model read from disk.\n",
      "2021-08-18 18:52:32.911 | DEBUG    | __main__:<module>:76 - ethnicity_groups, LR, Image Features: model training ended. AUC: 64.87, accuracy: 62.0\n",
      " 25%|██▌       | 1/4 [00:00<00:01,  1.73it/s]2021-08-18 18:52:32.912 | DEBUG    | __main__:<module>:56 - united kingdom_0_dating_asian, NN, Image and Self Reported Features: model already exists.\n",
      "2021-08-18 18:52:33.297 | DEBUG    | __main__:<module>:58 - united kingdom_0_dating_asian, NN, Image and Self Reported Features: model read from disk.\n",
      "2021-08-18 18:52:33.522 | DEBUG    | __main__:<module>:76 - ethnicity_groups, NN, Image and Self Reported Features: model training ended. AUC: 58.81, accuracy: 55.5\n",
      "2021-08-18 18:52:33.522 | DEBUG    | __main__:<module>:56 - united kingdom_0_dating_asian, LR, Image and Self Reported Features: model already exists.\n",
      "2021-08-18 18:52:33.524 | DEBUG    | __main__:<module>:58 - united kingdom_0_dating_asian, LR, Image and Self Reported Features: model read from disk.\n",
      "2021-08-18 18:52:33.548 | DEBUG    | __main__:<module>:76 - ethnicity_groups, LR, Image and Self Reported Features: model training ended. AUC: 64.78, accuracy: 62.0\n",
      " 50%|█████     | 2/4 [00:01<00:01,  1.63it/s]2021-08-18 18:52:33.549 | DEBUG    | __main__:<module>:56 - united kingdom_0_dating_asian, NN, Image and Extracted Features: model already exists.\n",
      "2021-08-18 18:52:33.892 | DEBUG    | __main__:<module>:58 - united kingdom_0_dating_asian, NN, Image and Extracted Features: model read from disk.\n",
      "2021-08-18 18:52:34.118 | DEBUG    | __main__:<module>:76 - ethnicity_groups, NN, Image and Extracted Features: model training ended. AUC: 59.12, accuracy: 57.0\n",
      "2021-08-18 18:52:34.118 | DEBUG    | __main__:<module>:56 - united kingdom_0_dating_asian, LR, Image and Extracted Features: model already exists.\n",
      "2021-08-18 18:52:34.120 | DEBUG    | __main__:<module>:58 - united kingdom_0_dating_asian, LR, Image and Extracted Features: model read from disk.\n",
      "2021-08-18 18:52:34.145 | DEBUG    | __main__:<module>:76 - ethnicity_groups, LR, Image and Extracted Features: model training ended. AUC: 65.07, accuracy: 63.0\n",
      " 75%|███████▌  | 3/4 [00:01<00:00,  1.65it/s]2021-08-18 18:52:34.146 | DEBUG    | __main__:<module>:56 - united kingdom_0_dating_asian, NN, Image, Self-reported and Extracted Features: model already exists.\n",
      "2021-08-18 18:52:34.559 | DEBUG    | __main__:<module>:58 - united kingdom_0_dating_asian, NN, Image, Self-reported and Extracted Features: model read from disk.\n",
      "2021-08-18 18:52:34.791 | DEBUG    | __main__:<module>:76 - ethnicity_groups, NN, Image, Self-reported and Extracted Features: model training ended. AUC: 57.69, accuracy: 53.0\n",
      "2021-08-18 18:52:34.792 | DEBUG    | __main__:<module>:61 - united kingdom_0_dating_asian, LR, Image, Self-reported and Extracted Features: model training started.\n",
      "/opt/anaconda3/envs/tf/lib/python3.7/site-packages/sklearn/linear_model/_sag.py:329: ConvergenceWarning: The max_iter was reached which means the coef_ did not converge\n",
      "  \"the coef_ did not converge\", ConvergenceWarning)\n",
      "2021-08-18 18:52:34.918 | DEBUG    | __main__:<module>:68 - ethnicity_groups, LR, Image, Self-reported and Extracted Features: model training ended and model saved.\n",
      "2021-08-18 18:52:34.941 | DEBUG    | __main__:<module>:76 - ethnicity_groups, LR, Image, Self-reported and Extracted Features: model training ended. AUC: 61.38, accuracy: 60.0\n",
      "100%|██████████| 4/4 [00:02<00:00,  1.53it/s]\n",
      "2021-08-18 18:52:35.387 | DEBUG    | __main__:<module>:9 - Data size after cleaning is (1000, 2076)\n",
      "2021-08-18 18:52:35.394 | DEBUG    | __main__:<module>:20 - Started the script for united kingdom_0_dating_india.\n",
      "  0%|          | 0/4 [00:00<?, ?it/s]2021-08-18 18:52:35.396 | DEBUG    | __main__:<module>:61 - united kingdom_0_dating_india, NN, Image Features: model training started.\n"
     ]
    },
    {
     "output_type": "stream",
     "name": "stdout",
     "text": [
      "united kingdom_0_dating_india\n",
      "Train on 640 samples, validate on 160 samples\n",
      "Epoch 1/1\n",
      "640/640 [==============================] - 1s 938us/step - loss: 0.6271 - accuracy: 0.7234 - val_loss: 0.5896 - val_accuracy: 0.7437\n"
     ]
    },
    {
     "output_type": "stream",
     "name": "stderr",
     "text": [
      "2021-08-18 18:52:36.337 | DEBUG    | __main__:<module>:68 - ethnicity_groups, NN, Image Features: model training ended and model saved.\n",
      "2021-08-18 18:52:36.455 | DEBUG    | __main__:<module>:76 - ethnicity_groups, NN, Image Features: model training ended. AUC: 58.88, accuracy: 72.0\n",
      "2021-08-18 18:52:36.455 | DEBUG    | __main__:<module>:61 - united kingdom_0_dating_india, LR, Image Features: model training started.\n",
      "/opt/anaconda3/envs/tf/lib/python3.7/site-packages/sklearn/linear_model/_sag.py:329: ConvergenceWarning: The max_iter was reached which means the coef_ did not converge\n",
      "  \"the coef_ did not converge\", ConvergenceWarning)\n",
      "2021-08-18 18:52:36.578 | DEBUG    | __main__:<module>:68 - ethnicity_groups, LR, Image Features: model training ended and model saved.\n",
      "2021-08-18 18:52:36.603 | DEBUG    | __main__:<module>:76 - ethnicity_groups, LR, Image Features: model training ended. AUC: 67.68, accuracy: 71.0\n",
      " 25%|██▌       | 1/4 [00:01<00:03,  1.21s/it]2021-08-18 18:52:36.604 | DEBUG    | __main__:<module>:61 - united kingdom_0_dating_india, NN, Image and Self Reported Features: model training started.\n"
     ]
    },
    {
     "output_type": "stream",
     "name": "stdout",
     "text": [
      "Train on 640 samples, validate on 160 samples\n",
      "Epoch 1/1\n",
      "640/640 [==============================] - 1s 921us/step - loss: 0.6228 - accuracy: 0.7234 - val_loss: 0.5704 - val_accuracy: 0.7437\n"
     ]
    },
    {
     "output_type": "stream",
     "name": "stderr",
     "text": [
      "2021-08-18 18:52:37.609 | DEBUG    | __main__:<module>:68 - ethnicity_groups, NN, Image and Self Reported Features: model training ended and model saved.\n",
      "2021-08-18 18:52:37.719 | DEBUG    | __main__:<module>:76 - ethnicity_groups, NN, Image and Self Reported Features: model training ended. AUC: 52.62, accuracy: 72.0\n",
      "2021-08-18 18:52:37.720 | DEBUG    | __main__:<module>:61 - united kingdom_0_dating_india, LR, Image and Self Reported Features: model training started.\n",
      "/opt/anaconda3/envs/tf/lib/python3.7/site-packages/sklearn/linear_model/_sag.py:329: ConvergenceWarning: The max_iter was reached which means the coef_ did not converge\n",
      "  \"the coef_ did not converge\", ConvergenceWarning)\n",
      "2021-08-18 18:52:37.842 | DEBUG    | __main__:<module>:68 - ethnicity_groups, LR, Image and Self Reported Features: model training ended and model saved.\n",
      "2021-08-18 18:52:37.866 | DEBUG    | __main__:<module>:76 - ethnicity_groups, LR, Image and Self Reported Features: model training ended. AUC: 65.05, accuracy: 70.0\n",
      " 50%|█████     | 2/4 [00:02<00:02,  1.24s/it]2021-08-18 18:52:37.867 | DEBUG    | __main__:<module>:61 - united kingdom_0_dating_india, NN, Image and Extracted Features: model training started.\n"
     ]
    },
    {
     "output_type": "stream",
     "name": "stdout",
     "text": [
      "Train on 640 samples, validate on 160 samples\n",
      "Epoch 1/1\n",
      "640/640 [==============================] - 1s 928us/step - loss: 0.7017 - accuracy: 0.5766 - val_loss: 0.7495 - val_accuracy: 0.7437\n"
     ]
    },
    {
     "output_type": "stream",
     "name": "stderr",
     "text": [
      "2021-08-18 18:52:38.813 | DEBUG    | __main__:<module>:68 - ethnicity_groups, NN, Image and Extracted Features: model training ended and model saved.\n",
      "2021-08-18 18:52:38.924 | DEBUG    | __main__:<module>:76 - ethnicity_groups, NN, Image and Extracted Features: model training ended. AUC: 55.0, accuracy: 72.0\n",
      "2021-08-18 18:52:38.925 | DEBUG    | __main__:<module>:61 - united kingdom_0_dating_india, LR, Image and Extracted Features: model training started.\n",
      "/opt/anaconda3/envs/tf/lib/python3.7/site-packages/sklearn/linear_model/_sag.py:329: ConvergenceWarning: The max_iter was reached which means the coef_ did not converge\n",
      "  \"the coef_ did not converge\", ConvergenceWarning)\n",
      "2021-08-18 18:52:39.058 | DEBUG    | __main__:<module>:68 - ethnicity_groups, LR, Image and Extracted Features: model training ended and model saved.\n",
      "2021-08-18 18:52:39.082 | DEBUG    | __main__:<module>:76 - ethnicity_groups, LR, Image and Extracted Features: model training ended. AUC: 63.67, accuracy: 72.5\n",
      " 75%|███████▌  | 3/4 [00:03<00:01,  1.23s/it]2021-08-18 18:52:39.083 | DEBUG    | __main__:<module>:61 - united kingdom_0_dating_india, NN, Image, Self-reported and Extracted Features: model training started.\n"
     ]
    },
    {
     "output_type": "stream",
     "name": "stdout",
     "text": [
      "Train on 640 samples, validate on 160 samples\n",
      "Epoch 1/1\n",
      "640/640 [==============================] - 1s 916us/step - loss: 3.0049 - accuracy: 0.2781 - val_loss: 2.6456 - val_accuracy: 0.7437\n"
     ]
    },
    {
     "output_type": "stream",
     "name": "stderr",
     "text": [
      "2021-08-18 18:52:40.044 | DEBUG    | __main__:<module>:68 - ethnicity_groups, NN, Image, Self-reported and Extracted Features: model training ended and model saved.\n",
      "2021-08-18 18:52:40.157 | DEBUG    | __main__:<module>:76 - ethnicity_groups, NN, Image, Self-reported and Extracted Features: model training ended. AUC: 47.3, accuracy: 72.0\n",
      "2021-08-18 18:52:40.157 | DEBUG    | __main__:<module>:61 - united kingdom_0_dating_india, LR, Image, Self-reported and Extracted Features: model training started.\n",
      "/opt/anaconda3/envs/tf/lib/python3.7/site-packages/sklearn/linear_model/_sag.py:329: ConvergenceWarning: The max_iter was reached which means the coef_ did not converge\n",
      "  \"the coef_ did not converge\", ConvergenceWarning)\n",
      "2021-08-18 18:52:40.283 | DEBUG    | __main__:<module>:68 - ethnicity_groups, LR, Image, Self-reported and Extracted Features: model training ended and model saved.\n",
      "2021-08-18 18:52:40.310 | DEBUG    | __main__:<module>:76 - ethnicity_groups, LR, Image, Self-reported and Extracted Features: model training ended. AUC: 63.01, accuracy: 71.5\n",
      "100%|██████████| 4/4 [00:04<00:00,  1.23s/it]\n",
      "2021-08-18 18:52:40.801 | DEBUG    | __main__:<module>:9 - Data size after cleaning is (1000, 2076)\n",
      "2021-08-18 18:52:40.809 | DEBUG    | __main__:<module>:20 - Started the script for united kingdom_0_dating_white.\n",
      "  0%|          | 0/4 [00:00<?, ?it/s]2021-08-18 18:52:40.810 | DEBUG    | __main__:<module>:61 - united kingdom_0_dating_white, NN, Image Features: model training started.\n"
     ]
    },
    {
     "output_type": "stream",
     "name": "stdout",
     "text": [
      "united kingdom_0_dating_white\n",
      "Train on 640 samples, validate on 160 samples\n",
      "Epoch 1/1\n",
      "640/640 [==============================] - 1s 964us/step - loss: 0.7134 - accuracy: 0.4734 - val_loss: 0.7095 - val_accuracy: 0.4625\n"
     ]
    },
    {
     "output_type": "stream",
     "name": "stderr",
     "text": [
      "2021-08-18 18:52:41.881 | DEBUG    | __main__:<module>:68 - ethnicity_groups, NN, Image Features: model training ended and model saved.\n",
      "2021-08-18 18:52:41.999 | DEBUG    | __main__:<module>:76 - ethnicity_groups, NN, Image Features: model training ended. AUC: 54.45, accuracy: 54.5\n",
      "2021-08-18 18:52:42.000 | DEBUG    | __main__:<module>:61 - united kingdom_0_dating_white, LR, Image Features: model training started.\n",
      "/opt/anaconda3/envs/tf/lib/python3.7/site-packages/sklearn/linear_model/_sag.py:329: ConvergenceWarning: The max_iter was reached which means the coef_ did not converge\n",
      "  \"the coef_ did not converge\", ConvergenceWarning)\n",
      "2021-08-18 18:52:42.124 | DEBUG    | __main__:<module>:68 - ethnicity_groups, LR, Image Features: model training ended and model saved.\n",
      "2021-08-18 18:52:42.148 | DEBUG    | __main__:<module>:76 - ethnicity_groups, LR, Image Features: model training ended. AUC: 63.17, accuracy: 62.5\n",
      " 25%|██▌       | 1/4 [00:01<00:04,  1.34s/it]2021-08-18 18:52:42.149 | DEBUG    | __main__:<module>:61 - united kingdom_0_dating_white, NN, Image and Self Reported Features: model training started.\n"
     ]
    },
    {
     "output_type": "stream",
     "name": "stdout",
     "text": [
      "Train on 640 samples, validate on 160 samples\n",
      "Epoch 1/1\n",
      "640/640 [==============================] - 1s 1ms/step - loss: 0.7171 - accuracy: 0.4703 - val_loss: 0.6948 - val_accuracy: 0.5375\n"
     ]
    },
    {
     "output_type": "stream",
     "name": "stderr",
     "text": [
      "2021-08-18 18:52:43.200 | DEBUG    | __main__:<module>:68 - ethnicity_groups, NN, Image and Self Reported Features: model training ended and model saved.\n",
      "2021-08-18 18:52:43.343 | DEBUG    | __main__:<module>:76 - ethnicity_groups, NN, Image and Self Reported Features: model training ended. AUC: 53.79, accuracy: 59.5\n",
      "2021-08-18 18:52:43.343 | DEBUG    | __main__:<module>:61 - united kingdom_0_dating_white, LR, Image and Self Reported Features: model training started.\n",
      "/opt/anaconda3/envs/tf/lib/python3.7/site-packages/sklearn/linear_model/_sag.py:329: ConvergenceWarning: The max_iter was reached which means the coef_ did not converge\n",
      "  \"the coef_ did not converge\", ConvergenceWarning)\n",
      "2021-08-18 18:52:43.466 | DEBUG    | __main__:<module>:68 - ethnicity_groups, LR, Image and Self Reported Features: model training ended and model saved.\n",
      "2021-08-18 18:52:43.491 | DEBUG    | __main__:<module>:76 - ethnicity_groups, LR, Image and Self Reported Features: model training ended. AUC: 64.96, accuracy: 65.0\n",
      " 50%|█████     | 2/4 [00:02<00:02,  1.34s/it]2021-08-18 18:52:43.492 | DEBUG    | __main__:<module>:61 - united kingdom_0_dating_white, NN, Image and Extracted Features: model training started.\n"
     ]
    }
   ],
   "metadata": {}
  },
  {
   "cell_type": "code",
   "execution_count": null,
   "source": [
    "# Save results summary to disk\n",
    "\n",
    "save_results_filepath = Path(RESULTS_DIR + RESULTS_STATS_FILENAME)\n",
    "utils.save_results(results_array = results, \n",
    "                     location = save_results_filepath,\n",
    "                     columns = RESULTS_COLS)\n",
    "print(pd.DataFrame(results,columns = RESULTS_COLS))\n",
    "logger.debug(f\"Script for {GROUP_NAME} finished.\")"
   ],
   "outputs": [],
   "metadata": {}
  }
 ],
 "metadata": {
  "colab": {
   "collapsed_sections": [],
   "name": "Ethnicity_segments_LR.ipynb",
   "provenance": []
  },
  "kernelspec": {
   "name": "python3",
   "display_name": "Python 3.7.10 64-bit ('tf': conda)"
  },
  "language_info": {
   "codemirror_mode": {
    "name": "ipython",
    "version": 3
   },
   "file_extension": ".py",
   "mimetype": "text/x-python",
   "name": "python",
   "nbconvert_exporter": "python",
   "pygments_lexer": "ipython3",
   "version": "3.7.10"
  },
  "interpreter": {
   "hash": "10e89b4373ca82b9aa008416dbc6678ec2573a3d463e333e4d350f38af34d33f"
  }
 },
 "nbformat": 4,
 "nbformat_minor": 4
}