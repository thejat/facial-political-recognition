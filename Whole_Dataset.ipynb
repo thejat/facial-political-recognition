{
 "cells": [
  {
   "cell_type": "code",
   "execution_count": null,
   "metadata": {
    "colab": {
     "base_uri": "https://localhost:8080/"
    },
    "executionInfo": {
     "elapsed": 328,
     "status": "ok",
     "timestamp": 1628219938536,
     "user": {
      "displayName": "Babandeep Singh",
      "photoUrl": "",
      "userId": "14171741079947983888"
     },
     "user_tz": -330
    },
    "id": "0iSAbUcTbLBd",
    "outputId": "527ff0b2-f33d-493c-9969-78bf51bd09fc"
   },
   "outputs": [],
   "source": [
    "import os\n",
    "import random \n",
    "import pandas as pd\n",
    "import warnings\n",
    "import sys\n",
    "from sklearn.linear_model import LogisticRegression\n",
    "from sklearn.metrics import roc_curve\n",
    "from tqdm import tqdm\n",
    "from loguru import logger\n",
    "\n",
    "# local imports\n",
    "sys.path.append(r\"./utils\")\n",
    "from utils import utils\n",
    "\n",
    "random.seed(1234)\n",
    "warnings.filterwarnings('ignore')"
   ]
  },
  {
   "cell_type": "code",
   "execution_count": null,
   "metadata": {},
   "outputs": [],
   "source": [
    "COLAB = False\n",
    "SAMPLE = False\n",
    "DRY_RUN = False\n",
    "DATA_DIR = \"./data/full/\"\n",
    "GROUP_NAME = \"whole_dataset\"\n",
    "MODEL_LIST = [\"NN\", \"LR\"]\n",
    "RESULTS_DIR = \"./results/\"\n",
    "RESULTS_STATS_FILENAME = GROUP_NAME + '.csv'\n",
    "RESULTS_MODEL_FILENAME_PREFIX = GROUP_NAME\n",
    "\n",
    "logger.debug(f\"Started the script for{GROUP_NAME}.\")\n",
    "\n",
    "if SAMPLE:\n",
    "  DATA_DIR = \"./data/sample/\"\n",
    "\n",
    "DATA_DROP_COLS = \\\n",
    "           ['Unnamed: 0', # index columns\n",
    "           'Unnamed: 0.1', # TODO: might need to change this for bigger dataset. ,\n",
    "              # 'pol',  # label column\n",
    "              # 'gender', # self reported and filtered already\n",
    "              # 'age', # self-reported  \n",
    "              # 'country', # self reported and filtered already\n",
    "              'userid', # index equivalent column \n",
    "              'pol_dat_us', # redundant columns with label\n",
    "              'pol_dat_ca', # redundant columns with label\n",
    "              'pol_dat_uk', # redundant columns with label\n",
    "              'pol_fb_us', # redundant columns with label\n",
    "              # 'database', # filtered already \n",
    "              # 'ethnicity.value' # filtered already\n",
    "              ]"
   ]
  },
  {
   "cell_type": "code",
   "execution_count": null,
   "metadata": {},
   "outputs": [],
   "source": [
    "if COLAB:\n",
    "  from google.colab import drive\n",
    "  drive.mount('/content/drive')\n",
    "    \n",
    "  #TODO: untested for COLAB == True, more might be needed here\n",
    "  DATA_DIR = \"/content/drive/Shareddrives/Facial Recognition/data/\""
   ]
  },
  {
   "cell_type": "code",
   "execution_count": null,
   "metadata": {},
   "outputs": [],
   "source": [
    "# Read datasets\n",
    "\n",
    "folders = os.listdir(DATA_DIR)\n",
    "dataframes = []\n",
    "for folder in tqdm(folders):\n",
    "  logger.debug(f\"In folder {folder}.\")\n",
    "  csv_files = os.listdir(DATA_DIR + folder)\n",
    "  for csv in csv_files:\n",
    "    if '.csv' in csv:\n",
    "      logger.debug(DATA_DIR + folder + \"/\" + csv)\n",
    "      df = pd.read_csv(DATA_DIR + folder + \"/\" + csv)\n",
    "      dataframes.append(df)\n",
    "\n",
    "data = pd.concat(dataframes, axis = 0)\n",
    "del df, dataframes\n",
    "print(data.shape)"
   ]
  },
  {
   "cell_type": "code",
   "execution_count": null,
   "metadata": {
    "colab": {
     "base_uri": "https://localhost:8080/",
     "height": 270
    },
    "executionInfo": {
     "elapsed": 33,
     "status": "ok",
     "timestamp": 1628219967786,
     "user": {
      "displayName": "Babandeep Singh",
      "photoUrl": "",
      "userId": "14171741079947983888"
     },
     "user_tz": -330
    },
    "id": "kdjY37aIRblE",
    "outputId": "966242ef-59b0-40d5-e701-0142c5349f86"
   },
   "outputs": [],
   "source": [
    "# Fit models and log results\n",
    "\n",
    "# Clean the data\n",
    "try:\n",
    "  data = data.drop(DATA_DROP_COLS, axis=1)\n",
    "except:\n",
    "  pass\n",
    "data = utils.get_clean_data(data)\n",
    "\n",
    "# Define features for the various settings\n",
    "image_cols = list(map(str, range(1, 2049))) + ['pol']\n",
    "image_and_self_reported_cols = image_cols + ['age']\n",
    "image_and_extracted_cols = [x for x in data.columns if x != \"age\"]\n",
    "image_and_self_reported_and_extracted_cols = data.columns\n",
    "\n",
    "data_dict = {\n",
    "\"Image Features\" : image_cols,\n",
    "\"Image and Self Reported Features\" : image_and_self_reported_cols,\n",
    "\"Image and Extracted Features\": image_and_extracted_cols,\n",
    "\"Image, Self-reported and Extracted Features\": image_and_self_reported_and_extracted_cols\n",
    "}\n",
    "\n",
    "# Fit models\n",
    "results = []\n",
    "for data_name, data_set_features in tqdm(data_dict.items()):\n",
    "  for model_name in MODEL_LIST:\n",
    "    try:\n",
    "      logger.debug(f\"{GROUP_NAME}, {model_name}, {data_name}: model training started.\")\n",
    "      auc, acc, model = utils.fit_and_get_metrics(data[data_set_features], model_name, dry_run = DRY_RUN)\n",
    "      utils.save_model(model, model_name, RESULTS_DIR \\\n",
    "                       + RESULTS_MODEL_FILENAME_PREFIX \\\n",
    "                       + \"_\" + model_name \\\n",
    "                       + \"_\" + data_name.replace(\" \",\"_\").replace(\",\",\"\").replace(\"-\",\"_\") \\\n",
    "                       + '.mdl')\n",
    "      results.append([GROUP_NAME, model_name, data_name, auc, acc])\n",
    "      logger.debug(f\"{GROUP_NAME}, {model_name}, {data_name}: model training ended. AUC: {auc}, accuracy: {acc}\")\n",
    "    except:\n",
    "      logger.debug(f\"{GROUP_NAME}, {model_name}, {data_name}: Error occured!\")\n",
    "  \n",
    "utils.save_results(results_array = results, location = RESULTS_DIR + RESULTS_STATS_FILENAME)\n",
    "logger.debug(f\"Script for {GROUP_NAME} finished.\")"
   ]
  },
  {
   "cell_type": "code",
   "execution_count": null,
   "metadata": {},
   "outputs": [],
   "source": []
  }
 ],
 "metadata": {
  "accelerator": "TPU",
  "colab": {
   "collapsed_sections": [],
   "name": "Whole_Data_NN.ipynb",
   "provenance": []
  },
  "interpreter": {
   "hash": "10e89b4373ca82b9aa008416dbc6678ec2573a3d463e333e4d350f38af34d33f"
  },
  "kernelspec": {
   "display_name": "Python 3",
   "language": "python",
   "name": "python3"
  },
  "language_info": {
   "codemirror_mode": {
    "name": "ipython",
    "version": 3
   },
   "file_extension": ".py",
   "mimetype": "text/x-python",
   "name": "python",
   "nbconvert_exporter": "python",
   "pygments_lexer": "ipython3",
   "version": "3.8.11"
  }
 },
 "nbformat": 4,
 "nbformat_minor": 4
}
