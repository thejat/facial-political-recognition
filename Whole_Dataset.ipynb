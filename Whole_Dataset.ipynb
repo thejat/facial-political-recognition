{
 "cells": [
  {
   "cell_type": "code",
   "execution_count": 1,
   "metadata": {
    "colab": {
     "base_uri": "https://localhost:8080/"
    },
    "executionInfo": {
     "elapsed": 328,
     "status": "ok",
     "timestamp": 1628219938536,
     "user": {
      "displayName": "Babandeep Singh",
      "photoUrl": "",
      "userId": "14171741079947983888"
     },
     "user_tz": -330
    },
    "id": "0iSAbUcTbLBd",
    "outputId": "527ff0b2-f33d-493c-9969-78bf51bd09fc"
   },
   "outputs": [],
   "source": [
    "import os\n",
    "import random \n",
    "import pandas as pd\n",
    "import warnings\n",
    "import sys\n",
    "from sklearn.linear_model import LogisticRegression\n",
    "from sklearn.metrics import roc_curve\n",
    "from tqdm import tqdm\n",
    "from loguru import logger\n",
    "\n",
    "# local imports\n",
    "sys.path.append(r\"./utils\")\n",
    "from utils import utils\n",
    "\n",
    "random.seed(1234)\n",
    "warnings.filterwarnings('ignore')"
   ]
  },
  {
   "cell_type": "code",
   "execution_count": 2,
   "metadata": {},
   "outputs": [
    {
     "name": "stderr",
     "output_type": "stream",
     "text": [
      "2021-08-14 22:23:23.414 | DEBUG    | __main__:<module>:11 - Started the script forwhole_dataset.\n"
     ]
    }
   ],
   "source": [
    "COLAB = False\n",
    "SAMPLE = False\n",
    "DRY_RUN = False\n",
    "DATA_DIR = \"./data/full/\"\n",
    "GROUP_NAME = \"whole_dataset\"\n",
    "MODEL_LIST = [\"NN\", \"LR\"]\n",
    "RESULTS_DIR = \"./results/\"\n",
    "RESULTS_STATS_FILENAME = GROUP_NAME + '.csv'\n",
    "RESULTS_MODEL_FILENAME_PREFIX = GROUP_NAME\n",
    "\n",
    "logger.debug(f\"Started the script for{GROUP_NAME}.\")\n",
    "\n",
    "if SAMPLE:\n",
    "  DATA_DIR = \"./data/sample/\"\n",
    "\n",
    "DATA_DROP_COLS = \\\n",
    "           ['Unnamed: 0', # index columns\n",
    "           'Unnamed: 0.1', # TODO: might need to change this for bigger dataset. ,\n",
    "              # 'pol',  # label column\n",
    "              # 'gender', # self reported and filtered already\n",
    "              # 'age', # self-reported  \n",
    "              # 'country', # self reported and filtered already\n",
    "              'userid', # index equivalent column \n",
    "              'pol_dat_us', # redundant columns with label\n",
    "              'pol_dat_ca', # redundant columns with label\n",
    "              'pol_dat_uk', # redundant columns with label\n",
    "              'pol_fb_us', # redundant columns with label\n",
    "              # 'database', # filtered already \n",
    "              # 'ethnicity.value' # filtered already\n",
    "              ]"
   ]
  },
  {
   "cell_type": "code",
   "execution_count": 3,
   "metadata": {},
   "outputs": [],
   "source": [
    "if COLAB:\n",
    "  from google.colab import drive\n",
    "  drive.mount('/content/drive')\n",
    "    \n",
    "  #TODO: untested for COLAB == True, more might be needed here\n",
    "  DATA_DIR = \"/content/drive/Shareddrives/Facial Recognition/data/\""
   ]
  },
  {
   "cell_type": "code",
   "execution_count": 4,
   "metadata": {},
   "outputs": [
    {
     "name": "stderr",
     "output_type": "stream",
     "text": [
      "  0%|          | 0/9 [00:00<?, ?it/s]2021-08-14 22:23:23.425 | DEBUG    | __main__:<module>:6 - In folder NO FILES.\n",
      "2021-08-14 22:23:23.426 | DEBUG    | __main__:<module>:6 - In folder US_1_FB.\n",
      "2021-08-14 22:23:23.426 | DEBUG    | __main__:<module>:10 - ./data/full/US_1_FB/segment_united states_1_fb_white.csv\n",
      "2021-08-14 22:23:37.866 | DEBUG    | __main__:<module>:10 - ./data/full/US_1_FB/segment_united states_1_fb_asian.csv\n",
      "2021-08-14 22:23:39.492 | DEBUG    | __main__:<module>:10 - ./data/full/US_1_FB/segment_united states_1_fb_india.csv\n",
      "2021-08-14 22:23:40.457 | DEBUG    | __main__:<module>:10 - ./data/full/US_1_FB/segment_united states_1_fb_black.csv\n",
      " 22%|██▏       | 2/9 [00:21<01:15, 10.84s/it]2021-08-14 22:23:45.107 | DEBUG    | __main__:<module>:6 - In folder UK_1_dating.\n",
      "2021-08-14 22:23:45.108 | DEBUG    | __main__:<module>:10 - ./data/full/UK_1_dating/segment_united kingdom_1_dating_white.csv\n",
      "2021-08-14 22:23:50.969 | DEBUG    | __main__:<module>:10 - ./data/full/UK_1_dating/segment_united kingdom_1_dating_black.csv\n",
      "2021-08-14 22:23:52.069 | DEBUG    | __main__:<module>:10 - ./data/full/UK_1_dating/segment_united kingdom_1_dating_india.csv\n",
      "2021-08-14 22:23:52.318 | DEBUG    | __main__:<module>:10 - ./data/full/UK_1_dating/segment_united kingdom_1_dating_asian.csv\n",
      " 33%|███▎      | 3/9 [00:29<00:57,  9.52s/it]2021-08-14 22:23:52.775 | DEBUG    | __main__:<module>:6 - In folder Canada_1_dating.\n",
      "2021-08-14 22:23:52.776 | DEBUG    | __main__:<module>:10 - ./data/full/Canada_1_dating/segment_canada_1_dating_india.csv\n",
      "2021-08-14 22:23:53.212 | DEBUG    | __main__:<module>:10 - ./data/full/Canada_1_dating/segment_canada_1_dating_asian.csv\n",
      "2021-08-14 22:23:54.161 | DEBUG    | __main__:<module>:10 - ./data/full/Canada_1_dating/segment_canada_1_dating_black.csv\n",
      "2021-08-14 22:23:55.950 | DEBUG    | __main__:<module>:10 - ./data/full/Canada_1_dating/segment_canada_1_dating_white.csv\n",
      " 44%|████▍     | 4/9 [00:41<00:51, 10.35s/it]2021-08-14 22:24:04.511 | DEBUG    | __main__:<module>:6 - In folder Canada_0_dating.\n",
      "2021-08-14 22:24:04.519 | DEBUG    | __main__:<module>:10 - ./data/full/Canada_0_dating/segment_canada_0_dating_asian.csv\n",
      "2021-08-14 22:24:05.180 | DEBUG    | __main__:<module>:10 - ./data/full/Canada_0_dating/segment_canada_0_dating_india.csv\n",
      "2021-08-14 22:24:06.002 | DEBUG    | __main__:<module>:10 - ./data/full/Canada_0_dating/segment_canada_0_dating_white.csv\n",
      "2021-08-14 22:24:10.741 | DEBUG    | __main__:<module>:10 - ./data/full/Canada_0_dating/segment_canada_0_dating_black.csv\n",
      " 56%|█████▌    | 5/9 [00:48<00:37,  9.31s/it]2021-08-14 22:24:11.884 | DEBUG    | __main__:<module>:6 - In folder US_0_dating.\n",
      "2021-08-14 22:24:11.885 | DEBUG    | __main__:<module>:10 - ./data/full/US_0_dating/segment_united states_0_dating_white.csv\n",
      "2021-08-14 22:25:07.111 | DEBUG    | __main__:<module>:10 - ./data/full/US_0_dating/segment_united states_0_dating_black.csv\n",
      "2021-08-14 22:25:23.167 | DEBUG    | __main__:<module>:10 - ./data/full/US_0_dating/segment_united states_0_dating_india.csv\n",
      "2021-08-14 22:25:30.860 | DEBUG    | __main__:<module>:10 - ./data/full/US_0_dating/segment_united states_0_dating_asian.csv\n",
      " 67%|██████▋   | 6/9 [02:13<01:42, 34.30s/it]2021-08-14 22:25:36.474 | DEBUG    | __main__:<module>:6 - In folder US_0_FB.\n",
      "2021-08-14 22:25:36.482 | DEBUG    | __main__:<module>:10 - ./data/full/US_0_FB/segment_united states_0_fb_asian.csv\n",
      "2021-08-14 22:25:37.524 | DEBUG    | __main__:<module>:10 - ./data/full/US_0_FB/segment_united states_0_fb_india.csv\n",
      "2021-08-14 22:25:39.098 | DEBUG    | __main__:<module>:10 - ./data/full/US_0_FB/segment_united states_0_fb_white.csv\n",
      "2021-08-14 22:25:45.350 | DEBUG    | __main__:<module>:10 - ./data/full/US_0_FB/segment_united states_0_fb_black.csv\n",
      " 78%|███████▊  | 7/9 [02:24<00:54, 27.05s/it]2021-08-14 22:25:48.236 | DEBUG    | __main__:<module>:6 - In folder US_1_dating.\n",
      "2021-08-14 22:25:48.237 | DEBUG    | __main__:<module>:10 - ./data/full/US_1_dating/segment_united states_1_dating_asian.csv\n",
      "2021-08-14 22:25:57.895 | DEBUG    | __main__:<module>:10 - ./data/full/US_1_dating/segment_united states_1_dating_black.csv\n",
      "2021-08-14 22:26:33.108 | DEBUG    | __main__:<module>:10 - ./data/full/US_1_dating/segment_united states_1_dating_india.csv\n",
      "2021-08-14 22:26:37.597 | DEBUG    | __main__:<module>:10 - ./data/full/US_1_dating/segment_united states_1_dating_white.csv\n",
      " 89%|████████▉ | 8/9 [05:12<01:11, 71.36s/it]2021-08-14 22:28:36.043 | DEBUG    | __main__:<module>:6 - In folder UK_0_dating.\n",
      "2021-08-14 22:28:36.051 | DEBUG    | __main__:<module>:10 - ./data/full/UK_0_dating/segment_united kingdom_0_dating_black.csv\n",
      "2021-08-14 22:28:36.929 | DEBUG    | __main__:<module>:10 - ./data/full/UK_0_dating/segment_united kingdom_0_dating_india.csv\n",
      "2021-08-14 22:28:37.508 | DEBUG    | __main__:<module>:10 - ./data/full/UK_0_dating/segment_united kingdom_0_dating_white.csv\n",
      "2021-08-14 22:28:41.915 | DEBUG    | __main__:<module>:10 - ./data/full/UK_0_dating/segment_united kingdom_0_dating_asian.csv\n",
      "100%|██████████| 9/9 [05:18<00:00, 35.43s/it]\n"
     ]
    },
    {
     "name": "stdout",
     "output_type": "stream",
     "text": [
      "(1085179, 2091)\n"
     ]
    }
   ],
   "source": [
    "# Read datasets\n",
    "\n",
    "folders = os.listdir(DATA_DIR)\n",
    "dataframes = []\n",
    "for folder in tqdm(folders):\n",
    "  logger.debug(f\"In folder {folder}.\")\n",
    "  csv_files = os.listdir(DATA_DIR + folder)\n",
    "  for csv in csv_files:\n",
    "    if '.csv' in csv:\n",
    "      logger.debug(DATA_DIR + folder + \"/\" + csv)\n",
    "      df = pd.read_csv(DATA_DIR + folder + \"/\" + csv)\n",
    "      dataframes.append(df)\n",
    "\n",
    "data = pd.concat(dataframes, axis = 0)\n",
    "del df, dataframes\n",
    "print(data.shape)"
   ]
  },
  {
   "cell_type": "code",
   "execution_count": null,
   "metadata": {
    "colab": {
     "base_uri": "https://localhost:8080/",
     "height": 270
    },
    "executionInfo": {
     "elapsed": 33,
     "status": "ok",
     "timestamp": 1628219967786,
     "user": {
      "displayName": "Babandeep Singh",
      "photoUrl": "",
      "userId": "14171741079947983888"
     },
     "user_tz": -330
    },
    "id": "kdjY37aIRblE",
    "outputId": "966242ef-59b0-40d5-e701-0142c5349f86"
   },
   "outputs": [
    {
     "name": "stderr",
     "output_type": "stream",
     "text": [
      "  0%|          | 0/4 [00:00<?, ?it/s]2021-08-14 22:29:07.156 | DEBUG    | __main__:<module>:28 - whole_dataset, NN, Image Features: model training started.\n"
     ]
    }
   ],
   "source": [
    "# Fit models and log results\n",
    "\n",
    "# Clean the data\n",
    "try:\n",
    "  data = data.drop(DATA_DROP_COLS, axis=1)\n",
    "except:\n",
    "  pass\n",
    "data = utils.get_clean_data(data)\n",
    "\n",
    "# Define features for the various settings\n",
    "image_cols = list(map(str, range(1, 2049))) + ['pol']\n",
    "image_and_self_reported_cols = image_cols + ['age']\n",
    "image_and_extracted_cols = [x for x in data.columns if x != \"age\"]\n",
    "image_and_self_reported_and_extracted_cols = data.columns\n",
    "\n",
    "data_dict = {\n",
    "\"Image Features\" : image_cols,\n",
    "\"Image and Self Reported Features\" : image_and_self_reported_cols,\n",
    "\"Image and Extracted Features\": image_and_extracted_cols,\n",
    "\"Image, Self-reported and Extracted Features\": image_and_self_reported_and_extracted_cols\n",
    "}\n",
    "\n",
    "# Fit models\n",
    "results = []\n",
    "for data_name, data_set_features in tqdm(data_dict.items()):\n",
    "  for model_name in MODEL_LIST:\n",
    "    try:\n",
    "      logger.debug(f\"{GROUP_NAME}, {model_name}, {data_name}: model training started.\")\n",
    "      auc, acc, model = utils.fit_and_get_metrics(data[data_set_features], model_name, dry_run = DRY_RUN)\n",
    "      utils.save_model(model, model_name, RESULTS_DIR \\\n",
    "                       + RESULTS_MODEL_FILENAME_PREFIX \\\n",
    "                       + \"_\" + model_name \\\n",
    "                       + \"_\" + data_name.replace(\" \",\"_\").replace(\",\",\"\").replace(\"-\",\"_\") \\\n",
    "                       + '.mdl')\n",
    "      results.append([GROUP_NAME, model_name, data_name, auc, acc])\n",
    "      logger.debug(f\"{GROUP_NAME}, {model_name}, {data_name}: model training ended. AUC: {auc}, accuracy: {acc}\")\n",
    "    except:\n",
    "      logger.debug(f\"{GROUP_NAME}, {model_name}, {data_name}: Error occured!\")\n",
    "  \n",
    "utils.save_results(results_array = results, location = RESULTS_DIR + RESULTS_STATS_FILENAME)\n",
    "logger.debug(f\"Script for {GROUP_NAME} finished.\")"
   ]
  },
  {
   "cell_type": "code",
   "execution_count": null,
   "metadata": {},
   "outputs": [],
   "source": []
  }
 ],
 "metadata": {
  "accelerator": "TPU",
  "colab": {
   "collapsed_sections": [],
   "name": "Whole_Data_NN.ipynb",
   "provenance": []
  },
  "interpreter": {
   "hash": "10e89b4373ca82b9aa008416dbc6678ec2573a3d463e333e4d350f38af34d33f"
  },
  "kernelspec": {
   "display_name": "Python 3",
   "language": "python",
   "name": "python3"
  },
  "language_info": {
   "codemirror_mode": {
    "name": "ipython",
    "version": 3
   },
   "file_extension": ".py",
   "mimetype": "text/x-python",
   "name": "python",
   "nbconvert_exporter": "python",
   "pygments_lexer": "ipython3",
   "version": "3.8.11"
  }
 },
 "nbformat": 4,
 "nbformat_minor": 4
}
