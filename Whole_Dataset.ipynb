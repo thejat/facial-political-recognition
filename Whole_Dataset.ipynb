{
 "cells": [
  {
   "cell_type": "code",
   "execution_count": 1,
   "metadata": {
    "colab": {
     "base_uri": "https://localhost:8080/"
    },
    "executionInfo": {
     "elapsed": 328,
     "status": "ok",
     "timestamp": 1628219938536,
     "user": {
      "displayName": "Babandeep Singh",
      "photoUrl": "",
      "userId": "14171741079947983888"
     },
     "user_tz": -330
    },
    "id": "0iSAbUcTbLBd",
    "outputId": "527ff0b2-f33d-493c-9969-78bf51bd09fc"
   },
   "outputs": [],
   "source": [
    "import os\n",
    "import random \n",
    "import pandas as pd\n",
    "import warnings\n",
    "import sys\n",
    "from sklearn.linear_model import LogisticRegression\n",
    "from sklearn.metrics import roc_curve\n",
    "from tqdm import tqdm\n",
    "from loguru import logger\n",
    "\n",
    "# local imports\n",
    "sys.path.append(r\"./utils\")\n",
    "from utils import utils\n",
    "\n",
    "random.seed(1234)\n",
    "warnings.filterwarnings('ignore')"
   ]
  },
  {
   "cell_type": "code",
   "execution_count": 2,
   "metadata": {},
   "outputs": [
    {
     "name": "stderr",
     "output_type": "stream",
     "text": [
      "2021-08-14 21:32:52.917 | DEBUG    | __main__:<module>:10 - Script for whole_dataset\n"
     ]
    }
   ],
   "source": [
    "COLAB = False\n",
    "SAMPLE = True\n",
    "DRY_RUN = False\n",
    "DATA_DIR = \"./data/full/\"\n",
    "GROUP_NAME = \"whole_dataset\"\n",
    "MODEL_LIST = [\"NN\", \"LR\"]\n",
    "RESULTS_DIR = \"./results/\"\n",
    "RESULTS_STATS_FILENAME = GROUP_NAME + '.csv'\n",
    "RESULTS_MODEL_FILENAME_PREFIX = GROUP_NAME\n",
    "logger.debug(f\"Script for {GROUP_NAME}\")\n",
    "\n",
    "\n",
    "if SAMPLE:\n",
    "  DATA_DIR = \"./data/sample/\"\n",
    "\n",
    "DATA_DROP_COLS = \\\n",
    "           ['Unnamed: 0', # index columns\n",
    "           'Unnamed: 0.1', # TODO: might need to change this for bigger dataset. ,\n",
    "              # 'pol',  # label column\n",
    "              # 'gender', # self reported and filtered already\n",
    "              # 'age', # self-reported  \n",
    "              # 'country', # self reported and filtered already\n",
    "              'userid', # index equivalent column \n",
    "              'pol_dat_us', # redundant columns with label\n",
    "              'pol_dat_ca', # redundant columns with label\n",
    "              'pol_dat_uk', # redundant columns with label\n",
    "              'pol_fb_us', # redundant columns with label\n",
    "              # 'database', # filtered already \n",
    "              # 'ethnicity.value' # filtered already\n",
    "              ]"
   ]
  },
  {
   "cell_type": "code",
   "execution_count": 3,
   "metadata": {},
   "outputs": [],
   "source": [
    "if COLAB:\n",
    "  from google.colab import drive\n",
    "  drive.mount('/content/drive')\n",
    "    \n",
    "  #TODO: untested for COLAB == True, more might be needed here\n",
    "  DATA_DIR = \"/content/drive/Shareddrives/Facial Recognition/data/\""
   ]
  },
  {
   "cell_type": "code",
   "execution_count": 4,
   "metadata": {},
   "outputs": [
    {
     "name": "stderr",
     "output_type": "stream",
     "text": [
      "  0%|          | 0/9 [00:00<?, ?it/s]2021-08-14 21:32:52.934 | DEBUG    | __main__:<module>:6 - In folder NO FILES.\n",
      "2021-08-14 21:32:52.935 | DEBUG    | __main__:<module>:6 - In folder US_1_FB.\n",
      "2021-08-14 21:32:52.935 | DEBUG    | __main__:<module>:10 - ./data/sample/US_1_FB/segment_united states_1_fb_white.csv\n",
      "2021-08-14 21:32:53.335 | DEBUG    | __main__:<module>:10 - ./data/sample/US_1_FB/segment_united states_1_fb_asian.csv\n",
      "2021-08-14 21:32:53.704 | DEBUG    | __main__:<module>:10 - ./data/sample/US_1_FB/segment_united states_1_fb_india.csv\n",
      "2021-08-14 21:32:54.084 | DEBUG    | __main__:<module>:10 - ./data/sample/US_1_FB/segment_united states_1_fb_black.csv\n",
      " 22%|██▏       | 2/9 [00:01<00:05,  1.32it/s]2021-08-14 21:32:54.452 | DEBUG    | __main__:<module>:6 - In folder UK_1_dating.\n",
      "2021-08-14 21:32:54.453 | DEBUG    | __main__:<module>:10 - ./data/sample/UK_1_dating/segment_united kingdom_1_dating_white.csv\n",
      "2021-08-14 21:32:54.827 | DEBUG    | __main__:<module>:10 - ./data/sample/UK_1_dating/segment_united kingdom_1_dating_black.csv\n",
      "2021-08-14 21:32:55.172 | DEBUG    | __main__:<module>:10 - ./data/sample/UK_1_dating/segment_united kingdom_1_dating_india.csv\n",
      "2021-08-14 21:32:55.433 | DEBUG    | __main__:<module>:10 - ./data/sample/UK_1_dating/segment_united kingdom_1_dating_asian.csv\n",
      " 33%|███▎      | 3/9 [00:02<00:05,  1.01it/s]2021-08-14 21:32:55.765 | DEBUG    | __main__:<module>:6 - In folder Canada_1_dating.\n",
      "2021-08-14 21:32:55.766 | DEBUG    | __main__:<module>:10 - ./data/sample/Canada_1_dating/segment_canada_1_dating_india.csv\n",
      "2021-08-14 21:32:56.107 | DEBUG    | __main__:<module>:10 - ./data/sample/Canada_1_dating/segment_canada_1_dating_asian.csv\n",
      "2021-08-14 21:32:56.447 | DEBUG    | __main__:<module>:10 - ./data/sample/Canada_1_dating/segment_canada_1_dating_black.csv\n",
      "2021-08-14 21:32:56.788 | DEBUG    | __main__:<module>:10 - ./data/sample/Canada_1_dating/segment_canada_1_dating_white.csv\n",
      " 44%|████▍     | 4/9 [00:04<00:05,  1.14s/it]2021-08-14 21:32:57.163 | DEBUG    | __main__:<module>:6 - In folder Canada_0_dating.\n",
      "2021-08-14 21:32:57.164 | DEBUG    | __main__:<module>:10 - ./data/sample/Canada_0_dating/segment_canada_0_dating_asian.csv\n",
      "2021-08-14 21:32:57.512 | DEBUG    | __main__:<module>:10 - ./data/sample/Canada_0_dating/segment_canada_0_dating_india.csv\n",
      "2021-08-14 21:32:57.865 | DEBUG    | __main__:<module>:10 - ./data/sample/Canada_0_dating/segment_canada_0_dating_white.csv\n",
      "2021-08-14 21:32:58.241 | DEBUG    | __main__:<module>:10 - ./data/sample/Canada_0_dating/segment_canada_0_dating_black.csv\n",
      " 56%|█████▌    | 5/9 [00:05<00:04,  1.24s/it]2021-08-14 21:32:58.590 | DEBUG    | __main__:<module>:6 - In folder US_0_dating.\n",
      "2021-08-14 21:32:58.590 | DEBUG    | __main__:<module>:10 - ./data/sample/US_0_dating/segment_united states_0_dating_white.csv\n",
      "2021-08-14 21:32:58.977 | DEBUG    | __main__:<module>:10 - ./data/sample/US_0_dating/segment_united states_0_dating_black.csv\n",
      "2021-08-14 21:32:59.378 | DEBUG    | __main__:<module>:10 - ./data/sample/US_0_dating/segment_united states_0_dating_india.csv\n",
      "2021-08-14 21:32:59.747 | DEBUG    | __main__:<module>:10 - ./data/sample/US_0_dating/segment_united states_0_dating_asian.csv\n",
      " 67%|██████▋   | 6/9 [00:07<00:04,  1.34s/it]2021-08-14 21:33:00.131 | DEBUG    | __main__:<module>:6 - In folder US_0_FB.\n",
      "2021-08-14 21:33:00.132 | DEBUG    | __main__:<module>:10 - ./data/sample/US_0_FB/segment_united states_0_fb_asian.csv\n",
      "2021-08-14 21:33:00.500 | DEBUG    | __main__:<module>:10 - ./data/sample/US_0_FB/segment_united states_0_fb_india.csv\n",
      "2021-08-14 21:33:00.869 | DEBUG    | __main__:<module>:10 - ./data/sample/US_0_FB/segment_united states_0_fb_white.csv\n",
      "2021-08-14 21:33:01.240 | DEBUG    | __main__:<module>:10 - ./data/sample/US_0_FB/segment_united states_0_fb_black.csv\n",
      " 78%|███████▊  | 7/9 [00:08<00:02,  1.39s/it]2021-08-14 21:33:01.614 | DEBUG    | __main__:<module>:6 - In folder US_1_dating.\n",
      "2021-08-14 21:33:01.615 | DEBUG    | __main__:<module>:10 - ./data/sample/US_1_dating/segment_united states_1_dating_asian.csv\n",
      "2021-08-14 21:33:01.993 | DEBUG    | __main__:<module>:10 - ./data/sample/US_1_dating/segment_united states_1_dating_black.csv\n",
      "2021-08-14 21:33:02.383 | DEBUG    | __main__:<module>:10 - ./data/sample/US_1_dating/segment_united states_1_dating_india.csv\n",
      "2021-08-14 21:33:02.748 | DEBUG    | __main__:<module>:10 - ./data/sample/US_1_dating/segment_united states_1_dating_white.csv\n",
      " 89%|████████▉ | 8/9 [00:10<00:01,  1.42s/it]2021-08-14 21:33:03.119 | DEBUG    | __main__:<module>:6 - In folder UK_0_dating.\n",
      "2021-08-14 21:33:03.119 | DEBUG    | __main__:<module>:10 - ./data/sample/UK_0_dating/segment_united kingdom_0_dating_black.csv\n",
      "2021-08-14 21:33:03.462 | DEBUG    | __main__:<module>:10 - ./data/sample/UK_0_dating/segment_united kingdom_0_dating_india.csv\n",
      "2021-08-14 21:33:03.793 | DEBUG    | __main__:<module>:10 - ./data/sample/UK_0_dating/segment_united kingdom_0_dating_white.csv\n",
      "2021-08-14 21:33:04.178 | DEBUG    | __main__:<module>:10 - ./data/sample/UK_0_dating/segment_united kingdom_0_dating_asian.csv\n",
      "100%|██████████| 9/9 [00:11<00:00,  1.29s/it]\n"
     ]
    },
    {
     "name": "stdout",
     "output_type": "stream",
     "text": [
      "(31742, 2092)\n"
     ]
    }
   ],
   "source": [
    "# Read datasets\n",
    "\n",
    "folders = os.listdir(DATA_DIR)\n",
    "dataframes = []\n",
    "for folder in tqdm(folders):\n",
    "  logger.debug(f\"In folder {folder}.\")\n",
    "  csv_files = os.listdir(DATA_DIR + folder)\n",
    "  for csv in csv_files:\n",
    "    if '.csv' in csv:\n",
    "      logger.debug(DATA_DIR + folder + \"/\" + csv)\n",
    "      df = pd.read_csv(DATA_DIR + folder + \"/\" + csv)\n",
    "      dataframes.append(df)\n",
    "\n",
    "data = pd.concat(dataframes, axis = 0)\n",
    "print(data.shape)"
   ]
  },
  {
   "cell_type": "code",
   "execution_count": null,
   "metadata": {
    "colab": {
     "base_uri": "https://localhost:8080/",
     "height": 270
    },
    "executionInfo": {
     "elapsed": 33,
     "status": "ok",
     "timestamp": 1628219967786,
     "user": {
      "displayName": "Babandeep Singh",
      "photoUrl": "",
      "userId": "14171741079947983888"
     },
     "user_tz": -330
    },
    "id": "kdjY37aIRblE",
    "outputId": "966242ef-59b0-40d5-e701-0142c5349f86"
   },
   "outputs": [
    {
     "name": "stderr",
     "output_type": "stream",
     "text": [
      "  0%|          | 0/4 [00:00<?, ?it/s]"
     ]
    },
    {
     "name": "stdout",
     "output_type": "stream",
     "text": [
      "INFO:tensorflow:Assets written to: ./results/whole_dataset_NN_Image_Features.mdl/assets\n"
     ]
    },
    {
     "name": "stderr",
     "output_type": "stream",
     "text": [
      "2021-08-14 21:33:53.620 | DEBUG    | __main__:<module>:33 - whole_dataset, NN, Image Features, 68.55, 68.5\n"
     ]
    }
   ],
   "source": [
    "# Fit models and log results\n",
    "\n",
    "# Define features\n",
    "only_image_cols = list(map(str, range(1, 2049))) + ['pol']\n",
    "image_self_reported = only_image_cols + ['age']\n",
    "\n",
    "# Clean the data\n",
    "try:\n",
    "  data = data.drop(DATA_DROP_COLS, axis=1)\n",
    "except:\n",
    "  pass\n",
    "data = utils.get_clean_data(data)\n",
    "\n",
    "# Fit models\n",
    "results = []\n",
    "try:\n",
    "  dataframe_dict = {\n",
    "  \"Image Features\" : data[only_image_cols],\n",
    "  \"Image and Self Reported Features\" : data[image_self_reported],\n",
    "  \"Image and Extracted Features\": data.drop(\"age\",axis = 1),\n",
    "  \"Image, Self-reported and Extracted Features\": data\n",
    "  }\n",
    "\n",
    "  for data_name, data_set in tqdm(dataframe_dict.items()):\n",
    "    for model_name in MODEL_LIST:\n",
    "      auc, acc, model = utils.fit_and_get_metrics(data_set, model_name, dry_run = DRY_RUN)\n",
    "      utils.save_model(model, model_name, RESULTS_DIR \\\n",
    "                       + RESULTS_MODEL_FILENAME_PREFIX \\\n",
    "                       + \"_\" + model_name \\\n",
    "                       + \"_\" + data_name.replace(\" \",\"_\").replace(\",\",\"\").replace(\"-\",\"_\") \\\n",
    "                       + '.mdl')\n",
    "      results.append([GROUP_NAME, model_name, data_name, auc, acc])\n",
    "      logger.debug(f\"{GROUP_NAME}, {model_name}, {data_name}, {auc}, {acc}\")\n",
    "except:\n",
    "  pass\n",
    "  \n",
    "utils.save_results(results_array = results, location = RESULTS_DIR + RESULTS_STATS_FILENAME)\n",
    "logger.debug(f\"Script for {GROUP_NAME} finished.\")"
   ]
  },
  {
   "cell_type": "code",
   "execution_count": null,
   "metadata": {},
   "outputs": [],
   "source": []
  }
 ],
 "metadata": {
  "accelerator": "TPU",
  "colab": {
   "collapsed_sections": [],
   "name": "Whole_Data_NN.ipynb",
   "provenance": []
  },
  "interpreter": {
   "hash": "10e89b4373ca82b9aa008416dbc6678ec2573a3d463e333e4d350f38af34d33f"
  },
  "kernelspec": {
   "display_name": "Python 3",
   "language": "python",
   "name": "python3"
  },
  "language_info": {
   "codemirror_mode": {
    "name": "ipython",
    "version": 3
   },
   "file_extension": ".py",
   "mimetype": "text/x-python",
   "name": "python",
   "nbconvert_exporter": "python",
   "pygments_lexer": "ipython3",
   "version": "3.8.11"
  }
 },
 "nbformat": 4,
 "nbformat_minor": 4
}
