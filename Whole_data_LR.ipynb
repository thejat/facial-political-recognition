{
 "cells": [
  {
   "cell_type": "code",
   "execution_count": null,
   "metadata": {
    "colab": {
     "base_uri": "https://localhost:8080/"
    },
    "executionInfo": {
     "elapsed": 35302,
     "status": "ok",
     "timestamp": 1628221836857,
     "user": {
      "displayName": "Babandeep Singh",
      "photoUrl": "",
      "userId": "14171741079947983888"
     },
     "user_tz": -330
    },
    "id": "IGzNWI5xsm4D",
    "outputId": "003ba21d-a844-4986-9f6a-0b8953426f7b"
   },
   "outputs": [
    {
     "name": "stdout",
     "output_type": "stream",
     "text": [
      "Mounted at /content/drive\n"
     ]
    }
   ],
   "source": [
    "from google.colab import drive\n",
    "drive.mount('/content/drive')\n",
    "\n",
    "import os \n",
    "os.chdir(\"/content/drive/Shareddrives/Facial Recognition/whole dataset/\")\n",
    "\n",
    "from utils import get_accuracy\n",
    "\n",
    "from sklearn.linear_model import LogisticRegression\n",
    "from sklearn.metrics import roc_curve\n",
    "\n",
    "import os\n",
    "import random \n",
    "random.seed(1234)\n",
    "import pandas as pd\n",
    "\n",
    "import warnings\n",
    "warnings.filterwarnings('ignore')\n"
   ]
  },
  {
   "cell_type": "markdown",
   "metadata": {
    "id": "bg3zISSFsm4G"
   },
   "source": [
    "# Getting the data"
   ]
  },
  {
   "cell_type": "code",
   "execution_count": null,
   "metadata": {
    "id": "LbtQu6okxgoO"
   },
   "outputs": [],
   "source": [
    "def clean_data(data):\n",
    "    # data planning \n",
    "\n",
    "  drop_col = ['Unnamed: 0', # index columns\n",
    "              # 'pol',  # label column\n",
    "              # 'gender', # self reported and filtered already\n",
    "              # 'age', # self-reported  \n",
    "              # 'country', # self reported and filtered already\n",
    "              'userid', # index equivalent column \n",
    "              'pol_dat_us', # redundant columns with label\n",
    "              'pol_dat_ca', # redundant columns with label\n",
    "              'pol_dat_uk', # redundant columns with label\n",
    "              'pol_fb_us', # redundant columns with label\n",
    "              # 'database', # filtered already \n",
    "              # 'ethnicity.value' # filtered already\n",
    "              ]\n",
    "\n",
    "  data = data.drop(drop_col,axis =1)\n",
    "\n",
    "  \"\"\"# data cleaning \"\"\"\n",
    "\n",
    "  # gender replacing with <unk> \n",
    "  # replacing other columns with mean values of the age and 5 big personality traits \n",
    "  for col in data.loc[:, data.isna().any()].columns:\n",
    "      data[col] = data[col].fillna(data[col].mean())\n",
    "\n",
    "  data = data.drop(data.columns[data.isna().any()].tolist(), axis =1)\n",
    "\n",
    "  return data"
   ]
  },
  {
   "cell_type": "code",
   "execution_count": null,
   "metadata": {
    "id": "dMqY0HerRrW0"
   },
   "outputs": [],
   "source": [
    "def save_results(arr):\n",
    "  # saving the results \n",
    "  results_df = pd.DataFrame(arr, columns = [\"Features\",\"Test AUC\",\"Test Accuracy\"])\n",
    "  results_file_loc = \"/content/drive/Shareddrives/Facial Recognition/whole dataset/results/LR_complete.csv\"\n",
    "  results_df.to_csv(results_file_loc, index=False)\n",
    "  print(\"Results Saved !!\")\n"
   ]
  },
  {
   "cell_type": "code",
   "execution_count": null,
   "metadata": {
    "id": "bTGHIUnZUA9J"
   },
   "outputs": [],
   "source": [
    "data_directory = \"/content/drive/Shareddrives/Facial Recognition/data/\"\n",
    "\n",
    "folders = os.listdir(data_directory)\n",
    "results = []\n",
    "for folder in folders:\n",
    "  csv_files = os.listdir(data_directory + folder)\n",
    "  for csv in csv_files:\n",
    "    if csv[-3:] == \"csv\":\n",
    "      file = data_directory+folder+\"/\"+csv\n",
    "      df = pd.read_csv(file)\n",
    "      results.append(df)\n",
    "\n",
    "data = pd.concat(results, axis=0)"
   ]
  },
  {
   "cell_type": "code",
   "execution_count": null,
   "metadata": {
    "id": "2t-Ep4GSjTZ0"
   },
   "outputs": [],
   "source": [
    "# drop columns and missing value handling\n",
    "data = clean_data(df)"
   ]
  },
  {
   "cell_type": "code",
   "execution_count": null,
   "metadata": {
    "id": "22dLVo7ajTVz"
   },
   "outputs": [],
   "source": [
    "label_df = data['pol']\n",
    "\n",
    "# image features \n",
    "image_cols = list(map(str, range(1,2049)))\n",
    "image_feature_df = data[image_cols]\n",
    "img_df = pd.concat([label_df,image_feature_df], axis =1)\n",
    "\n",
    "# image and self reported \n",
    "SR_df = data[['age','gender','country']]\n",
    "cat_cols = SR_df.select_dtypes(include=['object']).columns\n",
    "num_df = pd.get_dummies(SR_df[list(cat_cols)])\n",
    "SR_df = pd.concat([SR_df.drop(cat_cols,axis =1),num_df],axis =1)\n",
    "img_SR_df = pd.concat([img_df, SR_df ], axis =1)\n",
    "\n",
    "# image and extracted features \n",
    "extracted_df = data.drop([ 'age','gender','country','pol'], axis =1)\n",
    "cat_cols = extracted_df.select_dtypes(include=['object']).columns\n",
    "num_df = pd.get_dummies(extracted_df[list(cat_cols)])\n",
    "extracted_df = pd.concat([label_df,extracted_df.drop(cat_cols,axis =1),num_df], axis =1)\n",
    "\n",
    "# extracted features and self_reported (whole dataset)\n",
    "EX_SR_df = pd.concat([ SR_df, extracted_df ], axis =1)"
   ]
  },
  {
   "cell_type": "code",
   "execution_count": null,
   "metadata": {
    "id": "cAzWabmijzEB"
   },
   "outputs": [],
   "source": [
    "lr = LogisticRegression(penalty='l1',solver=\"saga\")"
   ]
  },
  {
   "cell_type": "code",
   "execution_count": null,
   "metadata": {
    "id": "2Lb2MmIpjTIC"
   },
   "outputs": [],
   "source": [
    "results = []"
   ]
  },
  {
   "cell_type": "code",
   "execution_count": null,
   "metadata": {
    "colab": {
     "base_uri": "https://localhost:8080/"
    },
    "executionInfo": {
     "elapsed": 203064,
     "status": "ok",
     "timestamp": 1628222061720,
     "user": {
      "displayName": "Babandeep Singh",
      "photoUrl": "",
      "userId": "14171741079947983888"
     },
     "user_tz": -330
    },
    "id": "VOZvUltGjTF8",
    "outputId": "bd258892-805c-4e21-d92b-ddb283e36602"
   },
   "outputs": [
    {
     "name": "stdout",
     "output_type": "stream",
     "text": [
      "64.0 | 60.0 | 16992\n",
      "64.0 | 59.0 | 16992\n",
      "68.0 | 63.0 | 16992\n",
      "63.0 | 60.0 | 16992\n",
      "Results Saved !!\n"
     ]
    }
   ],
   "source": [
    "# getting accuracies \n",
    "feature_auc, feature_acc, feature_samples = get_accuracy(data =img_df, model = lr)\n",
    "print(feature_auc, feature_acc, feature_samples, sep = \" | \")\n",
    "res = [\"Only Image Features\",feature_auc, feature_acc]\n",
    "results.append(res)\n",
    "\n",
    "# getting accuracies \n",
    "feature_auc, feature_acc, feature_samples = get_accuracy(data =img_SR_df, model = lr)\n",
    "print(feature_auc, feature_acc, feature_samples, sep = \" | \")\n",
    "res = [\"Image and Self-reported Features\",feature_auc, feature_acc]\n",
    "results.append(res)\n",
    "\n",
    "# getting accuracies \n",
    "feature_auc, feature_acc, feature_samples = get_accuracy(data=extracted_df, model = lr)\n",
    "print(feature_auc, feature_acc, feature_samples, sep = \" | \")\n",
    "res = [\"Image and Extracted Features\",feature_auc, feature_acc]\n",
    "results.append(res)\n",
    "\n",
    "# getting accuracies \n",
    "feature_auc, feature_acc, feature_samples = get_accuracy(data =EX_SR_df, model = lr)\n",
    "print(feature_auc, feature_acc, feature_samples, sep = \" | \")\n",
    "res = [\"Image, SR and Extracted Features\",feature_auc, feature_acc]\n",
    "results.append(res)\n",
    "\n",
    "# saving the results \n",
    "save_results(results)"
   ]
  },
  {
   "cell_type": "code",
   "execution_count": null,
   "metadata": {
    "id": "ioD7FwrFjTDp"
   },
   "outputs": [],
   "source": []
  },
  {
   "cell_type": "code",
   "execution_count": null,
   "metadata": {
    "id": "5AufnWwyjTBF"
   },
   "outputs": [],
   "source": []
  }
 ],
 "metadata": {
  "colab": {
   "collapsed_sections": [],
   "name": "Whole_data_LR.ipynb",
   "provenance": []
  },
  "kernelspec": {
   "display_name": "Python 3",
   "language": "python",
   "name": "python3"
  },
  "language_info": {
   "codemirror_mode": {
    "name": "ipython",
    "version": 3
   },
   "file_extension": ".py",
   "mimetype": "text/x-python",
   "name": "python",
   "nbconvert_exporter": "python",
   "pygments_lexer": "ipython3",
   "version": "3.8.5"
  }
 },
 "nbformat": 4,
 "nbformat_minor": 4
}
