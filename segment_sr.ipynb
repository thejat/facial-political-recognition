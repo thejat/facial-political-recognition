{
 "cells": [
  {
   "cell_type": "code",
   "execution_count": 1,
   "source": [
    "import os\n",
    "import random \n",
    "import pandas as pd\n",
    "import warnings\n",
    "import sys\n",
    "from sklearn.linear_model import LogisticRegression\n",
    "from sklearn.metrics import roc_curve\n",
    "from tqdm import tqdm\n",
    "\n",
    "# local imports\n",
    "sys.path.append(r\"./utils\")\n",
    "from utils import utils\n",
    "\n",
    "random.seed(1234)\n",
    "warnings.filterwarnings('ignore')"
   ],
   "outputs": [
    {
     "output_type": "stream",
     "name": "stderr",
     "text": [
      "Using TensorFlow backend.\n"
     ]
    }
   ],
   "metadata": {}
  },
  {
   "cell_type": "code",
   "execution_count": 2,
   "source": [
    "COLAB = False\n",
    "DEBUG = True\n",
    "DATA_DIR = \"./data/full/\"\n",
    "results_file_loc = \"results/Model results/segment_results.csv\"\n",
    "\n",
    "if DEBUG:\n",
    "    DATA_DIR = \"./data/sample/\"\n",
    "\n",
    "DATA_DROP_COLS = \\\n",
    "           ['Unnamed: 0', # index columns\n",
    "           \n",
    "            'gender', # self reported and filtered already\n",
    "            'country', # self reported and filtered already\n",
    "            'userid', # index equivalent column \n",
    "            'pol_dat_us', # redundant columns with label\n",
    "            'pol_dat_ca', # redundant columns with label\n",
    "            'pol_dat_uk', # redundant columns with label\n",
    "            'pol_fb_us', # redundant columns with label\n",
    "            'database', # filtered already \n",
    "            # 'ethnicity.value' # filtered already\n",
    "            ]"
   ],
   "outputs": [],
   "metadata": {}
  },
  {
   "cell_type": "code",
   "execution_count": 3,
   "source": [
    "if COLAB:\n",
    "  from google.colab import drive\n",
    "  drive.mount('/content/drive')\n",
    "    \n",
    "  #TODO: untested for COLAB == True, more might be needed here\n",
    "  DATA_DIR = \"/content/drive/Shareddrives/Facial Recognition/data/\""
   ],
   "outputs": [],
   "metadata": {}
  },
  {
   "cell_type": "code",
   "execution_count": 4,
   "source": [
    "# List of data file paths\n",
    "\n",
    "folders = os.listdir(DATA_DIR)\n",
    "dataset_paths = []\n",
    "results = []\n",
    "problematic_data = []\n",
    "for folder in tqdm(folders):\n",
    "  \n",
    "  if folder != \"NO FILES\":\n",
    "    # which group it is being processed on \n",
    "    group_name = folder\n",
    "    \n",
    "    only_image_cols = list(map(str, range(1,2049))) + ['pol']\n",
    "    image_self_reported = only_image_cols + ['age']\n",
    "    data = utils.get_segment_dataframe(segment_to_run = folder)\n",
    "\n",
    "    data = data.drop(DATA_DROP_COLS,axis=1)\n",
    "\n",
    "    data = utils.get_clean_data(data)\n",
    "\n",
    "    try:\n",
    "      dataframe_dict = {\n",
    "      \"Only Image Features\" : data[only_image_cols],\n",
    "      \"Image and Self Reported Features\" : data[image_self_reported],\n",
    "      \"Image and extracted Features\":data.drop(\"age\",axis = 1),\n",
    "      \"Image, Self-reported and Extracted Features\": data\n",
    "    }\n",
    "    \n",
    "      for data_name, data_set in dataframe_dict.items():\n",
    "        for model_name in [\"NN\",\"LR\"]:\n",
    "          auc, acc = utils.fit_and_get_metrics(data_set, model_name)\n",
    "          results.append([group_name,model_name,data_name,auc,acc])\n",
    "    except:\n",
    "      problematic_data.append([group_name]) # DEBUG to check if the dataframe is off somewhere. \n",
    "      \n",
    "  # break\n",
    "\n",
    "utils.save_results(results_array=results, location=results_file_loc)\n",
    "\n",
    "if problematic_data:\n",
    "  print(problematic_data)\n",
    "    "
   ],
   "outputs": [
    {
     "output_type": "stream",
     "name": "stderr",
     "text": [
      "100%|██████████| 9/9 [10:40<00:00, 71.19s/it]"
     ]
    },
    {
     "output_type": "stream",
     "name": "stdout",
     "text": [
      " Segment Results Saved !!\n",
      "[]\n"
     ]
    },
    {
     "output_type": "stream",
     "name": "stderr",
     "text": [
      "\n"
     ]
    }
   ],
   "metadata": {}
  },
  {
   "cell_type": "code",
   "execution_count": 6,
   "source": [],
   "outputs": [
    {
     "output_type": "stream",
     "name": "stdout",
     "text": [
      "hell\n"
     ]
    }
   ],
   "metadata": {}
  },
  {
   "cell_type": "code",
   "execution_count": null,
   "source": [],
   "outputs": [],
   "metadata": {}
  }
 ],
 "metadata": {
  "orig_nbformat": 4,
  "language_info": {
   "name": "python",
   "version": "3.7.10",
   "mimetype": "text/x-python",
   "codemirror_mode": {
    "name": "ipython",
    "version": 3
   },
   "pygments_lexer": "ipython3",
   "nbconvert_exporter": "python",
   "file_extension": ".py"
  },
  "kernelspec": {
   "name": "python3",
   "display_name": "Python 3.7.10 64-bit ('tf': conda)"
  },
  "interpreter": {
   "hash": "10e89b4373ca82b9aa008416dbc6678ec2573a3d463e333e4d350f38af34d33f"
  }
 },
 "nbformat": 4,
 "nbformat_minor": 2
}